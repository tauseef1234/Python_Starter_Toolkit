{
 "cells": [
  {
   "cell_type": "markdown",
   "metadata": {},
   "source": [
    "# Python for Data Science and Machine Learning - Part 4\n",
    "\n",
    "----"
   ]
  },
  {
   "cell_type": "markdown",
   "metadata": {
    "application/vnd.databricks.v1+cell": {
     "inputWidgets": {},
     "nuid": "3e89c394-8864-4974-b446-278c1ab29799",
     "showTitle": false,
     "title": ""
    }
   },
   "source": [
    "## Object-Oriented Programming (OOP) in Python"
   ]
  },
  {
   "cell_type": "markdown",
   "metadata": {
    "application/vnd.databricks.v1+cell": {
     "inputWidgets": {},
     "nuid": "7bf68754-ac3e-4f3c-abbc-9f20cd8f06ca",
     "showTitle": false,
     "title": ""
    }
   },
   "source": [
    "Object-oriented programming is a programming paradigm that provides a means of structuring programs so that properties and behaviors are bundled into individual objects. In simple words, It is used to structure a software program into simple, reusable pieces of code blueprints (usually called classes), which are used to create individual instances of objects."
   ]
  },
  {
   "cell_type": "markdown",
   "metadata": {
    "application/vnd.databricks.v1+cell": {
     "inputWidgets": {},
     "nuid": "6115538b-1aee-4fea-8fa2-f80cd98b6acf",
     "showTitle": false,
     "title": ""
    }
   },
   "source": [
    "## Classes and Objects\n",
    "\n",
    "Classes and objects are the two main aspects of object-oriented programming.\n",
    "\n",
    "A class is the blueprint from which individual objects are created. In the real world, for example, there may be thousands of cars in existence, all of the same make and model.\n",
    "\n",
    "<img src = 'https://www.learnbyexample.org/wp-content/uploads/python/Class-Object-Illustration.png'>\n",
    "\n",
    "Each car was built from the same set of blueprints and therefore contains the same components. In object-oriented terms, we say that your car is an instance (object) of the class Car."
   ]
  },
  {
   "cell_type": "markdown",
   "metadata": {
    "application/vnd.databricks.v1+cell": {
     "inputWidgets": {},
     "nuid": "5111a653-45b5-4142-946e-c26a43eb4e87",
     "showTitle": false,
     "title": ""
    }
   },
   "source": [
    "**Create a Class**\n",
    "\n",
    "To create a custom object in Python, a class has to be defined first using the keyword `class`. For example, if we want to create objects to represent information about cars, first we will need to define a class called Car."
   ]
  },
  {
   "cell_type": "code",
   "execution_count": 0,
   "metadata": {
    "application/vnd.databricks.v1+cell": {
     "inputWidgets": {},
     "nuid": "b4c122ba-799b-4527-9de3-efbfb54ed5bc",
     "showTitle": false,
     "title": ""
    }
   },
   "outputs": [],
   "source": [
    "class Car:\n",
    "    pass"
   ]
  },
  {
   "cell_type": "markdown",
   "metadata": {
    "application/vnd.databricks.v1+cell": {
     "inputWidgets": {},
     "nuid": "ee1f191a-3b68-4c41-9013-fb3ca88b8dba",
     "showTitle": false,
     "title": ""
    }
   },
   "source": [
    "**The `__init__()` Method**\n",
    "\n",
    "`__init__()` is the special method that initializes an individual object. This method runs automatically each time an object of a class is created and tells python what the initial __state__ (that is, the initial values of the object’s\n",
    "properties) of the object should be."
   ]
  },
  {
   "cell_type": "code",
   "execution_count": 0,
   "metadata": {
    "application/vnd.databricks.v1+cell": {
     "inputWidgets": {},
     "nuid": "9e329951-006c-4126-8798-f3dd6a434776",
     "showTitle": false,
     "title": ""
    }
   },
   "outputs": [],
   "source": [
    "class Car:\n",
    "    \n",
    "    # initializer\n",
    "    def __init__(self):\n",
    "        pass"
   ]
  },
  {
   "cell_type": "markdown",
   "metadata": {
    "application/vnd.databricks.v1+cell": {
     "inputWidgets": {},
     "nuid": "4d429297-0d13-4cbf-a9c5-7c849f9d112e",
     "showTitle": false,
     "title": ""
    }
   },
   "source": [
    "**The self parameter**\n",
    "\n",
    "The `self` parameter refers to the individual object itself. It is used to fetch or set attributes of the particular instance. This parameter doesn’t have to be called `self`, you can call it whatever you want, but it is standard practice, and you should probably stick with it."
   ]
  },
  {
   "cell_type": "markdown",
   "metadata": {
    "application/vnd.databricks.v1+cell": {
     "inputWidgets": {},
     "nuid": "9aec7332-f72a-4923-973a-7007ea931bf4",
     "showTitle": false,
     "title": ""
    }
   },
   "source": [
    "**Attributes**\n",
    "\n",
    "Every class you write in Python has two basic features: attributes and methods.\n",
    "\n",
    "Attributes are the individual things that differentiate one object from another. They determine the appearance, state, or other qualities of that object.\n",
    "\n",
    "In our case, the 'Car' class might have the following attributes:\n",
    "\n",
    "- Style: Sedan, SUV, Coupe\n",
    "- Color: Silver, Black, White\n",
    "- Wheels: Four\n",
    "\n",
    "There are two types of attributes: instance attributes and class attributes"
   ]
  },
  {
   "cell_type": "markdown",
   "metadata": {
    "application/vnd.databricks.v1+cell": {
     "inputWidgets": {},
     "nuid": "6ee76a85-b4ca-4f2c-a0fd-140d3f381e11",
     "showTitle": false,
     "title": ""
    }
   },
   "source": [
    "**Instance Attributes**\n",
    "\n",
    "The instance attribute is a variable that is unique to each object (instance). Every object of that class has its own copy of that variable. Any changes made to the variable don’t reflect in other objects of that class.\n",
    "\n",
    "After the self argument, we can specify any other arguments required to create an instance of the class.The following updated definition of the Car() class shows how to write an `.__init__()` method that creates two instance attributes: .color and .style. Each car has a specific color and style."
   ]
  },
  {
   "cell_type": "code",
   "execution_count": 0,
   "metadata": {
    "application/vnd.databricks.v1+cell": {
     "inputWidgets": {},
     "nuid": "227b6086-c835-4a4d-9426-998c8dde706d",
     "showTitle": false,
     "title": ""
    }
   },
   "outputs": [],
   "source": [
    "# A class with two instance attributes\n",
    "class Car:\n",
    "\n",
    "    # initializer with instance attributes\n",
    "    def __init__(self, color, style):\n",
    "        self.color = color\n",
    "        self.style = style"
   ]
  },
  {
   "cell_type": "markdown",
   "metadata": {
    "application/vnd.databricks.v1+cell": {
     "inputWidgets": {},
     "nuid": "732c2e62-96fc-4daa-9c6d-bde9c374749c",
     "showTitle": false,
     "title": ""
    }
   },
   "source": [
    "**Class Attribute**\n",
    "\n",
    "The class attribute is a variable that is same for all objects. And there’s only one copy of that variable that is shared with all objects. Any changes made to that variable will reflect in all other objects.\n",
    "\n",
    "In the case of our Car() class, each car has 4 wheels. So while each car has a unique style and color, every car will have 4 wheels."
   ]
  },
  {
   "cell_type": "code",
   "execution_count": 0,
   "metadata": {
    "application/vnd.databricks.v1+cell": {
     "inputWidgets": {},
     "nuid": "0c26de4c-b158-4613-ad08-e68bb17676b3",
     "showTitle": false,
     "title": ""
    }
   },
   "outputs": [],
   "source": [
    "# A class with one class attribute\n",
    "class Car:\n",
    "\n",
    "    # class attribute\n",
    "    wheels = 4\n",
    "\n",
    "    # initializer with instance attributes\n",
    "    def __init__(self, color, style):\n",
    "        self.color = color\n",
    "        self.style = style"
   ]
  },
  {
   "cell_type": "markdown",
   "metadata": {
    "application/vnd.databricks.v1+cell": {
     "inputWidgets": {},
     "nuid": "40aee567-e9c6-40ab-8d1c-22dd755f49a9",
     "showTitle": false,
     "title": ""
    }
   },
   "source": [
    "**Create/Instantiate an Object**\n",
    "\n",
    "Once a class has been defined, you have a blueprint for creating—also known as instantiating—new objects."
   ]
  },
  {
   "cell_type": "code",
   "execution_count": 0,
   "metadata": {
    "application/vnd.databricks.v1+cell": {
     "inputWidgets": {},
     "nuid": "d74f15d5-b52b-457d-a26f-76fa7066354e",
     "showTitle": false,
     "title": ""
    }
   },
   "outputs": [],
   "source": [
    "c = Car('Black','Sedan')"
   ]
  },
  {
   "cell_type": "markdown",
   "metadata": {
    "application/vnd.databricks.v1+cell": {
     "inputWidgets": {},
     "nuid": "e79af579-6c63-49e9-98c3-5385d3dce769",
     "showTitle": false,
     "title": ""
    }
   },
   "source": [
    "Here, we created a new object from the Car class by passing strings for the style and color parameters. But, we didn’t pass in the self argument.\n",
    "\n",
    "This is because, when you create a new object, Python automatically determines what self is (our newly-created object in this case) and passes it to the __init__ method."
   ]
  },
  {
   "cell_type": "markdown",
   "metadata": {
    "application/vnd.databricks.v1+cell": {
     "inputWidgets": {},
     "nuid": "6fa8bfd5-c738-4702-9408-c08786fe6b98",
     "showTitle": false,
     "title": ""
    }
   },
   "source": [
    "**Access and Modify Attributes**"
   ]
  },
  {
   "cell_type": "code",
   "execution_count": 0,
   "metadata": {
    "application/vnd.databricks.v1+cell": {
     "inputWidgets": {},
     "nuid": "b7997598-f2df-4166-8196-f1fcd69a354d",
     "showTitle": false,
     "title": ""
    }
   },
   "outputs": [
    {
     "data": {
      "text/plain": [
       "Sedan\n",
       "Black\n",
       "SUV\n"
      ]
     },
     "metadata": {
      "application/vnd.databricks.v1+output": {
       "addedWidgets": {},
       "arguments": {},
       "data": "Sedan\nBlack\nSUV\n",
       "datasetInfos": [],
       "metadata": {},
       "removedWidgets": [],
       "type": "ansi"
      }
     },
     "output_type": "display_data"
    }
   ],
   "source": [
    "# Access attributes\n",
    "print(c.style)\n",
    "# Prints Sedan\n",
    "print(c.color)\n",
    "# Prints Black\n",
    "\n",
    "# Modify attribute\n",
    "c.style = 'SUV'\n",
    "print(c.style)\n",
    "# Prints SUV"
   ]
  },
  {
   "cell_type": "markdown",
   "metadata": {
    "application/vnd.databricks.v1+cell": {
     "inputWidgets": {},
     "nuid": "58d6bed5-0ba2-4d87-bbdf-c3527c2c92b8",
     "showTitle": false,
     "title": ""
    }
   },
   "source": [
    "**Methods**\n",
    "\n",
    "Methods determine what type of functionality a class has, how it handles its data, and its overall behavior. Without methods, a class would simply be a structure.\n",
    "\n",
    "In our case, the ‘Car’ class might have the following methods:\n",
    "\n",
    "- Change color\n",
    "- Start engine\n",
    "- Stop engine\n",
    "- Change gear\n",
    "\n",
    "Just like `.__init__()`, the first argument of an instance method is always `self`:"
   ]
  },
  {
   "cell_type": "code",
   "execution_count": 0,
   "metadata": {
    "application/vnd.databricks.v1+cell": {
     "inputWidgets": {},
     "nuid": "1edb6f16-061b-41d9-b188-1cf58368f74f",
     "showTitle": false,
     "title": ""
    }
   },
   "outputs": [
    {
     "data": {
      "text/plain": [
       "This car is a Black Sedan\n",
       "This car is a White Sedan\n"
      ]
     },
     "metadata": {
      "application/vnd.databricks.v1+output": {
       "addedWidgets": {},
       "arguments": {},
       "data": "This car is a Black Sedan\nThis car is a White Sedan\n",
       "datasetInfos": [],
       "metadata": {},
       "removedWidgets": [],
       "type": "ansi"
      }
     },
     "output_type": "display_data"
    }
   ],
   "source": [
    "class Car:\n",
    "\n",
    "    # class attribute\n",
    "    wheels = 4\n",
    "\n",
    "    # initializer / instance attributes\n",
    "    def __init__(self, color, style):\n",
    "        self.color = color\n",
    "        self.style = style\n",
    "\n",
    "    # method 1\n",
    "    def showDescription(self):\n",
    "        print(\"This car is a\", self.color, self.style)\n",
    "\n",
    "    # method 2\n",
    "    def changeColor(self, color):\n",
    "        self.color = color\n",
    "\n",
    "c = Car('Black', 'Sedan')\n",
    "\n",
    "# call method 1\n",
    "c.showDescription()\n",
    "# Prints This car is a Black Sedan\n",
    "\n",
    "# call method 2 and set color\n",
    "c.changeColor('White')\n",
    "\n",
    "c.showDescription()\n",
    "# Prints This car is a White Sedan"
   ]
  },
  {
   "cell_type": "markdown",
   "metadata": {
    "application/vnd.databricks.v1+cell": {
     "inputWidgets": {},
     "nuid": "e020f25d-8240-45cb-8b86-0590d5212e8f",
     "showTitle": false,
     "title": ""
    }
   },
   "source": [
    "Another example"
   ]
  },
  {
   "cell_type": "code",
   "execution_count": 0,
   "metadata": {
    "application/vnd.databricks.v1+cell": {
     "inputWidgets": {},
     "nuid": "78f7525e-cf4b-4101-97ad-1ab705255e65",
     "showTitle": false,
     "title": ""
    }
   },
   "outputs": [
    {
     "data": {
      "text/plain": [
       "Miles 4\n"
      ]
     },
     "metadata": {
      "application/vnd.databricks.v1+output": {
       "addedWidgets": {},
       "arguments": {},
       "data": "Miles 4\n",
       "datasetInfos": [],
       "metadata": {},
       "removedWidgets": [],
       "type": "ansi"
      }
     },
     "output_type": "display_data"
    },
    {
     "data": {
      "text/plain": [
       "Out[8]: 'Miles is 4 years old'"
      ]
     },
     "metadata": {
      "application/vnd.databricks.v1+output": {
       "addedWidgets": {},
       "arguments": {},
       "data": "Out[8]: 'Miles is 4 years old'",
       "datasetInfos": [],
       "metadata": {},
       "removedWidgets": [],
       "type": "ansi"
      }
     },
     "output_type": "display_data"
    }
   ],
   "source": [
    "class Dog:\n",
    "    species = 'Canis familaris'\n",
    "    \n",
    "    def __init__(self,name,age):\n",
    "        self.name = name\n",
    "        self.age = age\n",
    "\n",
    "    # instance method\n",
    "    def description(self):\n",
    "        return f\"{self.name} is {self.age} years old\"\n",
    "    \n",
    "    # another instance\n",
    "    def speak(self, sound):\n",
    "        return f\"{self.name} says {sound}\"\n",
    "\n",
    "miles = Dog('Miles',4)\n",
    "print (miles.name, miles.age)\n",
    "\n",
    "miles.description()"
   ]
  },
  {
   "cell_type": "code",
   "execution_count": 0,
   "metadata": {
    "application/vnd.databricks.v1+cell": {
     "inputWidgets": {},
     "nuid": "d1161572-c046-4a3a-b55d-894a4e301ad8",
     "showTitle": false,
     "title": ""
    }
   },
   "outputs": [
    {
     "data": {
      "text/plain": [
       "Out[9]: 'Miles says Woof Woof'"
      ]
     },
     "metadata": {
      "application/vnd.databricks.v1+output": {
       "addedWidgets": {},
       "arguments": {},
       "data": "Out[9]: 'Miles says Woof Woof'",
       "datasetInfos": [],
       "metadata": {},
       "removedWidgets": [],
       "type": "ansi"
      }
     },
     "output_type": "display_data"
    }
   ],
   "source": [
    "miles.speak(\"Woof Woof\")"
   ]
  },
  {
   "cell_type": "markdown",
   "metadata": {
    "application/vnd.databricks.v1+cell": {
     "inputWidgets": {},
     "nuid": "66a688e5-e46c-45c3-bae0-8bd3c421442f",
     "showTitle": false,
     "title": ""
    }
   },
   "source": [
    "## Inheritance from other classes\n",
    "\n",
    "Inheritance is the process by which one class takes takes on the attribute and methods of another. Newly formed classes are called **child or derived classes**, and the classes that child classes are derived from are called **parent classes**. Putting it simply, inheritance is the process of creating a new class from an existing one.\n",
    "\n",
    "Child classes can override and extend the attributes and methods of parent classes. In other words, child classes inherit all of the parent’s attributes and methods but can also specify different attributes and methods that are unique to themselves, or even redefine methods from their parent class."
   ]
  },
  {
   "cell_type": "markdown",
   "metadata": {
    "application/vnd.databricks.v1+cell": {
     "inputWidgets": {},
     "nuid": "625de21d-26a1-4b62-8c4e-750966ce5a52",
     "showTitle": false,
     "title": ""
    }
   },
   "source": [
    "**Analogy**\n",
    "\n",
    "There exists a hierarchy relationship between classes. It’s similar to relationships that you know from real life.\n",
    "\n",
    "Think about vehicles, for example. Bikes, cars, buses and trucks, all share the characteristics of vehicles (speed, color, gear). Yet each has additional features that make them different.\n",
    "\n",
    "Keeping that in mind, you could implement a Vehicle (as a base) class in Python. Whereas, Cars, Buses and Trucks and Bikes can be implemented as subclasses which will inherit from vehicle.\n",
    "\n",
    "<img src = 'https://www.learnbyexample.org/wp-content/uploads/python/Python-Inheritance-Illustration.png'>"
   ]
  },
  {
   "cell_type": "markdown",
   "metadata": {
    "application/vnd.databricks.v1+cell": {
     "inputWidgets": {},
     "nuid": "ec3519d4-995c-4304-bd8e-fdc16b2c58dd",
     "showTitle": false,
     "title": ""
    }
   },
   "source": [
    "**Defining a Base/Parent Class**\n",
    "\n",
    "Any class that does not inherit from another class is known as a **base/parent class**.\n",
    "\n",
    "The example below defines a base class called Vehicle. It has a method called description that prints the description of the vehicle."
   ]
  },
  {
   "cell_type": "code",
   "execution_count": 0,
   "metadata": {
    "application/vnd.databricks.v1+cell": {
     "inputWidgets": {},
     "nuid": "cf2940ed-db5f-425d-b534-b54ea4c262bb",
     "showTitle": false,
     "title": ""
    }
   },
   "outputs": [],
   "source": [
    "# base class\n",
    "class Vehicle():\n",
    "    def description(self):\n",
    "        print(\"I'm a Vehicle!\")"
   ]
  },
  {
   "cell_type": "markdown",
   "metadata": {
    "application/vnd.databricks.v1+cell": {
     "inputWidgets": {},
     "nuid": "46b457d2-12a8-4179-9144-519455ab4e69",
     "showTitle": false,
     "title": ""
    }
   },
   "source": [
    "**Subclassing**\n",
    "\n",
    "The act of basing a new class on an existing class is known as Subclassing. It allows you to add new functionality or override existing functionality."
   ]
  },
  {
   "cell_type": "code",
   "execution_count": 0,
   "metadata": {
    "application/vnd.databricks.v1+cell": {
     "inputWidgets": {},
     "nuid": "8a35b2ae-5b39-4b26-adc0-6cc140999aee",
     "showTitle": false,
     "title": ""
    }
   },
   "outputs": [],
   "source": [
    "# base class\n",
    "class Vehicle():\n",
    "    def description(self):\n",
    "        print(\"I'm a Vehicle!\")\n",
    "\n",
    "# subclass/child class\n",
    "class Car(Vehicle):\n",
    "    pass"
   ]
  },
  {
   "cell_type": "code",
   "execution_count": 0,
   "metadata": {
    "application/vnd.databricks.v1+cell": {
     "inputWidgets": {},
     "nuid": "0ee6638f-fee8-4d6d-8981-cb4c1ee099a5",
     "showTitle": false,
     "title": ""
    }
   },
   "outputs": [
    {
     "data": {
      "text/plain": [
       "I'm a Vehicle!\n",
       "I'm a Vehicle!\n"
      ]
     },
     "metadata": {
      "application/vnd.databricks.v1+output": {
       "addedWidgets": {},
       "arguments": {},
       "data": "I'm a Vehicle!\nI'm a Vehicle!\n",
       "datasetInfos": [],
       "metadata": {},
       "removedWidgets": [],
       "type": "ansi"
      }
     },
     "output_type": "display_data"
    }
   ],
   "source": [
    "# base class\n",
    "class Vehicle():\n",
    "    def description(self):\n",
    "        print(\"I'm a Vehicle!\")\n",
    "\n",
    "# subclass\n",
    "class Car(Vehicle):\n",
    "    pass\n",
    "\n",
    "# create an object from each class\n",
    "v = Vehicle()\n",
    "c = Car()\n",
    "\n",
    "v.description()\n",
    "# Prints I'm a Vehicle!\n",
    "c.description()\n",
    "# Prints I'm a Vehicle!"
   ]
  },
  {
   "cell_type": "markdown",
   "metadata": {
    "application/vnd.databricks.v1+cell": {
     "inputWidgets": {},
     "nuid": "34590809-02eb-4279-b43f-ce89c483078c",
     "showTitle": false,
     "title": ""
    }
   },
   "source": [
    "**Override a Method**\n",
    "\n",
    "A Car class inherited everything from its base class Vehicle. However, a subclass should be different from its base class in some way; otherwise, there’s no point in defining a new class."
   ]
  },
  {
   "cell_type": "code",
   "execution_count": 0,
   "metadata": {
    "application/vnd.databricks.v1+cell": {
     "inputWidgets": {},
     "nuid": "29bbae17-a2b7-447c-93ff-73700d4555d2",
     "showTitle": false,
     "title": ""
    }
   },
   "outputs": [
    {
     "data": {
      "text/plain": [
       "I'm a Vehicle!\n",
       "I'm a Car!\n",
       "I'm a Truck!\n"
      ]
     },
     "metadata": {
      "application/vnd.databricks.v1+output": {
       "addedWidgets": {},
       "arguments": {},
       "data": "I'm a Vehicle!\nI'm a Car!\nI'm a Truck!\n",
       "datasetInfos": [],
       "metadata": {},
       "removedWidgets": [],
       "type": "ansi"
      }
     },
     "output_type": "display_data"
    }
   ],
   "source": [
    "# base class\n",
    "class Vehicle():\n",
    "    def description(self):\n",
    "        print(\"I'm a Vehicle!\")\n",
    "\n",
    "# subclass\n",
    "class Car(Vehicle):\n",
    "    def description(self):\n",
    "        print(\"I'm a Car!\")\n",
    "        \n",
    "# another subclass\n",
    "class Truck(Vehicle):\n",
    "    def description(self):\n",
    "        print(\"I'm a Truck!\")\n",
    "\n",
    "# create an object from each class\n",
    "v = Vehicle()\n",
    "c = Car()\n",
    "t= Truck()\n",
    "\n",
    "v.description()\n",
    "# Prints I'm a Vehicle!\n",
    "\n",
    "c.description()\n",
    "# Prints I'm a Car!\n",
    "\n",
    "t.description()\n",
    "# Prints I'm a Truck!"
   ]
  },
  {
   "cell_type": "markdown",
   "metadata": {
    "application/vnd.databricks.v1+cell": {
     "inputWidgets": {},
     "nuid": "a5145610-3bb8-4f73-bab1-0e16af983b47",
     "showTitle": false,
     "title": ""
    }
   },
   "source": [
    "**Add a Method**\n",
    "\n",
    "The subclass can also add a method that was not present in its base class.\n",
    "\n",
    "Let’s define the new method setSpeed() for Car class."
   ]
  },
  {
   "cell_type": "code",
   "execution_count": 0,
   "metadata": {
    "application/vnd.databricks.v1+cell": {
     "inputWidgets": {},
     "nuid": "59355036-37b2-4184-91e7-4224ad50bd97",
     "showTitle": false,
     "title": ""
    }
   },
   "outputs": [
    {
     "data": {
      "text/plain": [
       "Now traveling at 25 miles per hour\n"
      ]
     },
     "metadata": {
      "application/vnd.databricks.v1+output": {
       "addedWidgets": {},
       "arguments": {},
       "data": "Now traveling at 25 miles per hour\n",
       "datasetInfos": [],
       "metadata": {},
       "removedWidgets": [],
       "type": "ansi"
      }
     },
     "output_type": "display_data"
    }
   ],
   "source": [
    "# a parent class\n",
    "class Vehicle():\n",
    "    def description(self):\n",
    "        print(\"I'm a\", self.color, \"Vehicle\")\n",
    "\n",
    "# subclass\n",
    "class Car(Vehicle):\n",
    "    def description(self):\n",
    "        print(\"I'm a\", self.color, self.style)\n",
    "    def setSpeed(self, speed):\n",
    "        print(\"Now traveling at\", speed,\"miles per hour\")    \n",
    "\n",
    "# create an object from each class\n",
    "v = Vehicle()\n",
    "c = Car()\n",
    "\n",
    "c.setSpeed(25)\n",
    "# Prints Now traveling at 25 miles per hour"
   ]
  },
  {
   "cell_type": "code",
   "execution_count": 0,
   "metadata": {
    "application/vnd.databricks.v1+cell": {
     "inputWidgets": {},
     "nuid": "2b976422-a170-4b97-900f-ba60957ba50e",
     "showTitle": false,
     "title": ""
    }
   },
   "outputs": [
    {
     "data": {
      "text/plain": [
       "\u001b[0;31m---------------------------------------------------------------------------\u001b[0m\n",
       "\u001b[0;31mAttributeError\u001b[0m                            Traceback (most recent call last)\n",
       "\u001b[0;32m<ipython-input-15-6e2d3a88ba7e>\u001b[0m in \u001b[0;36m<module>\u001b[0;34m\u001b[0m\n",
       "\u001b[0;32m----> 1\u001b[0;31m \u001b[0mv\u001b[0m\u001b[0;34m.\u001b[0m\u001b[0msetSpeed\u001b[0m\u001b[0;34m(\u001b[0m\u001b[0;36m25\u001b[0m\u001b[0;34m)\u001b[0m\u001b[0;34m\u001b[0m\u001b[0;34m\u001b[0m\u001b[0m\n",
       "\u001b[0m\u001b[1;32m      2\u001b[0m \u001b[0;31m# Triggers AttributeError: 'Vehicle' object has no attribute 'setSpeed'\u001b[0m\u001b[0;34m\u001b[0m\u001b[0;34m\u001b[0m\u001b[0;34m\u001b[0m\u001b[0m\n",
       "\n",
       "\u001b[0;31mAttributeError\u001b[0m: 'Vehicle' object has no attribute 'setSpeed'"
      ]
     },
     "metadata": {
      "application/vnd.databricks.v1+output": {
       "arguments": {},
       "data": "\u001b[0;31m---------------------------------------------------------------------------\u001b[0m\n\u001b[0;31mAttributeError\u001b[0m                            Traceback (most recent call last)\n\u001b[0;32m<ipython-input-15-6e2d3a88ba7e>\u001b[0m in \u001b[0;36m<module>\u001b[0;34m\u001b[0m\n\u001b[0;32m----> 1\u001b[0;31m \u001b[0mv\u001b[0m\u001b[0;34m.\u001b[0m\u001b[0msetSpeed\u001b[0m\u001b[0;34m(\u001b[0m\u001b[0;36m25\u001b[0m\u001b[0;34m)\u001b[0m\u001b[0;34m\u001b[0m\u001b[0;34m\u001b[0m\u001b[0m\n\u001b[0m\u001b[1;32m      2\u001b[0m \u001b[0;31m# Triggers AttributeError: 'Vehicle' object has no attribute 'setSpeed'\u001b[0m\u001b[0;34m\u001b[0m\u001b[0;34m\u001b[0m\u001b[0;34m\u001b[0m\u001b[0m\n\n\u001b[0;31mAttributeError\u001b[0m: 'Vehicle' object has no attribute 'setSpeed'",
       "errorSummary": "<span class='ansi-red-fg'>AttributeError</span>: 'Vehicle' object has no attribute 'setSpeed'",
       "errorTraceType": "ansi",
       "metadata": {},
       "type": "ipynbError"
      }
     },
     "output_type": "display_data"
    }
   ],
   "source": [
    "v.setSpeed(25)\n",
    "# Triggers AttributeError: 'Vehicle' object has no attribute 'setSpeed'"
   ]
  },
  {
   "cell_type": "markdown",
   "metadata": {
    "application/vnd.databricks.v1+cell": {
     "inputWidgets": {},
     "nuid": "797049ef-63b3-43a5-a823-0671755cacc5",
     "showTitle": false,
     "title": ""
    }
   },
   "source": [
    "**The super() Function**\n",
    "\n",
    "When you override a method, you sometimes want to reuse the method of the base class and add some new stuff.\n",
    "\n",
    "You can achieve this by using the super() Function. To demonstrate this, let’s redefine our Vehicle and Car class, but this time with the `__init__()` method.\n",
    "\n",
    "Notice that the `__init__()` call in the Vehicle class has only ‘color’ parameter while the Car class has an additional ‘style’ parameter."
   ]
  },
  {
   "cell_type": "code",
   "execution_count": 0,
   "metadata": {
    "application/vnd.databricks.v1+cell": {
     "inputWidgets": {},
     "nuid": "df1222e8-36ab-415c-8c3c-3c48bf9481c7",
     "showTitle": false,
     "title": ""
    }
   },
   "outputs": [
    {
     "data": {
      "text/plain": [
       "I'm a Red Vehicle\n",
       "I'm a Black Vehicle\n"
      ]
     },
     "metadata": {
      "application/vnd.databricks.v1+output": {
       "addedWidgets": {},
       "arguments": {},
       "data": "I'm a Red Vehicle\nI'm a Black Vehicle\n",
       "datasetInfos": [],
       "metadata": {},
       "removedWidgets": [],
       "type": "ansi"
      }
     },
     "output_type": "display_data"
    }
   ],
   "source": [
    "# base class\n",
    "class Vehicle():\n",
    "    def __init__(self, color):\n",
    "        self.color = color\n",
    "    def description(self):\n",
    "        print(\"I'm a\", self.color, \"Vehicle\")\n",
    "\n",
    "# subclass\n",
    "class Car(Vehicle):\n",
    "    def __init__(self, color, style):\n",
    "        super().__init__(color)    # invoke Vehicle’s __init__() method\n",
    "        self.style = style\n",
    "\n",
    "# create an object from each class\n",
    "v = Vehicle('Red')\n",
    "c = Car('Black', 'SUV')\n",
    "\n",
    "v.description()\n",
    "# Prints I'm a Red Vehicle\n",
    "c.description()"
   ]
  },
  {
   "cell_type": "code",
   "execution_count": 0,
   "metadata": {
    "application/vnd.databricks.v1+cell": {
     "inputWidgets": {},
     "nuid": "41ef45ec-018c-4edf-a184-238285781357",
     "showTitle": false,
     "title": ""
    }
   },
   "outputs": [
    {
     "data": {
      "text/plain": [
       "I'm a Red Vehicle\n",
       "I'm a Black Vehicle\n"
      ]
     },
     "metadata": {
      "application/vnd.databricks.v1+output": {
       "addedWidgets": {},
       "arguments": {},
       "data": "I'm a Red Vehicle\nI'm a Black Vehicle\n",
       "datasetInfos": [],
       "metadata": {},
       "removedWidgets": [],
       "type": "ansi"
      }
     },
     "output_type": "display_data"
    }
   ],
   "source": [
    "# base class\n",
    "class Vehicle():\n",
    "    def __init__(self, color):\n",
    "        self.color = color\n",
    "    def description(self):\n",
    "        print(\"I'm a\", self.color, \"Vehicle\")\n",
    "\n",
    "# subclass\n",
    "class Car(Vehicle):\n",
    "    def __init__(self, color, style):\n",
    "        super().__init__(color)    # invoke Vehicle’s __init__() method\n",
    "        self.style = style\n",
    "\n",
    "# create an object from each class\n",
    "v = Vehicle('Red')\n",
    "c = Car('Black', 'SUV')\n",
    "\n",
    "v.description()\n",
    "# Prints I'm a Red Vehicle\n",
    "c.description()\n",
    "# Prints I'm a Red Vehicle"
   ]
  },
  {
   "cell_type": "code",
   "execution_count": 0,
   "metadata": {
    "application/vnd.databricks.v1+cell": {
     "inputWidgets": {},
     "nuid": "7a3374a5-c42b-415b-864d-864d83971931",
     "showTitle": false,
     "title": ""
    }
   },
   "outputs": [
    {
     "data": {
      "text/plain": [
       "I'm a Red Vehicle\n",
       "I'm a Black SUV\n"
      ]
     },
     "metadata": {
      "application/vnd.databricks.v1+output": {
       "addedWidgets": {},
       "arguments": {},
       "data": "I'm a Red Vehicle\nI'm a Black SUV\n",
       "datasetInfos": [],
       "metadata": {},
       "removedWidgets": [],
       "type": "ansi"
      }
     },
     "output_type": "display_data"
    }
   ],
   "source": [
    "# base class\n",
    "class Vehicle():\n",
    "    def __init__(self, color):\n",
    "        self.color = color\n",
    "    def description(self):\n",
    "        print(\"I'm a\", self.color, \"Vehicle\")\n",
    "\n",
    "# subclass\n",
    "class Car(Vehicle):\n",
    "    def __init__(self, color, style):\n",
    "        super().__init__(color)    # invoke Vehicle’s __init__() method\n",
    "        self.style = style\n",
    "    def description(self):\n",
    "        print(\"I'm a\", self.color, self.style)\n",
    "\n",
    "# create an object from each class\n",
    "v = Vehicle('Red')\n",
    "c = Car('Black', 'SUV')\n",
    "\n",
    "v.description()\n",
    "# Prints I'm a Red Vehicle\n",
    "c.description()\n",
    "# Prints I'm a Black SUV"
   ]
  },
  {
   "cell_type": "markdown",
   "metadata": {
    "application/vnd.databricks.v1+cell": {
     "inputWidgets": {},
     "nuid": "33e64c80-7fa3-4311-bfcd-1561196b143d",
     "showTitle": false,
     "title": ""
    }
   },
   "source": [
    "**Multiple Inheritance**\n",
    "\n",
    "Python also supports multiple inheritance, where a subclass can inherit from multiple superclasses.\n",
    "\n",
    "In multiple inheritance, the characteristics of all the superclasses are inherited into the subclass.\n",
    "\n",
    "<img src = 'https://www.learnbyexample.org/wp-content/uploads/python/Python-Multiple-Inheritance-Illustration.png'>"
   ]
  },
  {
   "cell_type": "code",
   "execution_count": 0,
   "metadata": {
    "application/vnd.databricks.v1+cell": {
     "inputWidgets": {},
     "nuid": "3cd78b1b-7238-4db4-85a8-ea7788abf487",
     "showTitle": false,
     "title": ""
    }
   },
   "outputs": [
    {
     "data": {
      "text/plain": [
       "Drive me on the road!\n",
       "Fly me to the sky!\n"
      ]
     },
     "metadata": {
      "application/vnd.databricks.v1+output": {
       "addedWidgets": {},
       "arguments": {},
       "data": "Drive me on the road!\nFly me to the sky!\n",
       "datasetInfos": [],
       "metadata": {},
       "removedWidgets": [],
       "type": "ansi"
      }
     },
     "output_type": "display_data"
    }
   ],
   "source": [
    "# base class 1\n",
    "class GroundVehicle():\n",
    "    def drive(self):\n",
    "        print(\"Drive me on the road!\")\n",
    "\n",
    "# base class 2\n",
    "class FlyingVehicle():\n",
    "    def fly(self):\n",
    "         print(\"Fly me to the sky!\")\n",
    "\n",
    "# subclass\n",
    "class FlyingCar(GroundVehicle, FlyingVehicle):\n",
    "    pass\n",
    "\n",
    "# create an object of a subclass\n",
    "fc = FlyingCar()\n",
    "\n",
    "fc.drive()\n",
    "# Prints Drive me on the road!\n",
    "fc.fly()\n",
    "# Prints Fly me to the sky!"
   ]
  }
 ],
 "metadata": {
  "anaconda-cloud": {},
  "application/vnd.databricks.v1+notebook": {
   "dashboards": [],
   "language": "python",
   "notebookMetadata": {
    "pythonIndentUnit": 2
   },
   "notebookName": "Python_Part4",
   "notebookOrigID": 910232701719373,
   "widgets": {}
  },
  "kernelspec": {
   "display_name": "Python 3",
   "language": "python",
   "name": "python3"
  },
  "language_info": {
   "codemirror_mode": {
    "name": "ipython",
    "version": 3
   },
   "file_extension": ".py",
   "mimetype": "text/x-python",
   "name": "python",
   "nbconvert_exporter": "python",
   "pygments_lexer": "ipython3",
   "version": "3.7.3"
  }
 },
 "nbformat": 4,
 "nbformat_minor": 1
}
