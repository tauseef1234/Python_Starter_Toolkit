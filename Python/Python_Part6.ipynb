{
 "cells": [
  {
   "cell_type": "markdown",
   "metadata": {},
   "source": [
    "# Python for Data Science and Machine Learning - Part 6\n",
    "--------"
   ]
  },
  {
   "cell_type": "markdown",
   "metadata": {
    "application/vnd.databricks.v1+cell": {
     "inputWidgets": {},
     "nuid": "be705f27-76b4-4600-a38c-17eb65028c91",
     "showTitle": false,
     "title": ""
    }
   },
   "source": [
    "## Decorators\n",
    "\n",
    "A decorator is a design pattern in Python that allows user to add new functionality to an existing object. Decorators are usually called before the definition of a function you want to decorate. \n",
    "\n",
    "Before we try to understand decorators by creating one, let's try to go over a fundamental concept that functions in python are first-class objects. This means that they can be passed as an argument, returend from function, modified and assigned to a variable, just like any other object(string, float, int, etc.)."
   ]
  },
  {
   "cell_type": "markdown",
   "metadata": {
    "application/vnd.databricks.v1+cell": {
     "inputWidgets": {},
     "nuid": "cbbad752-beb0-4ee0-b282-e1ea8ce1cd4e",
     "showTitle": false,
     "title": ""
    }
   },
   "source": [
    "**Assigning functions to variables**\n",
    "\n",
    "Here, we create a function that will add one to a number whenever it is called. We'll then assign the function to a variable and use this variable to call the function."
   ]
  },
  {
   "cell_type": "code",
   "execution_count": 1,
   "metadata": {
    "application/vnd.databricks.v1+cell": {
     "inputWidgets": {},
     "nuid": "e3bed68f-f56a-4a4b-8ae8-d36074daf439",
     "showTitle": false,
     "title": ""
    }
   },
   "outputs": [
    {
     "data": {
      "text/plain": [
       "6"
      ]
     },
     "execution_count": 1,
     "metadata": {},
     "output_type": "execute_result"
    }
   ],
   "source": [
    "def plus_one(number):\n",
    "    return number + 1\n",
    "\n",
    "add_one = plus_one\n",
    "add_one(5)"
   ]
  },
  {
   "cell_type": "markdown",
   "metadata": {
    "application/vnd.databricks.v1+cell": {
     "inputWidgets": {},
     "nuid": "d213ab21-d72e-4bae-8baf-41aa567a8e0c",
     "showTitle": false,
     "title": ""
    }
   },
   "source": [
    "**Defining functions inside other functions**\n",
    "\n",
    "Here, we illustrate how to define a function inside another function."
   ]
  },
  {
   "cell_type": "code",
   "execution_count": 2,
   "metadata": {
    "application/vnd.databricks.v1+cell": {
     "inputWidgets": {},
     "nuid": "613abd42-3bd6-489b-90ad-b7c96cbf167d",
     "showTitle": false,
     "title": ""
    }
   },
   "outputs": [
    {
     "data": {
      "text/plain": [
       "5"
      ]
     },
     "execution_count": 2,
     "metadata": {},
     "output_type": "execute_result"
    }
   ],
   "source": [
    "def plus_one(number):\n",
    "    def add_one(number):\n",
    "        return number+1\n",
    "    # assign function to a variable\n",
    "    result = add_one(number)\n",
    "    return result\n",
    "\n",
    "plus_one(4)"
   ]
  },
  {
   "cell_type": "markdown",
   "metadata": {
    "application/vnd.databricks.v1+cell": {
     "inputWidgets": {},
     "nuid": "cb65da7c-7e0c-4e9b-87ba-10fefe928ad0",
     "showTitle": false,
     "title": ""
    }
   },
   "source": [
    "**Passing functions as arguments to other functions**\n",
    "\n",
    "Functions can be passed as parameters to other functions."
   ]
  },
  {
   "cell_type": "code",
   "execution_count": 3,
   "metadata": {
    "application/vnd.databricks.v1+cell": {
     "inputWidgets": {},
     "nuid": "5b204555-c3b8-4132-a73d-fc7fc0623e89",
     "showTitle": false,
     "title": ""
    }
   },
   "outputs": [
    {
     "data": {
      "text/plain": [
       "6"
      ]
     },
     "execution_count": 3,
     "metadata": {},
     "output_type": "execute_result"
    }
   ],
   "source": [
    "def plus_one(number):\n",
    "    return number+1\n",
    "\n",
    "def function_call(function):\n",
    "    number_to_add = 5\n",
    "    return function(number_to_add)\n",
    "\n",
    "function_call(plus_one)"
   ]
  },
  {
   "cell_type": "markdown",
   "metadata": {
    "application/vnd.databricks.v1+cell": {
     "inputWidgets": {},
     "nuid": "9ea26daf-ed8b-4ec4-a7aa-a0c32ae22b53",
     "showTitle": false,
     "title": ""
    }
   },
   "source": [
    "**Functions returning other functions**"
   ]
  },
  {
   "cell_type": "code",
   "execution_count": 4,
   "metadata": {
    "application/vnd.databricks.v1+cell": {
     "inputWidgets": {},
     "nuid": "85e7b62e-fcdb-4dcf-9664-13d2686cc7ee",
     "showTitle": false,
     "title": ""
    }
   },
   "outputs": [
    {
     "data": {
      "text/plain": [
       "'Hi'"
      ]
     },
     "execution_count": 4,
     "metadata": {},
     "output_type": "execute_result"
    }
   ],
   "source": [
    "def hello_function():\n",
    "    def say_hi():\n",
    "        return \"Hi\"\n",
    "    return say_hi\n",
    "\n",
    "hello = hello_function()\n",
    "hello()"
   ]
  },
  {
   "cell_type": "code",
   "execution_count": 5,
   "metadata": {
    "application/vnd.databricks.v1+cell": {
     "inputWidgets": {},
     "nuid": "58e76d22-6cc1-4896-bd6b-a624c3b80ae4",
     "showTitle": false,
     "title": ""
    }
   },
   "outputs": [
    {
     "name": "stdout",
     "output_type": "stream",
     "text": [
      "Running inner\n"
     ]
    }
   ],
   "source": [
    "def outer_func():\n",
    "    def inner_func():\n",
    "        print ('Running inner')\n",
    "    inner_func()\n",
    "\n",
    "outer_func()"
   ]
  },
  {
   "cell_type": "code",
   "execution_count": 6,
   "metadata": {
    "application/vnd.databricks.v1+cell": {
     "inputWidgets": {},
     "nuid": "fcb86ee8-47e4-44e8-8ace-c81bd554e574",
     "showTitle": false,
     "title": ""
    }
   },
   "outputs": [
    {
     "name": "stdout",
     "output_type": "stream",
     "text": [
      "hello\n"
     ]
    }
   ],
   "source": [
    "def to_lower(message):\n",
    "    def message_sender():\n",
    "        print(message.lower())\n",
    "    message_sender()\n",
    "\n",
    "to_lower(\"HELLO\")"
   ]
  },
  {
   "cell_type": "markdown",
   "metadata": {
    "application/vnd.databricks.v1+cell": {
     "inputWidgets": {},
     "nuid": "e35f575c-1351-4573-8522-b3a57bc02774",
     "showTitle": false,
     "title": ""
    }
   },
   "source": [
    "### Creating decorators\n",
    "\n",
    "Here, we create a simple decorator that will convert a sentence to uppercase. First, we define a wrapper function inside an enclosed function. This step is similar to the concept of defining a function inside another function that was showcased earlier."
   ]
  },
  {
   "cell_type": "code",
   "execution_count": 7,
   "metadata": {
    "application/vnd.databricks.v1+cell": {
     "inputWidgets": {},
     "nuid": "c7106b69-e1c2-440f-8d64-615cb2272098",
     "showTitle": false,
     "title": ""
    }
   },
   "outputs": [],
   "source": [
    "def uppercase_decorator(function):\n",
    "    def wrapper():\n",
    "        func = function()\n",
    "        make_uppercase = func.upper()\n",
    "        return make_uppercase\n",
    "    return wrapper"
   ]
  },
  {
   "cell_type": "markdown",
   "metadata": {
    "application/vnd.databricks.v1+cell": {
     "inputWidgets": {},
     "nuid": "2e77f06e-4cb3-4223-b04a-56d318dbda78",
     "showTitle": false,
     "title": ""
    }
   },
   "source": [
    "The decorator function takes a function as an argument. So next, we define a function and pass it to our decorator. We learned earlier that we could assign a function to a variable. We'll use that trick to call our decorator function."
   ]
  },
  {
   "cell_type": "code",
   "execution_count": 8,
   "metadata": {
    "application/vnd.databricks.v1+cell": {
     "inputWidgets": {},
     "nuid": "647e9426-c1ff-4994-b0e1-63751effb034",
     "showTitle": false,
     "title": ""
    },
    "scrolled": true
   },
   "outputs": [
    {
     "data": {
      "text/plain": [
       "'HELLO THERE'"
      ]
     },
     "execution_count": 8,
     "metadata": {},
     "output_type": "execute_result"
    }
   ],
   "source": [
    "def say_hi():\n",
    "    return 'hello there'\n",
    "decorate = uppercase_decorator(say_hi)\n",
    "decorate()"
   ]
  },
  {
   "cell_type": "markdown",
   "metadata": {
    "application/vnd.databricks.v1+cell": {
     "inputWidgets": {},
     "nuid": "d97df887-d362-4627-9275-3dd80f263889",
     "showTitle": false,
     "title": ""
    }
   },
   "source": [
    "However, Python provides a much easier way for us to apply decorators. We simply use the @ symbol before the function we'd like to decorate. Let's show that in practice below."
   ]
  },
  {
   "cell_type": "code",
   "execution_count": 9,
   "metadata": {
    "application/vnd.databricks.v1+cell": {
     "inputWidgets": {},
     "nuid": "b75a0cc0-896f-4f32-a3ec-b750b0fa57af",
     "showTitle": false,
     "title": ""
    }
   },
   "outputs": [
    {
     "data": {
      "text/plain": [
       "'HELLO THERE'"
      ]
     },
     "execution_count": 9,
     "metadata": {},
     "output_type": "execute_result"
    }
   ],
   "source": [
    "@uppercase_decorator\n",
    "def say_hi():\n",
    "    return 'hello there'\n",
    "say_hi()"
   ]
  },
  {
   "cell_type": "markdown",
   "metadata": {
    "application/vnd.databricks.v1+cell": {
     "inputWidgets": {},
     "nuid": "ca82b011-fb60-4a6d-a2b4-1d179f98aff3",
     "showTitle": false,
     "title": ""
    }
   },
   "source": [
    "**Execution explained**"
   ]
  },
  {
   "cell_type": "code",
   "execution_count": 10,
   "metadata": {
    "application/vnd.databricks.v1+cell": {
     "inputWidgets": {},
     "nuid": "456b204e-cd0c-4b60-97ed-d132e37c8371",
     "showTitle": false,
     "title": ""
    }
   },
   "outputs": [
    {
     "name": "stdout",
     "output_type": "stream",
     "text": [
      "Inside wrapper\n",
      "Hello world\n"
     ]
    }
   ],
   "source": [
    "def myWrapper(func):\n",
    "    def myInnerfunc():\n",
    "        print(\"Inside wrapper\")\n",
    "        func()\n",
    "    return myInnerfunc\n",
    "# decorate = myWrapper(myFunc)\n",
    "# decorate()\n",
    "@myWrapper\n",
    "def myFunc():\n",
    "    print (\"Hello world\")\n",
    "myFunc()"
   ]
  },
  {
   "cell_type": "markdown",
   "metadata": {
    "application/vnd.databricks.v1+cell": {
     "inputWidgets": {},
     "nuid": "c833aa3c-bd9f-4436-9a21-f5c4572f37b2",
     "showTitle": false,
     "title": ""
    }
   },
   "source": [
    "<img src='https://www.csestack.org/wp-content/uploads/2019/09/Python-Decorators-Explained.png'>"
   ]
  },
  {
   "cell_type": "markdown",
   "metadata": {
    "application/vnd.databricks.v1+cell": {
     "inputWidgets": {},
     "nuid": "0c6eae4e-53ed-4574-9ffc-c49687f9fa23",
     "showTitle": false,
     "title": ""
    }
   },
   "source": [
    "Here, we are trying to decorate the `myFunc` function. using the decorator function `myWrapper`. Below are the steps of execution in the above code:\n",
    "\n",
    "**1. The original function `myFunc` is called.**\n",
    "<br/><br/>\n",
    "**2. There is a function wrapper name `@myWrapper` specified above the  `myFunc` function definition. This indicates, there is a function decorator assigned to the function.**\n",
    "<br/><br/>\n",
    "**3. The decorator function `myWrapper` gets called. The program controller passes the function object as a parameter to the decorator function.**\n",
    "<br/><br/>\n",
    "**4. The function `myInnerFunc` inside the decorator function gets executed.**\n",
    "<br/><br/>\n",
    "**5. The inner function `myInnerFunc` calls the actual function `myFunc`.**\n",
    "<br/><br/>\n",
    "**6. The original function `myFunc` starts execution.**"
   ]
  },
  {
   "cell_type": "markdown",
   "metadata": {
    "application/vnd.databricks.v1+cell": {
     "inputWidgets": {},
     "nuid": "8fd21c68-cdaa-4652-a1a4-a89922c99a84",
     "showTitle": false,
     "title": ""
    }
   },
   "source": [
    "### Accepting arguments with decorator functions"
   ]
  },
  {
   "cell_type": "code",
   "execution_count": 11,
   "metadata": {
    "application/vnd.databricks.v1+cell": {
     "inputWidgets": {},
     "nuid": "310cabd3-1637-4d93-b127-beb5abb3925f",
     "showTitle": false,
     "title": ""
    }
   },
   "outputs": [
    {
     "name": "stdout",
     "output_type": "stream",
     "text": [
      "My arguments are: Barcelona, Milan\n",
      "Cities I love are Barcelona and Milan\n"
     ]
    }
   ],
   "source": [
    "def decorator_with_arguments(function):\n",
    "    def wrapper_accepting_arguments(arg1,arg2):\n",
    "        print(f\"My arguments are: {arg1}, {arg2}\")\n",
    "        function(arg1,arg2)\n",
    "    return wrapper_accepting_arguments\n",
    "\n",
    "@decorator_with_arguments\n",
    "def cities(city_one,city_two):\n",
    "    print(f'Cities I love are {city_one} and {city_two}')\n",
    "    \n",
    "cities('Barcelona','Milan')"
   ]
  },
  {
   "cell_type": "markdown",
   "metadata": {
    "application/vnd.databricks.v1+cell": {
     "inputWidgets": {},
     "nuid": "382e334e-3769-4c74-9ee7-38fed010db5d",
     "showTitle": false,
     "title": ""
    }
   },
   "source": [
    "### Passing arguments to the decorator"
   ]
  },
  {
   "cell_type": "code",
   "execution_count": 12,
   "metadata": {
    "application/vnd.databricks.v1+cell": {
     "inputWidgets": {},
     "nuid": "753ba376-da9d-4531-af18-c871314ea60a",
     "showTitle": false,
     "title": ""
    }
   },
   "outputs": [
    {
     "name": "stdout",
     "output_type": "stream",
     "text": [
      "The wrapper can access all the variables from the decorator maker: \n",
      "                    Pandas Numpy Scikit-learn from the function call: \n",
      "                    Pandas Science Tools \n",
      "             and pass them to the decorated function\n",
      "This is the decorated function and it only knows about its arguments: \n",
      "          Pandas Science Tools\n"
     ]
    }
   ],
   "source": [
    "def decorator_maker_with_arguments(decorator_arg1, decorator_arg2, decorator_arg3):\n",
    "    def decorator(func):\n",
    "        def wrapper(function_arg1, function_arg2, function_arg3) :\n",
    "            \"This is the wrapper function\"\n",
    "            print(f'The wrapper can access all the variables from the decorator maker: \\n\\\n",
    "                    {decorator_arg1} {decorator_arg2} {decorator_arg3} from the function call: \\n\\\n",
    "                    {function_arg1} {function_arg2} {function_arg3} \\n\\\n",
    "             and pass them to the decorated function')\n",
    "            \n",
    "            return func(function_arg1, function_arg2,function_arg3)\n",
    "\n",
    "        return wrapper\n",
    "\n",
    "    return decorator\n",
    "\n",
    "pandas = \"Pandas\"\n",
    "@decorator_maker_with_arguments(pandas, \"Numpy\",\"Scikit-learn\")\n",
    "def decorated_function_with_arguments(function_arg1, function_arg2,function_arg3):\n",
    "    print(f\"This is the decorated function and it only knows about its arguments: \\n\\\n",
    "          {function_arg1} {function_arg2} {function_arg3}\")\n",
    "\n",
    "decorated_function_with_arguments(pandas, \"Science\", \"Tools\")"
   ]
  },
  {
   "cell_type": "markdown",
   "metadata": {
    "application/vnd.databricks.v1+cell": {
     "inputWidgets": {},
     "nuid": "be36c628-d969-4915-bd1e-323b00d73993",
     "showTitle": false,
     "title": ""
    }
   },
   "source": [
    "### Classes as decorators\n",
    "\n",
    "There are two ways of using decorators with classes; one can either decorate the individual methods inside the class or decorate the whole class. The below example refers to the latter.\n",
    "\n",
    "As mentioned earlier, the decorator syntax `@uppercase_decorator` is just an easier way of saying `func = uppercase_decorator(func)`. Therefore, if `uppercase_decorator` is a class, it needs to take func as an argument in its `.__init__()` method. Furthermore, the class instance needs to be callable so that it can stand in for the decorated function.\n",
    "\n",
    "For a class instance to be callable, you implement the special `.__call__()` method:\n",
    "\n",
    "The `.__init__()` method must store a reference to the function and can do any other necessary initialization. The `.__call__()` method will be called instead of the decorated function. It does essentially the same thing as the wrapper() function in our earlier examples."
   ]
  },
  {
   "cell_type": "code",
   "execution_count": 13,
   "metadata": {
    "application/vnd.databricks.v1+cell": {
     "inputWidgets": {},
     "nuid": "9e6fab53-3818-4eec-ac9e-ddc4beec1b75",
     "showTitle": false,
     "title": ""
    }
   },
   "outputs": [
    {
     "name": "stdout",
     "output_type": "stream",
     "text": [
      "Hello there!\n"
     ]
    }
   ],
   "source": [
    "class mydecorator:\n",
    "    def __init__(self, function):\n",
    "        self.function = function\n",
    "     \n",
    "    def __call__(self):\n",
    " \n",
    "        # We can add some code\n",
    "        # before function call\n",
    " \n",
    "        func = self.function()\n",
    "        \n",
    "        # We can also add some code\n",
    "        # after function call.\n",
    "        return \n",
    " \n",
    " \n",
    "# adding class decorator to the function\n",
    "@mydecorator\n",
    "def function():\n",
    "    print(\"Hello there!\")\n",
    "\n",
    "function()"
   ]
  },
  {
   "cell_type": "markdown",
   "metadata": {
    "application/vnd.databricks.v1+cell": {
     "inputWidgets": {},
     "nuid": "9686aef0-98dd-460e-b740-faa95ed11f45",
     "showTitle": false,
     "title": ""
    }
   },
   "source": [
    "Implementing the earlier example by using classes as decorators"
   ]
  },
  {
   "cell_type": "code",
   "execution_count": 14,
   "metadata": {
    "application/vnd.databricks.v1+cell": {
     "inputWidgets": {},
     "nuid": "58a37d0a-fbbc-4c0f-a03c-534104304258",
     "showTitle": false,
     "title": ""
    }
   },
   "outputs": [
    {
     "data": {
      "text/plain": [
       "'HELLO THERE!'"
      ]
     },
     "execution_count": 14,
     "metadata": {},
     "output_type": "execute_result"
    }
   ],
   "source": [
    "class uppercase_decorator:\n",
    "    def __init__(self, function):\n",
    "        self.function = function\n",
    "     \n",
    "    def __call__(self):\n",
    "        func = self.function()\n",
    "        make_uppercase = func.upper()\n",
    "        return make_uppercase\n",
    " \n",
    " \n",
    "# adding class decorator to the function\n",
    "@uppercase_decorator\n",
    "def function():\n",
    "    return \"Hello there!\"\n",
    "\n",
    "function()"
   ]
  },
  {
   "cell_type": "code",
   "execution_count": 15,
   "metadata": {
    "application/vnd.databricks.v1+cell": {
     "inputWidgets": {},
     "nuid": "0f379f89-7601-4d5c-9252-808cf009b458",
     "showTitle": false,
     "title": ""
    }
   },
   "outputs": [],
   "source": [
    "class mydecorator:\n",
    "    def __init__(self,func):\n",
    "        self.func = func\n",
    "        \n",
    "    def __call__(self,*args,**kwargs):\n",
    "        self.func(*args,**kwargs)\n",
    "\n",
    "\n",
    "@mydecorator\n",
    "def function(name, message ='Hello'):\n",
    "    return(f\"{message}, {name}\")\n",
    "\n",
    "function(\"geeks_for_geeks\", \"hello\")"
   ]
  },
  {
   "cell_type": "markdown",
   "metadata": {
    "application/vnd.databricks.v1+cell": {
     "inputWidgets": {},
     "nuid": "44d5f087-9271-4843-a907-d43cc483a378",
     "showTitle": false,
     "title": ""
    }
   },
   "source": [
    "### Decorating classes\n",
    "\n",
    "Three of the most common Python decorators are used for decorating class methods:\n",
    "- `@property` is used to create property attributes that can only be accessed through its getter, setter, and deleter methods.\n",
    "\n",
    "- `@staticmethod` and `@classmethod` are used to define class methods that are not connected to particular instances of the class. Static methods don’t require an argument, while class methods take the class as an argument."
   ]
  },
  {
   "cell_type": "code",
   "execution_count": 16,
   "metadata": {
    "application/vnd.databricks.v1+cell": {
     "inputWidgets": {},
     "nuid": "3deb212b-4785-4885-9d7d-3ac9104bd51e",
     "showTitle": false,
     "title": ""
    }
   },
   "outputs": [
    {
     "name": "stdout",
     "output_type": "stream",
     "text": [
      "39825.75\n",
      "98621.75\n"
     ]
    }
   ],
   "source": [
    "class Account:\n",
    "    def __init__(self, balance):\n",
    "            self._balance = balance\n",
    "    @property\n",
    "    def balance(self):\n",
    "        \"\"\"Gets balance\"\"\"\n",
    "        return self._balance\n",
    "    \n",
    "    @balance.setter\n",
    "    def balance(self, value):\n",
    "        \"\"\"Set balance, raise error if negative\"\"\"\n",
    "        if value >= 0:\n",
    "            self._balance = value\n",
    "        else:\n",
    "            raise ValueError(\"balance must be positive\")\n",
    "            \n",
    "    @classmethod\n",
    "    def new_account(cls):\n",
    "        \"\"\"Returns a new account with 100.00 balance\"\"\"\n",
    "        return cls(100.00)\n",
    "     \n",
    "    @staticmethod\n",
    "    def interest():\n",
    "        \"\"\"The interest rate\"\"\"\n",
    "        return 5.25\n",
    "\n",
    "\n",
    "acc = Account(39825.75)\n",
    "print(acc.balance)\n",
    "acc.balance = 98621.75\n",
    "print(acc.balance)"
   ]
  }
 ],
 "metadata": {
  "anaconda-cloud": {},
  "application/vnd.databricks.v1+notebook": {
   "dashboards": [],
   "language": "python",
   "notebookMetadata": {
    "pythonIndentUnit": 2
   },
   "notebookName": "Python_Part5",
   "notebookOrigID": 3085993468102599,
   "widgets": {}
  },
  "kernelspec": {
   "display_name": "Python 3",
   "language": "python",
   "name": "python3"
  },
  "language_info": {
   "codemirror_mode": {
    "name": "ipython",
    "version": 3
   },
   "file_extension": ".py",
   "mimetype": "text/x-python",
   "name": "python",
   "nbconvert_exporter": "python",
   "pygments_lexer": "ipython3",
   "version": "3.7.3"
  }
 },
 "nbformat": 4,
 "nbformat_minor": 1
}
