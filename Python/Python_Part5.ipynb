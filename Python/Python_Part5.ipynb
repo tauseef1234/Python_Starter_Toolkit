{
 "cells": [
  {
   "cell_type": "markdown",
   "metadata": {},
   "source": [
    "# Python for Data Science and Machine Learning - Part 5\n",
    "--------"
   ]
  },
  {
   "cell_type": "markdown",
   "metadata": {
    "application/vnd.databricks.v1+cell": {
     "inputWidgets": {},
     "nuid": "ecfe6b18-e725-4a6f-b475-4d78be5faa74",
     "showTitle": false,
     "title": ""
    }
   },
   "source": [
    "## Functions\n",
    "\n",
    "A function is a relationship or mapping between one or more inputs and a set of outputs. Mathematically, a function is generally represented as follows:\n",
    "\n",
    "<img src=https://files.realpython.com/media/t.74ec5430f457.png width = 200>\n",
    "\n",
    "where f is a function that operates on the inputs x and y and generates z as an output. In programming, a function is a self-contained block of code that encapsulates a specific task or related group of tasks. The functions allow us to define a reusable block of code that can be used repeatedly in a program.\n",
    "\n",
    "Python provides several built-in functions such as print(), len() and type(), but we can also define our own functions to use within our programs."
   ]
  },
  {
   "cell_type": "markdown",
   "metadata": {
    "application/vnd.databricks.v1+cell": {
     "inputWidgets": {},
     "nuid": "cd7ac8e4-73aa-44cf-acdb-1d21599d5c75",
     "showTitle": false,
     "title": ""
    }
   },
   "source": [
    "**Syntax**\n",
    "\n",
    "The basic syntax for a Python function definition is:\n",
    "\n",
    "<img src=https://www.learnbyexample.org/wp-content/uploads/python/Python-Function-Syntax.png width=500>"
   ]
  },
  {
   "cell_type": "markdown",
   "metadata": {
    "application/vnd.databricks.v1+cell": {
     "inputWidgets": {},
     "nuid": "a029be1e-96d1-44b8-9358-1d91e01d33ff",
     "showTitle": false,
     "title": ""
    }
   },
   "source": [
    "**Create a function**\n",
    "\n",
    "A function is defined using the `def` keyword."
   ]
  },
  {
   "cell_type": "code",
   "execution_count": 1,
   "metadata": {
    "application/vnd.databricks.v1+cell": {
     "inputWidgets": {},
     "nuid": "8e9f77ee-46cd-4c1d-b216-75b1a5824ec5",
     "showTitle": false,
     "title": ""
    }
   },
   "outputs": [],
   "source": [
    "def hello():\n",
    "    print(\"Hello World!\")"
   ]
  },
  {
   "cell_type": "markdown",
   "metadata": {
    "application/vnd.databricks.v1+cell": {
     "inputWidgets": {},
     "nuid": "da5c6e8f-1a8b-457f-89fb-880a9b895068",
     "showTitle": false,
     "title": ""
    }
   },
   "source": [
    "**Call a function**"
   ]
  },
  {
   "cell_type": "code",
   "execution_count": 2,
   "metadata": {
    "application/vnd.databricks.v1+cell": {
     "inputWidgets": {},
     "nuid": "677125a6-a39b-4cc8-97a4-15c57f09b2a7",
     "showTitle": false,
     "title": ""
    }
   },
   "outputs": [
    {
     "name": "stdout",
     "output_type": "stream",
     "text": [
      "Hello World!\n"
     ]
    }
   ],
   "source": [
    "hello()"
   ]
  },
  {
   "cell_type": "markdown",
   "metadata": {
    "application/vnd.databricks.v1+cell": {
     "inputWidgets": {},
     "nuid": "b7943bb3-7623-4d93-932e-c5ec1ac0dcfb",
     "showTitle": false,
     "title": ""
    }
   },
   "source": [
    "**Pass Arguments**\n",
    "\n",
    "We can pass values, known as arguments, to a function that are declared after the function name in parentheses."
   ]
  },
  {
   "cell_type": "code",
   "execution_count": 3,
   "metadata": {
    "application/vnd.databricks.v1+cell": {
     "inputWidgets": {},
     "nuid": "5372c866-82e0-4494-8f11-44c3d2883894",
     "showTitle": false,
     "title": ""
    }
   },
   "outputs": [],
   "source": [
    "# pass a single argument\n",
    "def hello(name):\n",
    "    print('Hello,', name)\n",
    "    \n",
    "# pass mutiple arguments\n",
    "\n",
    "def func(country,city):\n",
    "    print(f'{city} is the capital of {country}')"
   ]
  },
  {
   "cell_type": "code",
   "execution_count": 4,
   "metadata": {
    "application/vnd.databricks.v1+cell": {
     "inputWidgets": {},
     "nuid": "0052e5f6-ebe7-438f-9cd4-8dd40c5b271b",
     "showTitle": false,
     "title": ""
    }
   },
   "outputs": [
    {
     "name": "stdout",
     "output_type": "stream",
     "text": [
      "Hello, Messi\n",
      "Paris is the capital of France\n"
     ]
    }
   ],
   "source": [
    "hello('Messi')\n",
    "func('France','Paris')"
   ]
  },
  {
   "cell_type": "markdown",
   "metadata": {
    "application/vnd.databricks.v1+cell": {
     "inputWidgets": {},
     "nuid": "73db98cf-97bc-4162-933c-9b1ab6cfd3b4",
     "showTitle": false,
     "title": ""
    }
   },
   "source": [
    "**Type of Arguments**\n",
    "\n",
    "1. Positional Arguments\n",
    "2. Keyword Arguments\n",
    "3. Default Arguments\n",
    "4. Variable Length Positional Arguments (*args)\n",
    "5. Variable Length Keyword Arguments (**kwargs)"
   ]
  },
  {
   "cell_type": "markdown",
   "metadata": {
    "application/vnd.databricks.v1+cell": {
     "inputWidgets": {},
     "nuid": "3f3e25cb-8284-4691-a223-2fe88ef592e5",
     "showTitle": false,
     "title": ""
    }
   },
   "source": [
    "Positional arguments - The positional argumentsare passed to the respective parameters in order."
   ]
  },
  {
   "cell_type": "code",
   "execution_count": 5,
   "metadata": {
    "application/vnd.databricks.v1+cell": {
     "inputWidgets": {},
     "nuid": "4f06a2ad-ad62-4b5e-944d-92b780f21fc9",
     "showTitle": false,
     "title": ""
    }
   },
   "outputs": [
    {
     "name": "stdout",
     "output_type": "stream",
     "text": [
      "Paris is the capital of France\n"
     ]
    }
   ],
   "source": [
    "# positional arguments\n",
    "def func(country,city):\n",
    "    print(f'{city} is the capital of {country}')\n",
    "    \n",
    "func('France','Paris')"
   ]
  },
  {
   "cell_type": "markdown",
   "metadata": {
    "application/vnd.databricks.v1+cell": {
     "inputWidgets": {},
     "nuid": "44dcb712-ba20-476c-b353-995da0004c2e",
     "showTitle": false,
     "title": ""
    }
   },
   "source": [
    "Keyword arguments - Pass arguments using the names of their corresponding parameters"
   ]
  },
  {
   "cell_type": "code",
   "execution_count": 6,
   "metadata": {
    "application/vnd.databricks.v1+cell": {
     "inputWidgets": {},
     "nuid": "53238ce6-1317-4f4d-b0c9-0ff15196a4d7",
     "showTitle": false,
     "title": ""
    }
   },
   "outputs": [
    {
     "name": "stdout",
     "output_type": "stream",
     "text": [
      "Paris is the capital of France\n"
     ]
    }
   ],
   "source": [
    "# keyword arguments can be put in any order\n",
    "def func(country,city):\n",
    "    print(f'{city} is the capital of {country}')\n",
    "\n",
    "func(city='Paris',country='France')"
   ]
  },
  {
   "cell_type": "markdown",
   "metadata": {
    "application/vnd.databricks.v1+cell": {
     "inputWidgets": {},
     "nuid": "b0946438-9ce1-41ac-bee9-2cec5dbd8bd9",
     "showTitle": false,
     "title": ""
    }
   },
   "source": [
    "Default arguments - The default value is used when the no argument is passed durina a function call"
   ]
  },
  {
   "cell_type": "code",
   "execution_count": 7,
   "metadata": {
    "application/vnd.databricks.v1+cell": {
     "inputWidgets": {},
     "nuid": "6074fe1a-221b-482e-85d8-b9a56f5eabf0",
     "showTitle": false,
     "title": ""
    }
   },
   "outputs": [
    {
     "name": "stdout",
     "output_type": "stream",
     "text": [
      "Paris is the capital of France\n"
     ]
    }
   ],
   "source": [
    "def func(country,city = 'Paris'):\n",
    "    print(f'{city} is the capital of {country}')\n",
    "    \n",
    "func('France')"
   ]
  },
  {
   "cell_type": "markdown",
   "metadata": {
    "application/vnd.databricks.v1+cell": {
     "inputWidgets": {},
     "nuid": "e5d8309a-2b9d-4eb6-8553-89e6faf6b10f",
     "showTitle": false,
     "title": ""
    }
   },
   "source": [
    "Note: The default argument should be preceeded by non-default arguments"
   ]
  },
  {
   "cell_type": "markdown",
   "metadata": {
    "application/vnd.databricks.v1+cell": {
     "inputWidgets": {},
     "nuid": "ca65a173-3716-4fe5-a086-5aa7f610018f",
     "showTitle": false,
     "title": ""
    }
   },
   "source": [
    "Variable length arguments - Pass variable number of arguments to a function using special symbols\n",
    "\n",
    "- *args - arugments\n",
    "- **kwargs - keyword arguments"
   ]
  },
  {
   "cell_type": "code",
   "execution_count": 8,
   "metadata": {
    "application/vnd.databricks.v1+cell": {
     "inputWidgets": {},
     "nuid": "ea83fe74-3f93-4c68-86f9-d249c0ff9765",
     "showTitle": false,
     "title": ""
    }
   },
   "outputs": [
    {
     "name": "stdout",
     "output_type": "stream",
     "text": [
      "6\n"
     ]
    }
   ],
   "source": [
    "# sum integers using *args\n",
    "def my_sum(*args):\n",
    "    result = 0\n",
    "    # Iterating over the Python args tuple\n",
    "    for x in args:\n",
    "        result += x\n",
    "    return result\n",
    "\n",
    "print(my_sum(1, 2, 3))"
   ]
  },
  {
   "cell_type": "code",
   "execution_count": 9,
   "metadata": {
    "application/vnd.databricks.v1+cell": {
     "inputWidgets": {},
     "nuid": "975d9247-ade6-4a38-a12e-0d9af8a33712",
     "showTitle": false,
     "title": ""
    }
   },
   "outputs": [
    {
     "name": "stdout",
     "output_type": "stream",
     "text": [
      "RealPythonIsGreat!\n"
     ]
    }
   ],
   "source": [
    "# concatenate strings using **kwargs\n",
    "def concatenate(**kwargs):\n",
    "    result = \"\"\n",
    "    # Iterating over the Python kwargs dictionary\n",
    "    for arg in kwargs.values():\n",
    "        result += arg\n",
    "    return result\n",
    "\n",
    "print(concatenate(a=\"Real\", b=\"Python\", c=\"Is\", d=\"Great\", e=\"!\"))"
   ]
  },
  {
   "cell_type": "markdown",
   "metadata": {
    "application/vnd.databricks.v1+cell": {
     "inputWidgets": {},
     "nuid": "1eb92d78-6c22-4231-b232-f624ca0e1784",
     "showTitle": false,
     "title": ""
    }
   },
   "source": [
    "**Return value(s)**"
   ]
  },
  {
   "cell_type": "code",
   "execution_count": 10,
   "metadata": {
    "application/vnd.databricks.v1+cell": {
     "inputWidgets": {},
     "nuid": "c81aaf39-1662-43a0-aa37-cb411cdd934a",
     "showTitle": false,
     "title": ""
    }
   },
   "outputs": [
    {
     "data": {
      "text/plain": [
       "5"
      ]
     },
     "execution_count": 10,
     "metadata": {},
     "output_type": "execute_result"
    }
   ],
   "source": [
    "# return a single value\n",
    "def my_sum(a,b):\n",
    "    return a+b\n",
    "my_sum(2,3)"
   ]
  },
  {
   "cell_type": "code",
   "execution_count": 11,
   "metadata": {
    "application/vnd.databricks.v1+cell": {
     "inputWidgets": {},
     "nuid": "c06e18dc-17e7-40f7-a5e9-96598d0ca75e",
     "showTitle": false,
     "title": ""
    }
   },
   "outputs": [
    {
     "data": {
      "text/plain": [
       "(5, 1)"
      ]
     },
     "execution_count": 11,
     "metadata": {},
     "output_type": "execute_result"
    }
   ],
   "source": [
    "# return multiple values\n",
    "\n",
    "def sum_diff(a,b):\n",
    "    return a+b, a-b\n",
    "\n",
    "sum_diff(3,2)"
   ]
  },
  {
   "cell_type": "markdown",
   "metadata": {
    "application/vnd.databricks.v1+cell": {
     "inputWidgets": {},
     "nuid": "9d80eae8-4d80-424b-bb0f-c777c94fe560",
     "showTitle": false,
     "title": ""
    }
   },
   "source": [
    "**Docstring**\n",
    "\n",
    "Attach a documentation to a function definition by including a string right after the function header."
   ]
  },
  {
   "cell_type": "code",
   "execution_count": 12,
   "metadata": {
    "application/vnd.databricks.v1+cell": {
     "inputWidgets": {},
     "nuid": "7ffb5b20-96a3-4ab8-873a-1da7a9dd3533",
     "showTitle": false,
     "title": ""
    }
   },
   "outputs": [
    {
     "name": "stdout",
     "output_type": "stream",
     "text": [
      "Help on function hello in module __main__:\n",
      "\n",
      "hello()\n",
      "    This function prints\n",
      "    message on the screen\n",
      "\n",
      "This function prints\n",
      "       message on the screen\n"
     ]
    }
   ],
   "source": [
    "def hello():\n",
    "    \"\"\"This function prints\n",
    "       message on the screen\"\"\"  \n",
    "    print('Hello, World!')\n",
    "    \n",
    "help(hello)\n",
    "\n",
    "# print docstring\n",
    "print(hello.__doc__)"
   ]
  },
  {
   "cell_type": "markdown",
   "metadata": {
    "application/vnd.databricks.v1+cell": {
     "inputWidgets": {},
     "nuid": "2e7e7b4f-968e-4350-be87-12af7697b482",
     "showTitle": false,
     "title": ""
    }
   },
   "source": [
    "## Python Variables Scope\n",
    "\n",
    "The part of the program where the variable is accessible is called its “scope” and is determined by where the variable is declared. There are four variable scopes in python: local, enclosing, global and built-in scope."
   ]
  },
  {
   "cell_type": "markdown",
   "metadata": {
    "application/vnd.databricks.v1+cell": {
     "inputWidgets": {},
     "nuid": "a22fe445-bec3-4fcd-828b-1bed961ebbd5",
     "showTitle": false,
     "title": ""
    }
   },
   "source": [
    "**Local Scope**\n",
    "\n",
    "A variable that is declared within a function has a local scope and is accessible from the point where it is declared and until the end of the function."
   ]
  },
  {
   "cell_type": "code",
   "execution_count": 13,
   "metadata": {
    "application/vnd.databricks.v1+cell": {
     "inputWidgets": {},
     "nuid": "a609a817-c90a-4cb4-bba1-9725ee4afea3",
     "showTitle": false,
     "title": ""
    }
   },
   "outputs": [
    {
     "name": "stdout",
     "output_type": "stream",
     "text": [
      "Hello\n"
     ]
    }
   ],
   "source": [
    "def myfunc():\n",
    "    x='Hello'\n",
    "    print (x)\n",
    "    \n",
    "myfunc()\n",
    "# print(x)\n",
    "# NameError: name 'x' is not defined"
   ]
  },
  {
   "cell_type": "markdown",
   "metadata": {
    "application/vnd.databricks.v1+cell": {
     "inputWidgets": {},
     "nuid": "7cddf61b-a646-4142-9e89-578abc4bc4e8",
     "showTitle": false,
     "title": ""
    }
   },
   "source": [
    "**Global Scope**"
   ]
  },
  {
   "cell_type": "code",
   "execution_count": 14,
   "metadata": {
    "application/vnd.databricks.v1+cell": {
     "inputWidgets": {},
     "nuid": "5ac67ade-0e14-451a-960b-3279e998e17b",
     "showTitle": false,
     "title": ""
    }
   },
   "outputs": [
    {
     "name": "stdout",
     "output_type": "stream",
     "text": [
      "Hello\n",
      "Hello\n"
     ]
    }
   ],
   "source": [
    "x = 'Hello'\n",
    "def myfunc():\n",
    "    print(x)\n",
    "myfunc()\n",
    "print(x)"
   ]
  },
  {
   "cell_type": "markdown",
   "metadata": {
    "application/vnd.databricks.v1+cell": {
     "inputWidgets": {},
     "nuid": "ff3e3bd6-93aa-43be-b6c7-4524bb8eeebe",
     "showTitle": false,
     "title": ""
    }
   },
   "source": [
    "**Enclosing Scope**"
   ]
  },
  {
   "cell_type": "markdown",
   "metadata": {
    "application/vnd.databricks.v1+cell": {
     "inputWidgets": {},
     "nuid": "d7292ed5-b84c-47d2-a087-843912c1fa71",
     "showTitle": false,
     "title": ""
    }
   },
   "source": [
    "From inside, the `inner_func()`, the scope lies between a local and global scope and known as enclosing scope. Here, the value of existing variable x didn’t change because python created a new local variable named x that shadows the variable in the outer scope."
   ]
  },
  {
   "cell_type": "code",
   "execution_count": 15,
   "metadata": {
    "application/vnd.databricks.v1+cell": {
     "inputWidgets": {},
     "nuid": "bdeae6c6-aacf-4cfd-aae7-ea8abd25460d",
     "showTitle": false,
     "title": ""
    }
   },
   "outputs": [
    {
     "name": "stdout",
     "output_type": "stream",
     "text": [
      "0\n",
      "10\n"
     ]
    }
   ],
   "source": [
    "def outer_func():\n",
    "    var = 10\n",
    "    # nested function\n",
    "    def inner_func():\n",
    "        var = 0\n",
    "        print(var)    # x is 0\n",
    "    inner_func()\n",
    "    print(var)        # x is still 10\n",
    "\n",
    "outer_func()"
   ]
  },
  {
   "cell_type": "markdown",
   "metadata": {
    "application/vnd.databricks.v1+cell": {
     "inputWidgets": {},
     "nuid": "223661d1-53eb-4c5d-8316-ff23d8e54a9a",
     "showTitle": false,
     "title": ""
    }
   },
   "source": [
    "By using `nonlocal` keyword, the x inside the nested function now refers to the x outside the function, so changing x inside the function changes the x outside it."
   ]
  },
  {
   "cell_type": "code",
   "execution_count": 16,
   "metadata": {
    "application/vnd.databricks.v1+cell": {
     "inputWidgets": {},
     "nuid": "6857b857-13b0-444c-a26f-7da82c768561",
     "showTitle": false,
     "title": ""
    }
   },
   "outputs": [
    {
     "name": "stdout",
     "output_type": "stream",
     "text": [
      "0\n",
      "0\n"
     ]
    }
   ],
   "source": [
    "# enclosing function\n",
    "def f1():\n",
    "    x = 42\n",
    "    # nested function\n",
    "    def f2():\n",
    "        nonlocal x\n",
    "        x = 0\n",
    "        print(x)    # x is now 0\n",
    "    f2()\n",
    "    print(x)        # x remains 0\n",
    "    \n",
    "f1()"
   ]
  },
  {
   "cell_type": "markdown",
   "metadata": {
    "application/vnd.databricks.v1+cell": {
     "inputWidgets": {},
     "nuid": "58fdbb0d-8444-487a-aefe-04ebde20002f",
     "showTitle": false,
     "title": ""
    }
   },
   "source": [
    "**Scoping LEGB Rule**\n",
    "\n",
    "<img src = https://www.learnbyexample.org/wp-content/uploads/python/python-scoping-rule-legb-rule.png>\n",
    "\n",
    "When a variable is referenced, Python follows LEGB rule and searches up to four scopes in this order:\n",
    "\n",
    "1. first in the local (L) scope,\n",
    "\n",
    "2. then in the local scopes of any enclosing (E) functions and lambdas,\n",
    "\n",
    "3. then in the global (G) scope,\n",
    "\n",
    "4. and finally in then the built-in (B) scope"
   ]
  },
  {
   "cell_type": "markdown",
   "metadata": {
    "application/vnd.databricks.v1+cell": {
     "inputWidgets": {},
     "nuid": "ba685c45-b733-4b20-8dfb-290c941df96b",
     "showTitle": false,
     "title": ""
    }
   },
   "source": [
    "## Lambda Function\n",
    "\n",
    "A lambda function is an anonymous function created using the keyword `lambda`"
   ]
  },
  {
   "cell_type": "code",
   "execution_count": 17,
   "metadata": {
    "application/vnd.databricks.v1+cell": {
     "inputWidgets": {},
     "nuid": "1d150e8f-1ca8-46d4-8842-894f5414350d",
     "showTitle": false,
     "title": ""
    }
   },
   "outputs": [
    {
     "data": {
      "text/plain": [
       "4"
      ]
     },
     "execution_count": 17,
     "metadata": {},
     "output_type": "execute_result"
    }
   ],
   "source": [
    "double = lambda x:x**2\n",
    "double(2)"
   ]
  },
  {
   "cell_type": "code",
   "execution_count": 18,
   "metadata": {
    "application/vnd.databricks.v1+cell": {
     "inputWidgets": {},
     "nuid": "a402efdb-df29-4291-bd29-8eab53ef4abe",
     "showTitle": false,
     "title": ""
    }
   },
   "outputs": [
    {
     "data": {
      "text/plain": [
       "5"
      ]
     },
     "execution_count": 18,
     "metadata": {},
     "output_type": "execute_result"
    }
   ],
   "source": [
    "add = lambda x, y: x + y\n",
    "add(2,3)"
   ]
  },
  {
   "cell_type": "code",
   "execution_count": 19,
   "metadata": {
    "application/vnd.databricks.v1+cell": {
     "inputWidgets": {},
     "nuid": "f97bbb34-6a1d-475f-9030-ee79d0c5826c",
     "showTitle": false,
     "title": ""
    }
   },
   "outputs": [
    {
     "data": {
      "text/plain": [
       "1"
      ]
     },
     "execution_count": 19,
     "metadata": {},
     "output_type": "execute_result"
    }
   ],
   "source": [
    "my_list =[2,1,4]\n",
    "# returns the first element of the above list\n",
    "b = lambda x:x[1]\n",
    "b(my_list)"
   ]
  },
  {
   "cell_type": "markdown",
   "metadata": {
    "application/vnd.databricks.v1+cell": {
     "inputWidgets": {},
     "nuid": "3b5200f8-784d-4af4-a59b-f88d68dc13ca",
     "showTitle": false,
     "title": ""
    }
   },
   "source": [
    "**Lambdas with map, filter and reduce**"
   ]
  },
  {
   "cell_type": "markdown",
   "metadata": {
    "application/vnd.databricks.v1+cell": {
     "inputWidgets": {},
     "nuid": "d380304a-ad9f-4ce6-818a-ab012604e0a3",
     "showTitle": false,
     "title": ""
    }
   },
   "source": [
    "`map()` takes a function as a first argument and applies it to each of the elements of its second argument, an iterable (most commonly a list)."
   ]
  },
  {
   "cell_type": "code",
   "execution_count": 20,
   "metadata": {
    "application/vnd.databricks.v1+cell": {
     "inputWidgets": {},
     "nuid": "c98ddf3b-bdcf-4f2a-bcb2-e7aeb3a12369",
     "showTitle": false,
     "title": ""
    }
   },
   "outputs": [
    {
     "data": {
      "text/plain": [
       "[0, 2, 4]"
      ]
     },
     "execution_count": 20,
     "metadata": {},
     "output_type": "execute_result"
    }
   ],
   "source": [
    "list(map((lambda x: x*2), range(3)))"
   ]
  },
  {
   "cell_type": "code",
   "execution_count": 21,
   "metadata": {
    "application/vnd.databricks.v1+cell": {
     "inputWidgets": {},
     "nuid": "cfa3cc70-0b75-46b9-95c9-9cd7153f8755",
     "showTitle": false,
     "title": ""
    }
   },
   "outputs": [
    {
     "data": {
      "text/plain": [
       "['A', 'B', 'C']"
      ]
     },
     "execution_count": 21,
     "metadata": {},
     "output_type": "execute_result"
    }
   ],
   "source": [
    "list(map((lambda x: x.upper()), 'abc'))"
   ]
  },
  {
   "cell_type": "code",
   "execution_count": 22,
   "metadata": {
    "application/vnd.databricks.v1+cell": {
     "inputWidgets": {},
     "nuid": "eee521b8-5648-489c-91bf-27fdda9b9325",
     "showTitle": false,
     "title": ""
    }
   },
   "outputs": [
    {
     "data": {
      "text/plain": [
       "['Cat', 'Dog', 'Cow']"
      ]
     },
     "execution_count": 22,
     "metadata": {},
     "output_type": "execute_result"
    }
   ],
   "source": [
    "list(map(lambda x:x.capitalize(), ['cat', 'dog', 'cow']))"
   ]
  },
  {
   "cell_type": "markdown",
   "metadata": {
    "application/vnd.databricks.v1+cell": {
     "inputWidgets": {},
     "nuid": "aaecb617-7cac-4829-85a6-41eb34cedf68",
     "showTitle": false,
     "title": ""
    }
   },
   "source": [
    "`filter()` function is similar to the map(). It takes a function and applies it to each item in the list to create a new list with only those items that cause the function to return True."
   ]
  },
  {
   "cell_type": "code",
   "execution_count": 23,
   "metadata": {
    "application/vnd.databricks.v1+cell": {
     "inputWidgets": {},
     "nuid": "825a75c9-51db-47c0-b8bf-55b166b64a19",
     "showTitle": false,
     "title": ""
    }
   },
   "outputs": [
    {
     "data": {
      "text/plain": [
       "['dog', 'cow']"
      ]
     },
     "execution_count": 23,
     "metadata": {},
     "output_type": "execute_result"
    }
   ],
   "source": [
    "list(filter(lambda x: 'o' in x, ['cat', 'dog', 'cow']))"
   ]
  },
  {
   "cell_type": "markdown",
   "metadata": {
    "application/vnd.databricks.v1+cell": {
     "inputWidgets": {},
     "nuid": "293147a2-9bbd-4878-ae20-bab9591420cb",
     "showTitle": false,
     "title": ""
    }
   },
   "source": [
    "`reduce()` applies a rolling calculation to all items in a list."
   ]
  },
  {
   "cell_type": "code",
   "execution_count": 24,
   "metadata": {
    "application/vnd.databricks.v1+cell": {
     "inputWidgets": {},
     "nuid": "1481643a-fcee-4abd-9596-d73a34b2b5ca",
     "showTitle": false,
     "title": ""
    }
   },
   "outputs": [
    {
     "data": {
      "text/plain": [
       "'cat | dog | cow'"
      ]
     },
     "execution_count": 24,
     "metadata": {},
     "output_type": "execute_result"
    }
   ],
   "source": [
    "from functools import reduce\n",
    "reduce(lambda acc, x: f'{acc} | {x}', ['cat', 'dog', 'cow'])"
   ]
  },
  {
   "cell_type": "markdown",
   "metadata": {
    "application/vnd.databricks.v1+cell": {
     "inputWidgets": {},
     "nuid": "6cbdc0fd-ed98-4143-b110-f9b6dccae802",
     "showTitle": false,
     "title": ""
    }
   },
   "source": [
    "**if else in a lambda**"
   ]
  },
  {
   "cell_type": "code",
   "execution_count": 25,
   "metadata": {
    "application/vnd.databricks.v1+cell": {
     "inputWidgets": {},
     "nuid": "7e09eac6-14c7-4f3f-8cc8-131c13b87e8d",
     "showTitle": false,
     "title": ""
    }
   },
   "outputs": [
    {
     "name": "stdout",
     "output_type": "stream",
     "text": [
      "2\n"
     ]
    }
   ],
   "source": [
    "exp = lambda x, y: x if x < y else y\n",
    "\n",
    "print(exp(2, 4))"
   ]
  },
  {
   "cell_type": "markdown",
   "metadata": {
    "application/vnd.databricks.v1+cell": {
     "inputWidgets": {},
     "nuid": "7fe858a3-e5dc-48ff-a4b6-123c8249ec35",
     "showTitle": false,
     "title": ""
    }
   },
   "source": [
    "**List comprehension in a lambda**"
   ]
  },
  {
   "cell_type": "code",
   "execution_count": 26,
   "metadata": {
    "application/vnd.databricks.v1+cell": {
     "inputWidgets": {},
     "nuid": "06c9cfbb-dd5b-458c-81da-2e380ba7e4c8",
     "showTitle": false,
     "title": ""
    }
   },
   "outputs": [
    {
     "name": "stdout",
     "output_type": "stream",
     "text": [
      "[1, 2, 3, 4, 5, 6, 7, 8, 9]\n"
     ]
    }
   ],
   "source": [
    "flatten = lambda l: [item for sublist in l for item in sublist]\n",
    "L = [[1, 2, 3], [4, 5, 6], [7], [8, 9]]\n",
    "print(flatten(L))"
   ]
  }
 ],
 "metadata": {
  "anaconda-cloud": {},
  "application/vnd.databricks.v1+notebook": {
   "dashboards": [],
   "language": "python",
   "notebookMetadata": {
    "pythonIndentUnit": 2
   },
   "notebookName": "Python_Functions",
   "notebookOrigID": 3368454474745191,
   "widgets": {}
  },
  "kernelspec": {
   "display_name": "Python 3",
   "language": "python",
   "name": "python3"
  },
  "language_info": {
   "codemirror_mode": {
    "name": "ipython",
    "version": 3
   },
   "file_extension": ".py",
   "mimetype": "text/x-python",
   "name": "python",
   "nbconvert_exporter": "python",
   "pygments_lexer": "ipython3",
   "version": "3.7.3"
  }
 },
 "nbformat": 4,
 "nbformat_minor": 1
}
