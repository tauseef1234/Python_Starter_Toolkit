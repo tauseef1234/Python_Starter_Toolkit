{
 "cells": [
  {
   "cell_type": "markdown",
   "metadata": {
    "application/vnd.databricks.v1+cell": {
     "inputWidgets": {},
     "nuid": "0a8a9a66-dd5f-40f8-bc96-44b7c09b014f",
     "showTitle": false,
     "title": ""
    }
   },
   "source": [
    "# Python for Data Science and Machine Learning - Part 3\n",
    "\n",
    "---\n",
    "\n",
    "### Strings\n",
    "\n",
    "Create a string"
   ]
  },
  {
   "cell_type": "code",
   "execution_count": 1,
   "metadata": {
    "application/vnd.databricks.v1+cell": {
     "inputWidgets": {},
     "nuid": "91e0136f-ec8a-4f83-8093-bf7a486d0b78",
     "showTitle": false,
     "title": ""
    }
   },
   "outputs": [],
   "source": [
    "S = 'Hello, World!' # single quote\n",
    "S = \"Hello, World!\" # double quotes"
   ]
  },
  {
   "cell_type": "markdown",
   "metadata": {
    "application/vnd.databricks.v1+cell": {
     "inputWidgets": {},
     "nuid": "452ad2f7-4595-454d-b9b5-6e89949ea2b1",
     "showTitle": false,
     "title": ""
    }
   },
   "source": [
    "**Multiline Strings**\n",
    "\n",
    "A multiline string can be using triple-quotes: \"\"\" \"\"\" or ''' '''."
   ]
  },
  {
   "cell_type": "code",
   "execution_count": 2,
   "metadata": {
    "application/vnd.databricks.v1+cell": {
     "inputWidgets": {},
     "nuid": "c339294c-7fed-442e-a7b8-bf0a606d26e7",
     "showTitle": false,
     "title": ""
    }
   },
   "outputs": [],
   "source": [
    "# parsing word over multiple lines\n",
    "S = \"\"\"Hello\n",
    "       World\"\"\""
   ]
  },
  {
   "cell_type": "markdown",
   "metadata": {
    "application/vnd.databricks.v1+cell": {
     "inputWidgets": {},
     "nuid": "254956d1-eb19-438c-b053-b0ac0c5ccedf",
     "showTitle": false,
     "title": ""
    }
   },
   "source": [
    "**The str() constructor**\n",
    "\n",
    "Any object in Python can be converted to a string using a type constructor called `str()`"
   ]
  },
  {
   "cell_type": "code",
   "execution_count": 3,
   "metadata": {
    "application/vnd.databricks.v1+cell": {
     "inputWidgets": {},
     "nuid": "a5595f0f-dad7-4290-b6c8-05440c0bfbd2",
     "showTitle": false,
     "title": ""
    }
   },
   "outputs": [
    {
     "name": "stdout",
     "output_type": "stream",
     "text": [
      "42\n",
      "(3+4j)\n",
      "[1, 1]\n"
     ]
    }
   ],
   "source": [
    "# an integer to a string\n",
    "S = str(42)\n",
    "print(S)\n",
    "\n",
    "# a complex number to a string\n",
    "S = str(3+4j)\n",
    "print(S)\n",
    "\n",
    "# a list to a string\n",
    "S = str([1,1])\n",
    "print(S)"
   ]
  },
  {
   "cell_type": "markdown",
   "metadata": {
    "application/vnd.databricks.v1+cell": {
     "inputWidgets": {},
     "nuid": "2e5b9ec4-5f09-4bad-9409-9c068b30a5b4",
     "showTitle": false,
     "title": ""
    }
   },
   "source": [
    "**Access characters by index**\n",
    "\n",
    "Individual characters in a string can be accessed using an index in square brackets. The string indexing starts from 0.\n",
    "\n",
    "A string can also be accessed by negative indexing. A negative string index counts from the end of the string.\n",
    "\n",
    "<img src = 'https://www.learnbyexample.org/wp-content/uploads/python/String-Indexing.png'>"
   ]
  },
  {
   "cell_type": "code",
   "execution_count": 4,
   "metadata": {
    "application/vnd.databricks.v1+cell": {
     "inputWidgets": {},
     "nuid": "2c9e190e-6535-4ba6-875a-e74550c86aab",
     "showTitle": false,
     "title": ""
    }
   },
   "outputs": [
    {
     "name": "stdout",
     "output_type": "stream",
     "text": [
      "A\n",
      "D\n",
      "I\n",
      "E\n"
     ]
    }
   ],
   "source": [
    "# Indexing\n",
    "S = 'ABCDEFGHI'\n",
    "print(S[0])\n",
    "print(S[3]) \n",
    "\n",
    "# Negative Indexing\n",
    "S = 'ABCDEFGHI'\n",
    "print(S[-1])\n",
    "print(S[-5])"
   ]
  },
  {
   "cell_type": "markdown",
   "metadata": {
    "application/vnd.databricks.v1+cell": {
     "inputWidgets": {},
     "nuid": "89a11266-9152-4aa3-a497-8b9b5bc573d4",
     "showTitle": false,
     "title": ""
    }
   },
   "source": [
    "**Slicing a string**\n",
    "\n",
    "More on this later"
   ]
  },
  {
   "cell_type": "code",
   "execution_count": 5,
   "metadata": {
    "application/vnd.databricks.v1+cell": {
     "inputWidgets": {},
     "nuid": "3e7b864d-0d44-46ad-b55c-0dd41c668809",
     "showTitle": false,
     "title": ""
    }
   },
   "outputs": [
    {
     "name": "stdout",
     "output_type": "stream",
     "text": [
      "CDE\n",
      "FGH\n",
      "BDF\n"
     ]
    }
   ],
   "source": [
    "S = 'ABCDEFGHI'\n",
    "print(S[2:5])\n",
    "print(S[5:-1])\n",
    "print(S[1:6:2])"
   ]
  },
  {
   "cell_type": "markdown",
   "metadata": {
    "application/vnd.databricks.v1+cell": {
     "inputWidgets": {},
     "nuid": "8f7702c4-40c3-4eb3-9484-e3d0a7edc21d",
     "showTitle": false,
     "title": ""
    }
   },
   "source": [
    "**String concatenation**"
   ]
  },
  {
   "cell_type": "code",
   "execution_count": 6,
   "metadata": {
    "application/vnd.databricks.v1+cell": {
     "inputWidgets": {},
     "nuid": "9e819a7f-272c-4179-8b13-687edab105c2",
     "showTitle": false,
     "title": ""
    }
   },
   "outputs": [
    {
     "name": "stdout",
     "output_type": "stream",
     "text": [
      "Hello, World!\n"
     ]
    }
   ],
   "source": [
    "# concatenation operator\n",
    "S = 'Hello,' + ' World!'\n",
    "print(S)"
   ]
  },
  {
   "cell_type": "markdown",
   "metadata": {
    "application/vnd.databricks.v1+cell": {
     "inputWidgets": {},
     "nuid": "8688e09d-0725-4ead-a77b-da2ab96ee06c",
     "showTitle": false,
     "title": ""
    }
   },
   "source": [
    "**Replace a text with a string**\n",
    "\n",
    "A text inside a string can be replaced by using the `replace()` method."
   ]
  },
  {
   "cell_type": "code",
   "execution_count": 7,
   "metadata": {
    "application/vnd.databricks.v1+cell": {
     "inputWidgets": {},
     "nuid": "c9ecbf7e-5b5b-4bc3-a5c5-9dea8373659d",
     "showTitle": false,
     "title": ""
    }
   },
   "outputs": [
    {
     "name": "stdout",
     "output_type": "stream",
     "text": [
      "Python is amazing\n"
     ]
    }
   ],
   "source": [
    "S = 'Python is fun'\n",
    "x = S.replace('fun', 'amazing')\n",
    "print(x)"
   ]
  },
  {
   "cell_type": "markdown",
   "metadata": {
    "application/vnd.databricks.v1+cell": {
     "inputWidgets": {},
     "nuid": "441e63ed-4f65-4f5d-923f-78e5c5fa7130",
     "showTitle": false,
     "title": ""
    }
   },
   "source": [
    "Python escape sequence"
   ]
  },
  {
   "cell_type": "code",
   "execution_count": 8,
   "metadata": {
    "application/vnd.databricks.v1+cell": {
     "inputWidgets": {},
     "nuid": "f1c92130-f0d3-4dfb-be8a-3d35599ac375",
     "showTitle": false,
     "title": ""
    }
   },
   "outputs": [],
   "source": [
    "S = \"Hello, it's me\"\n",
    "S = \"He said 'Bonjour!'\"\n",
    "S = 'She said \"Ola!\"'"
   ]
  },
  {
   "cell_type": "markdown",
   "metadata": {
    "application/vnd.databricks.v1+cell": {
     "inputWidgets": {},
     "nuid": "986afe8d-58b5-4e8d-9ac7-fa2a7ad06094",
     "showTitle": false,
     "title": ""
    }
   },
   "source": [
    "This is fine for most of the time but what if you want to declare a string with both single and double quotes like:\n",
    "\n",
    "- Hello, it's me\n",
    "- Bob told me, “Sam said, ‘This won’t work.'”"
   ]
  },
  {
   "cell_type": "code",
   "execution_count": 9,
   "metadata": {
    "application/vnd.databricks.v1+cell": {
     "inputWidgets": {},
     "nuid": "cc51d228-d34c-4a01-b96d-4edb637c413a",
     "showTitle": false,
     "title": ""
    },
    "scrolled": true
   },
   "outputs": [
    {
     "ename": "SyntaxError",
     "evalue": "invalid syntax (<ipython-input-9-7a0dcf1ebeb0>, line 1)",
     "output_type": "error",
     "traceback": [
      "\u001b[1;36m  File \u001b[1;32m\"<ipython-input-9-7a0dcf1ebeb0>\"\u001b[1;36m, line \u001b[1;32m1\u001b[0m\n\u001b[1;33m    S = 'Hello, it's me'\u001b[0m\n\u001b[1;37m                   ^\u001b[0m\n\u001b[1;31mSyntaxError\u001b[0m\u001b[1;31m:\u001b[0m invalid syntax\n"
     ]
    }
   ],
   "source": [
    "S = 'Hello, it's me'"
   ]
  },
  {
   "cell_type": "markdown",
   "metadata": {
    "application/vnd.databricks.v1+cell": {
     "inputWidgets": {},
     "nuid": "be5823b0-422b-4662-8a2a-4490faefe85a",
     "showTitle": false,
     "title": ""
    }
   },
   "source": [
    "Oops an error! In order to declare a string with single and double quotes, python escape sequences are used."
   ]
  },
  {
   "cell_type": "code",
   "execution_count": 10,
   "metadata": {
    "application/vnd.databricks.v1+cell": {
     "inputWidgets": {},
     "nuid": "4587cec2-c3cd-4682-8276-ffbea24381bc",
     "showTitle": false,
     "title": ""
    }
   },
   "outputs": [
    {
     "name": "stdout",
     "output_type": "stream",
     "text": [
      "Hello, it's me\n"
     ]
    }
   ],
   "source": [
    "S = 'Hello, it\\'s me'\n",
    "print(S)"
   ]
  },
  {
   "cell_type": "code",
   "execution_count": 11,
   "metadata": {
    "application/vnd.databricks.v1+cell": {
     "inputWidgets": {},
     "nuid": "4e8e0341-5665-40c9-9349-79c2016572d1",
     "showTitle": false,
     "title": ""
    }
   },
   "outputs": [
    {
     "name": "stdout",
     "output_type": "stream",
     "text": [
      "Bob told me, \"Sam said, 'This won't work.'\"\n"
     ]
    }
   ],
   "source": [
    "S = \"Bob told me, \\\"Sam said, 'This won't work.'\\\"\"\n",
    "print(S)"
   ]
  },
  {
   "cell_type": "markdown",
   "metadata": {
    "application/vnd.databricks.v1+cell": {
     "inputWidgets": {},
     "nuid": "4d36d578-0320-4847-866d-d563d5b808bd",
     "showTitle": false,
     "title": ""
    }
   },
   "source": [
    "**Python Escape Sequences**\n",
    "\n",
    "| Syntax         | Description |\n",
    "| :------------  | :----------- |\n",
    "| \\newline      | Backslash and newline ignored       |\n",
    "| \\\\       | Backslash (\\)        |\n",
    "| \\'   | Single quote (')       |\n",
    "| \\\"        | Double quote(\")      |\n",
    "| \\t      | ASCII Horizontal Tab (TAB)       |\n",
    "| \\n       | ASCII Linefeed (LF)        |\n",
    "| `popitem()`    | Removes and returns last inserted key:value pair from the dictionary.        |\n",
    "| `setdefault()` | Returns the value of the specified key, if present. Else, inserts the key with a specified value.       |\n",
    "| `update()`     | Updates the dictionary with the specified key:value pairs        |\n",
    "| `values()`     | Returns a list of all values from dictionary       |"
   ]
  },
  {
   "cell_type": "code",
   "execution_count": 12,
   "metadata": {
    "application/vnd.databricks.v1+cell": {
     "inputWidgets": {},
     "nuid": "eb322adb-bfd4-4bb2-a69f-99eb176c2953",
     "showTitle": false,
     "title": ""
    }
   },
   "outputs": [
    {
     "name": "stdout",
     "output_type": "stream",
     "text": [
      "'\n",
      "\\\n",
      "\"\n",
      "Hello \t World!\n",
      "Hello \n",
      " World!\n"
     ]
    }
   ],
   "source": [
    "print('\\'')\n",
    "print('\\\\')\n",
    "print(\"\\\"\")\n",
    "print(\"Hello \\t World!\")\n",
    "print(\"Hello \\n World!\")"
   ]
  },
  {
   "cell_type": "markdown",
   "metadata": {
    "application/vnd.databricks.v1+cell": {
     "inputWidgets": {},
     "nuid": "d9e76646-6c97-48b8-95a7-1b5d1709ff64",
     "showTitle": false,
     "title": ""
    }
   },
   "source": [
    "**String Formatting/String Interpolation**\n",
    "\n",
    "In Python, there are three popular ways to embed variables into a string:\n",
    "- printf-style % String Formatting\n",
    "- str.format() Built-in Method\n",
    "- f-String Formatter"
   ]
  },
  {
   "cell_type": "code",
   "execution_count": 13,
   "metadata": {
    "application/vnd.databricks.v1+cell": {
     "inputWidgets": {},
     "nuid": "386b5d2b-53c1-4275-8185-0b35b839592a",
     "showTitle": false,
     "title": ""
    }
   },
   "outputs": [
    {
     "name": "stdout",
     "output_type": "stream",
     "text": [
      "Bob is 25 years old.\n",
      "The value of pi is 3.14\n"
     ]
    }
   ],
   "source": [
    "S = '%s is %d years old.' % ('Bob', 25)\n",
    "print(S)\n",
    "\n",
    "S = 'The value of %s is %.2f' % ('pi',3.14)\n",
    "print(S)"
   ]
  },
  {
   "cell_type": "code",
   "execution_count": 14,
   "metadata": {
    "application/vnd.databricks.v1+cell": {
     "inputWidgets": {},
     "nuid": "0257573e-bbd8-4ac0-bae2-92aecaf629c6",
     "showTitle": false,
     "title": ""
    }
   },
   "outputs": [
    {
     "name": "stdout",
     "output_type": "stream",
     "text": [
      "Bob is 25 years old.\n",
      "Bob is 25 years old.\n"
     ]
    }
   ],
   "source": [
    "S1 = '{} is {} years old.'.format('Bob',25)\n",
    "print (S1)\n",
    "S2 = '{1} is {0} years old.'.format(25, 'Bob')\n",
    "print(S2)"
   ]
  },
  {
   "cell_type": "code",
   "execution_count": 15,
   "metadata": {
    "application/vnd.databricks.v1+cell": {
     "inputWidgets": {},
     "nuid": "a80fc89e-2fcc-462b-b053-07793257b261",
     "showTitle": false,
     "title": ""
    }
   },
   "outputs": [
    {
     "name": "stdout",
     "output_type": "stream",
     "text": [
      "Bob is 25 years old.\n"
     ]
    }
   ],
   "source": [
    "name = 'Bob'\n",
    "age = 25\n",
    "S = f\"{name} is {age} years old.\"\n",
    "print(S)"
   ]
  },
  {
   "cell_type": "markdown",
   "metadata": {
    "application/vnd.databricks.v1+cell": {
     "inputWidgets": {},
     "nuid": "4ebcaffe-4ff6-4cf3-a80d-a9e9393c2241",
     "showTitle": false,
     "title": ""
    }
   },
   "source": [
    "**String Methods**\n",
    "\n",
    "\n",
    "| Syntax         | Description |\n",
    "| :------------  | :----------- |\n",
    "| `rsplit()`     | Splits a string into a list of substrings      |\n",
    "| `split()`      | Splits a string into a list of substrings      |\n",
    "| `rstrip()`     | Strips characters from the right end of a string       |\n",
    "| `lstrip()`     | Strips characters from the left end of a string       |\n",
    "| `ljust()`      | Returns left-aligned string       |\n",
    "| `startswith()` | Determines whether the string starts with a given substring        |\n",
    "| `strip()`      | Strips leading and trailing characters        |\n",
    "| `endswith()`   | Determines whether the string ends with a given suffix       |\n",
    "| `partition()`  | Divides a string based on a separator        |\n",
    "| `join()`       | Joins all items in an iterable into a single string       |\n",
    "| `upper()`      | Converts all characters in a string to lowercase     |\n",
    "| `lower()`      | Converts all characters in a string to uppercase     |\n",
    "| `zfill()`      | Pads a string on the le with zeros       |"
   ]
  },
  {
   "cell_type": "markdown",
   "metadata": {
    "application/vnd.databricks.v1+cell": {
     "inputWidgets": {},
     "nuid": "ad378fb1-96ce-4893-a12c-0687d63d6c3f",
     "showTitle": false,
     "title": ""
    }
   },
   "source": [
    "## String Slicing\n",
    "\n",
    "Python also allows a form of indexing syntax that extracts substrings from a string, known as string slicing. If `s` is a string, an expression of the form `s[m:n]` returns the portion of `s` starting with position `m`, and up to but not including position `n`:\n",
    "\n",
    "<img src = 'https://files.realpython.com/media/t.5089888b3d9f.png' width =400>"
   ]
  },
  {
   "cell_type": "code",
   "execution_count": 16,
   "metadata": {
    "application/vnd.databricks.v1+cell": {
     "inputWidgets": {},
     "nuid": "d06bfce8-0afd-48d0-a19d-c64af541e609",
     "showTitle": false,
     "title": ""
    }
   },
   "outputs": [
    {
     "name": "stdout",
     "output_type": "stream",
     "text": [
      "oba\n"
     ]
    }
   ],
   "source": [
    "S = 'foobar'\n",
    "print(S[2:5])"
   ]
  },
  {
   "cell_type": "code",
   "execution_count": 17,
   "metadata": {
    "application/vnd.databricks.v1+cell": {
     "inputWidgets": {},
     "nuid": "d0458944-5285-4e0f-92f2-b5e31065441b",
     "showTitle": false,
     "title": ""
    }
   },
   "outputs": [
    {
     "name": "stdout",
     "output_type": "stream",
     "text": [
      "oob\n"
     ]
    }
   ],
   "source": [
    "S = 'foobar'\n",
    "print(S[-5:-2])"
   ]
  },
  {
   "cell_type": "markdown",
   "metadata": {
    "application/vnd.databricks.v1+cell": {
     "inputWidgets": {},
     "nuid": "4edb1d17-7cbc-4a95-b46f-f5342768d808",
     "showTitle": false,
     "title": ""
    }
   },
   "source": [
    "<img src='https://files.realpython.com/media/t.ed50396b1e71.png' width = 400>"
   ]
  },
  {
   "cell_type": "markdown",
   "metadata": {
    "application/vnd.databricks.v1+cell": {
     "inputWidgets": {},
     "nuid": "e2694492-e916-4345-905f-99e8dca0aa52",
     "showTitle": false,
     "title": ""
    }
   },
   "source": [
    "Slice with Positive & Negative Indices"
   ]
  },
  {
   "cell_type": "code",
   "execution_count": 18,
   "metadata": {
    "application/vnd.databricks.v1+cell": {
     "inputWidgets": {},
     "nuid": "21c7e6e3-c420-43d2-827d-075bc26b3a83",
     "showTitle": false,
     "title": ""
    }
   },
   "outputs": [
    {
     "name": "stdout",
     "output_type": "stream",
     "text": [
      "ob\n"
     ]
    }
   ],
   "source": [
    "S = 'foobar'\n",
    "print(S[2:-2])"
   ]
  },
  {
   "cell_type": "markdown",
   "metadata": {
    "application/vnd.databricks.v1+cell": {
     "inputWidgets": {},
     "nuid": "bc98e3cc-f2cf-4f1b-b35d-9b86da1bc9b9",
     "showTitle": false,
     "title": ""
    }
   },
   "source": [
    "**Specify Step of the Slicing**\n",
    "\n",
    "You can specify the step of the slicing using step parameter. The step parameter is optional and by default 1\n",
    "<img src = 'https://www.learnbyexample.org/wp-content/uploads/python/Python-String-Slicing-Syntax.png'>"
   ]
  },
  {
   "cell_type": "code",
   "execution_count": 19,
   "metadata": {
    "application/vnd.databricks.v1+cell": {
     "inputWidgets": {},
     "nuid": "14cbaf4b-57d0-481b-a8f8-cb3405dbd634",
     "showTitle": false,
     "title": ""
    }
   },
   "outputs": [
    {
     "name": "stdout",
     "output_type": "stream",
     "text": [
      "oa\n"
     ]
    }
   ],
   "source": [
    "# Return every 2nd item between position 2 to 5\n",
    "S = 'foobar'\n",
    "print(S[2:5:2])"
   ]
  },
  {
   "cell_type": "code",
   "execution_count": 20,
   "metadata": {
    "application/vnd.databricks.v1+cell": {
     "inputWidgets": {},
     "nuid": "f90bd257-3b62-4578-8f21-1e73cff01857",
     "showTitle": false,
     "title": ""
    }
   },
   "outputs": [
    {
     "name": "stdout",
     "output_type": "stream",
     "text": [
      "rb\n"
     ]
    }
   ],
   "source": [
    "S = 'foobar'\n",
    "print(S[5:1:-2])"
   ]
  },
  {
   "cell_type": "code",
   "execution_count": 21,
   "metadata": {
    "application/vnd.databricks.v1+cell": {
     "inputWidgets": {},
     "nuid": "cfd1be6c-d454-4b21-bc24-655c8a6b96a1",
     "showTitle": false,
     "title": ""
    }
   },
   "outputs": [
    {
     "name": "stdout",
     "output_type": "stream",
     "text": [
      "foo\n"
     ]
    }
   ],
   "source": [
    "S = 'foobar'\n",
    "print(S[:3])"
   ]
  },
  {
   "cell_type": "markdown",
   "metadata": {
    "application/vnd.databricks.v1+cell": {
     "inputWidgets": {},
     "nuid": "64106173-d82f-4b8c-a10e-259f53ba7790",
     "showTitle": false,
     "title": ""
    }
   },
   "source": [
    "**Slice at Beginning & End**\n",
    "\n",
    "Omitting the start index starts the slice from the index 0. Meaning, `S[:stop]` is equivalent to `S[0:stop]`"
   ]
  },
  {
   "cell_type": "code",
   "execution_count": 22,
   "metadata": {
    "application/vnd.databricks.v1+cell": {
     "inputWidgets": {},
     "nuid": "739a96d0-62d0-45d6-954c-829ba0add42d",
     "showTitle": false,
     "title": ""
    }
   },
   "outputs": [
    {
     "name": "stdout",
     "output_type": "stream",
     "text": [
      "fo\n"
     ]
    }
   ],
   "source": [
    "# Slice first two characters from the string\n",
    "S = 'foobar'\n",
    "print(S[:2])"
   ]
  },
  {
   "cell_type": "code",
   "execution_count": 23,
   "metadata": {
    "application/vnd.databricks.v1+cell": {
     "inputWidgets": {},
     "nuid": "1e876018-4f61-4e93-b333-c1db2b8881df",
     "showTitle": false,
     "title": ""
    }
   },
   "outputs": [
    {
     "name": "stdout",
     "output_type": "stream",
     "text": [
      "ar\n"
     ]
    }
   ],
   "source": [
    "# Slice last two characters from the string\n",
    "S = 'foobar'\n",
    "print(S[4:])"
   ]
  },
  {
   "cell_type": "markdown",
   "metadata": {
    "application/vnd.databricks.v1+cell": {
     "inputWidgets": {},
     "nuid": "775ebc80-fcd6-4526-86bf-47290e92bfec",
     "showTitle": false,
     "title": ""
    }
   },
   "source": [
    "Reverse a string"
   ]
  },
  {
   "cell_type": "code",
   "execution_count": 24,
   "metadata": {
    "application/vnd.databricks.v1+cell": {
     "inputWidgets": {},
     "nuid": "c9419314-774b-4758-b3d1-3c06a1a5b405",
     "showTitle": false,
     "title": ""
    }
   },
   "outputs": [
    {
     "name": "stdout",
     "output_type": "stream",
     "text": [
      "IHGFEDCBA\n"
     ]
    }
   ],
   "source": [
    "S = 'ABCDEFGHI'\n",
    "print(S[::-1])"
   ]
  },
  {
   "cell_type": "markdown",
   "metadata": {
    "application/vnd.databricks.v1+cell": {
     "inputWidgets": {},
     "nuid": "69f98a4e-cdcb-438b-9a0a-e03d101cdd2b",
     "showTitle": false,
     "title": ""
    }
   },
   "source": [
    "## If Else Elif\n",
    "\n",
    "**If**"
   ]
  },
  {
   "cell_type": "code",
   "execution_count": 25,
   "metadata": {
    "application/vnd.databricks.v1+cell": {
     "inputWidgets": {},
     "nuid": "cc2f29ee-0e91-4cd4-8354-437b0d2d1e3b",
     "showTitle": false,
     "title": ""
    }
   },
   "outputs": [
    {
     "name": "stdout",
     "output_type": "stream",
     "text": [
      "x is greater\n"
     ]
    }
   ],
   "source": [
    "x, y = 4, 3\n",
    "if x > y:\n",
    "    print('x is greater')"
   ]
  },
  {
   "cell_type": "markdown",
   "metadata": {
    "application/vnd.databricks.v1+cell": {
     "inputWidgets": {},
     "nuid": "3ad11a5e-c5fd-45fa-bce1-da84d330940c",
     "showTitle": false,
     "title": ""
    }
   },
   "source": [
    "In Python, any non-zero value or nonempty container is considered TRUE, whereas zero, None, and empty container is considered FALSE. That’s why all the below if statements are valid."
   ]
  },
  {
   "cell_type": "code",
   "execution_count": 26,
   "metadata": {
    "application/vnd.databricks.v1+cell": {
     "inputWidgets": {},
     "nuid": "507193f6-b277-4c20-8582-46db32904949",
     "showTitle": false,
     "title": ""
    }
   },
   "outputs": [
    {
     "name": "stdout",
     "output_type": "stream",
     "text": [
      "True\n",
      "True\n"
     ]
    }
   ],
   "source": [
    "# any non-zero value\n",
    "if -2:\n",
    "    print('True')\n",
    "    \n",
    "# mathematical expression\n",
    "x, y = 4, 3\n",
    "if x + y:\n",
    "    print('True')"
   ]
  },
  {
   "cell_type": "code",
   "execution_count": 27,
   "metadata": {
    "application/vnd.databricks.v1+cell": {
     "inputWidgets": {},
     "nuid": "92ee1dfa-cb2c-4551-9ec9-94d163255bf0",
     "showTitle": false,
     "title": ""
    }
   },
   "outputs": [
    {
     "name": "stdout",
     "output_type": "stream",
     "text": [
      "x is greater\n"
     ]
    }
   ],
   "source": [
    "# Short Hand If - single statement\n",
    "x, y = 4, 3\n",
    "if x > y: print('x is greater')"
   ]
  },
  {
   "cell_type": "markdown",
   "metadata": {
    "application/vnd.databricks.v1+cell": {
     "inputWidgets": {},
     "nuid": "45dcef81-52ae-42ec-af2e-2836873dc1a5",
     "showTitle": false,
     "title": ""
    }
   },
   "source": [
    "Conditional Expressions (ternary operator)\n",
    "\n",
    "<img src = 'https://www.learnbyexample.org/wp-content/uploads/python/Python-Ternary-Operator-Syntax.png'>"
   ]
  },
  {
   "cell_type": "code",
   "execution_count": 28,
   "metadata": {
    "application/vnd.databricks.v1+cell": {
     "inputWidgets": {},
     "nuid": "ed62ba65-80d6-49c6-abf5-460388c5a173",
     "showTitle": false,
     "title": ""
    }
   },
   "outputs": [
    {
     "name": "stdout",
     "output_type": "stream",
     "text": [
      "x is greater\n"
     ]
    }
   ],
   "source": [
    "x, y = 4, 3\n",
    "print('x is greater') if x > y else print('y is greater')"
   ]
  },
  {
   "cell_type": "code",
   "execution_count": 29,
   "metadata": {
    "application/vnd.databricks.v1+cell": {
     "inputWidgets": {},
     "nuid": "1b318b56-76b2-48f8-bc87-6c657fa0a06a",
     "showTitle": false,
     "title": ""
    }
   },
   "outputs": [
    {
     "name": "stdout",
     "output_type": "stream",
     "text": [
      "4\n"
     ]
    }
   ],
   "source": [
    "x, y = 4, 3\n",
    "max = x if x > y else y\n",
    "print(max)"
   ]
  },
  {
   "cell_type": "markdown",
   "metadata": {
    "application/vnd.databricks.v1+cell": {
     "inputWidgets": {},
     "nuid": "e0a7605a-2f54-44ba-a174-cd01dfb788d9",
     "showTitle": false,
     "title": ""
    }
   },
   "source": [
    "**Else**"
   ]
  },
  {
   "cell_type": "code",
   "execution_count": 30,
   "metadata": {
    "application/vnd.databricks.v1+cell": {
     "inputWidgets": {},
     "nuid": "66cd0f3f-f050-4aca-a1eb-29ef03eeee40",
     "showTitle": false,
     "title": ""
    }
   },
   "outputs": [
    {
     "name": "stdout",
     "output_type": "stream",
     "text": [
      "x is greater\n"
     ]
    }
   ],
   "source": [
    "x, y = 4, 3\n",
    "if x < y:\n",
    "    print('y is greater')\n",
    "else:\n",
    "    print('x is greater')"
   ]
  },
  {
   "cell_type": "markdown",
   "metadata": {
    "application/vnd.databricks.v1+cell": {
     "inputWidgets": {},
     "nuid": "afff3d75-fac8-4f23-add5-7d3b83e6baab",
     "showTitle": false,
     "title": ""
    }
   },
   "source": [
    "**if…elif…elif**"
   ]
  },
  {
   "cell_type": "code",
   "execution_count": 31,
   "metadata": {
    "application/vnd.databricks.v1+cell": {
     "inputWidgets": {},
     "nuid": "240c543a-cdcc-44d4-99df-e74c27e53c11",
     "showTitle": false,
     "title": ""
    }
   },
   "outputs": [
    {
     "name": "stdout",
     "output_type": "stream",
     "text": [
      "case 3\n"
     ]
    }
   ],
   "source": [
    "choice = 3\n",
    "if choice == 1:\n",
    "    print('case 1')\n",
    "elif choice == 2:\n",
    "    print('case 2')\n",
    "elif choice == 3:\n",
    "    print('case 3')\n",
    "elif choice == 4:\n",
    "    print('case 4')\n",
    "else:\n",
    "    print('default case')"
   ]
  },
  {
   "cell_type": "markdown",
   "metadata": {
    "application/vnd.databricks.v1+cell": {
     "inputWidgets": {},
     "nuid": "0d419260-e9fc-45fc-acae-60c894098597",
     "showTitle": false,
     "title": ""
    }
   },
   "source": [
    "## Loops\n",
    "\n",
    "### While Loop\n",
    "\n",
    "A while loop is a condition-controlled loop when you want to perform a task indefinitely, until a particular condition is met."
   ]
  },
  {
   "cell_type": "code",
   "execution_count": 32,
   "metadata": {
    "application/vnd.databricks.v1+cell": {
     "inputWidgets": {},
     "nuid": "a0bd2923-80ed-4a2d-9301-ff7e675930b4",
     "showTitle": false,
     "title": ""
    },
    "scrolled": true
   },
   "outputs": [
    {
     "name": "stdout",
     "output_type": "stream",
     "text": [
      "5\n",
      "4\n",
      "3\n",
      "2\n",
      "1\n"
     ]
    }
   ],
   "source": [
    "# Iterate until x becomes 0\n",
    "x = 5\n",
    "while x:\n",
    "    print(x)\n",
    "    x -= 1"
   ]
  },
  {
   "cell_type": "code",
   "execution_count": 33,
   "metadata": {
    "application/vnd.databricks.v1+cell": {
     "inputWidgets": {},
     "nuid": "da2ee830-6b09-43a9-b8fa-3306a06c0978",
     "showTitle": false,
     "title": ""
    },
    "scrolled": true
   },
   "outputs": [
    {
     "name": "stdout",
     "output_type": "stream",
     "text": [
      "Laca\n",
      "Saka\n",
      "Xhaka\n"
     ]
    }
   ],
   "source": [
    "# Iterate until list (with names) is empty\n",
    "L = ['Xhaka', 'Saka', 'Laca']\n",
    "while L:\n",
    "    print(L.pop())"
   ]
  },
  {
   "cell_type": "markdown",
   "metadata": {
    "application/vnd.databricks.v1+cell": {
     "inputWidgets": {},
     "nuid": "24813869-4fa3-42dc-b843-d418ec5b634a",
     "showTitle": false,
     "title": ""
    }
   },
   "source": [
    "**Break in while loop**"
   ]
  },
  {
   "cell_type": "code",
   "execution_count": 34,
   "metadata": {
    "application/vnd.databricks.v1+cell": {
     "inputWidgets": {},
     "nuid": "ae864d8b-825b-4694-84b8-5fe7a11f93c7",
     "showTitle": false,
     "title": ""
    }
   },
   "outputs": [
    {
     "name": "stdout",
     "output_type": "stream",
     "text": [
      "6\n",
      "5\n",
      "4\n"
     ]
    }
   ],
   "source": [
    "# Exit when x becomes 3\n",
    "x = 6\n",
    "while x:\n",
    "    print(x)\n",
    "    x -= 1\n",
    "    if x == 3:\n",
    "        break"
   ]
  },
  {
   "cell_type": "markdown",
   "metadata": {
    "application/vnd.databricks.v1+cell": {
     "inputWidgets": {},
     "nuid": "edf535e1-1c09-410f-8665-a554c3690d0e",
     "showTitle": false,
     "title": ""
    }
   },
   "source": [
    "**Continue in while loop**\n",
    "\n",
    "The continue statement skips the current iteration of a loop and continues with the next iteration."
   ]
  },
  {
   "cell_type": "code",
   "execution_count": 35,
   "metadata": {
    "application/vnd.databricks.v1+cell": {
     "inputWidgets": {},
     "nuid": "9e64cbdf-904f-4a4b-9cf7-8cbdf707fad6",
     "showTitle": false,
     "title": ""
    }
   },
   "outputs": [
    {
     "name": "stdout",
     "output_type": "stream",
     "text": [
      "4\n",
      "2\n",
      "0\n"
     ]
    }
   ],
   "source": [
    "# Skip odd numbers\n",
    "x = 6\n",
    "while x:\n",
    "    x -= 1\n",
    "    if x % 2 != 0:\n",
    "        continue\n",
    "    print(x)"
   ]
  },
  {
   "cell_type": "markdown",
   "metadata": {
    "application/vnd.databricks.v1+cell": {
     "inputWidgets": {},
     "nuid": "839acb73-483f-4f3e-9bdd-f977def91b44",
     "showTitle": false,
     "title": ""
    }
   },
   "source": [
    "**Else in While Loop**\n",
    "\n",
    "An optional else clause can be added at the end of a while loop. The else clause will be executed when the loop terminates normally (the condition becomes false)."
   ]
  },
  {
   "cell_type": "code",
   "execution_count": 36,
   "metadata": {
    "application/vnd.databricks.v1+cell": {
     "inputWidgets": {},
     "nuid": "dee5d155-4619-45d7-8ab8-b0a2ecaef783",
     "showTitle": false,
     "title": ""
    }
   },
   "outputs": [
    {
     "name": "stdout",
     "output_type": "stream",
     "text": [
      "6\n",
      "5\n",
      "4\n",
      "3\n",
      "2\n",
      "1\n",
      "Done!\n"
     ]
    }
   ],
   "source": [
    "x = 6\n",
    "while x:\n",
    "    print(x)\n",
    "    x -= 1\n",
    "else:\n",
    "    print('Done!')"
   ]
  },
  {
   "cell_type": "markdown",
   "metadata": {
    "application/vnd.databricks.v1+cell": {
     "inputWidgets": {},
     "nuid": "863126b4-0bd5-42a8-815f-f064dadbc0e0",
     "showTitle": false,
     "title": ""
    }
   },
   "source": [
    "The else clause will still be executed if the condition is false at the start."
   ]
  },
  {
   "cell_type": "code",
   "execution_count": 37,
   "metadata": {
    "application/vnd.databricks.v1+cell": {
     "inputWidgets": {},
     "nuid": "f4c4f690-b4e0-4c10-8777-e34d9f03edb9",
     "showTitle": false,
     "title": ""
    }
   },
   "outputs": [
    {
     "name": "stdout",
     "output_type": "stream",
     "text": [
      "Done!\n"
     ]
    }
   ],
   "source": [
    "x = 0\n",
    "while x:\n",
    "    print(x)\n",
    "    x -= 1\n",
    "else:\n",
    "    print('Done!')"
   ]
  },
  {
   "cell_type": "markdown",
   "metadata": {
    "application/vnd.databricks.v1+cell": {
     "inputWidgets": {},
     "nuid": "aede9b56-f5b7-488a-b394-bfc8e57a0aa3",
     "showTitle": false,
     "title": ""
    }
   },
   "source": [
    "If the loop terminates prematurely with break, the else clause won’t be executed."
   ]
  },
  {
   "cell_type": "code",
   "execution_count": 38,
   "metadata": {
    "application/vnd.databricks.v1+cell": {
     "inputWidgets": {},
     "nuid": "83729f7f-da55-4863-9f29-90d96c514196",
     "showTitle": false,
     "title": ""
    }
   },
   "outputs": [
    {
     "name": "stdout",
     "output_type": "stream",
     "text": [
      "6\n",
      "5\n",
      "4\n"
     ]
    }
   ],
   "source": [
    "x = 6\n",
    "while x:\n",
    "    print(x)\n",
    "    x -= 1\n",
    "    if x == 3:\n",
    "        break\n",
    "else:\n",
    "    print('Done!')"
   ]
  },
  {
   "cell_type": "markdown",
   "metadata": {
    "application/vnd.databricks.v1+cell": {
     "inputWidgets": {},
     "nuid": "a567e5d3-9126-4922-90db-d7c74428659e",
     "showTitle": false,
     "title": ""
    }
   },
   "source": [
    "### for Loop"
   ]
  },
  {
   "cell_type": "code",
   "execution_count": 39,
   "metadata": {
    "application/vnd.databricks.v1+cell": {
     "inputWidgets": {},
     "nuid": "060c32b9-d880-45ed-8938-53456c5ac837",
     "showTitle": false,
     "title": ""
    }
   },
   "outputs": [
    {
     "name": "stdout",
     "output_type": "stream",
     "text": [
      "red\n",
      "green\n",
      "blue\n",
      "yellow\n"
     ]
    }
   ],
   "source": [
    "# Iterate through a list of colors\n",
    "colors = ['red', 'green', 'blue', 'yellow']\n",
    "for x in colors:\n",
    "    print(x)"
   ]
  },
  {
   "cell_type": "markdown",
   "metadata": {
    "application/vnd.databricks.v1+cell": {
     "inputWidgets": {},
     "nuid": "d359b3b6-6fd6-4425-ac79-48c9dbca0254",
     "showTitle": false,
     "title": ""
    }
   },
   "source": [
    "**Break in for Loop**\n",
    "\n",
    "Python break statement is used to exit the loop immediately. It simply jumps out of the loop altogether, and the program continues after the loop."
   ]
  },
  {
   "cell_type": "code",
   "execution_count": 40,
   "metadata": {
    "application/vnd.databricks.v1+cell": {
     "inputWidgets": {},
     "nuid": "64168d0e-f9ed-43de-816d-762065385103",
     "showTitle": false,
     "title": ""
    }
   },
   "outputs": [
    {
     "name": "stdout",
     "output_type": "stream",
     "text": [
      "red\n",
      "green\n"
     ]
    }
   ],
   "source": [
    "# Break the loop at 'blue'\n",
    "colors = ['red', 'green', 'blue', 'yellow']\n",
    "for x in colors:\n",
    "    if x == 'blue':\n",
    "        break\n",
    "    print(x)"
   ]
  },
  {
   "cell_type": "markdown",
   "metadata": {
    "application/vnd.databricks.v1+cell": {
     "inputWidgets": {},
     "nuid": "2d5efb27-1120-42f6-8e40-469eb57ce2a3",
     "showTitle": false,
     "title": ""
    }
   },
   "source": [
    "**Continue in for Loop**\n",
    "\n",
    "The continue statement skips the current iteration of a loop and continues with the next iteration."
   ]
  },
  {
   "cell_type": "code",
   "execution_count": 41,
   "metadata": {
    "application/vnd.databricks.v1+cell": {
     "inputWidgets": {},
     "nuid": "58e6ec1f-6a46-41df-a038-2f7d1ffcccdb",
     "showTitle": false,
     "title": ""
    }
   },
   "outputs": [
    {
     "name": "stdout",
     "output_type": "stream",
     "text": [
      "red\n",
      "green\n",
      "yellow\n"
     ]
    }
   ],
   "source": [
    "colors = ['red', 'green', 'blue', 'yellow']\n",
    "for x in colors:\n",
    "    if x == 'blue':\n",
    "        continue\n",
    "    print (x)"
   ]
  },
  {
   "cell_type": "markdown",
   "metadata": {
    "application/vnd.databricks.v1+cell": {
     "inputWidgets": {},
     "nuid": "b6d1536a-cc70-4dc9-a494-527b4a3be542",
     "showTitle": false,
     "title": ""
    }
   },
   "source": [
    "**Else in for Loop**\n",
    "\n",
    "Python allows an optional else clause at the end of a for loop. The else clause will be executed if the loop terminates naturally (through exhaustion)."
   ]
  },
  {
   "cell_type": "code",
   "execution_count": 42,
   "metadata": {
    "application/vnd.databricks.v1+cell": {
     "inputWidgets": {},
     "nuid": "b2fcc2ea-9692-420a-bae2-291c87ef305f",
     "showTitle": false,
     "title": ""
    }
   },
   "outputs": [
    {
     "name": "stdout",
     "output_type": "stream",
     "text": [
      "red\n",
      "green\n",
      "blue\n",
      "yellow\n",
      "Done!\n"
     ]
    }
   ],
   "source": [
    "colors = ['red', 'green', 'blue', 'yellow']\n",
    "for x in colors:\n",
    "    print(x)\n",
    "else:\n",
    "    print('Done!')"
   ]
  },
  {
   "cell_type": "markdown",
   "metadata": {
    "application/vnd.databricks.v1+cell": {
     "inputWidgets": {},
     "nuid": "0a5f4178-2c5f-4cb0-8aa1-d7855d1d11ec",
     "showTitle": false,
     "title": ""
    }
   },
   "source": [
    "If the loop terminates prematurely with break, the else clause won’t be executed."
   ]
  },
  {
   "cell_type": "code",
   "execution_count": 43,
   "metadata": {
    "application/vnd.databricks.v1+cell": {
     "inputWidgets": {},
     "nuid": "3072cfdb-a9f8-4412-b959-8b0f911dc250",
     "showTitle": false,
     "title": ""
    }
   },
   "outputs": [
    {
     "name": "stdout",
     "output_type": "stream",
     "text": [
      "red\n",
      "green\n"
     ]
    }
   ],
   "source": [
    "colors = ['red', 'green', 'blue', 'yellow']\n",
    "for x in colors:\n",
    "    if x == 'blue':\n",
    "        break\n",
    "    print(x)\n",
    "else:\n",
    "    print('Done!')"
   ]
  },
  {
   "cell_type": "markdown",
   "metadata": {
    "application/vnd.databricks.v1+cell": {
     "inputWidgets": {},
     "nuid": "7cafe455-1a21-4e46-a824-5eeef286fbd7",
     "showTitle": false,
     "title": ""
    }
   },
   "source": [
    "**range() function in for loop**\n",
    "\n",
    "If you need to execute a group of statements for a specified number of times, use built-in function range().\n",
    "\n",
    "The `range(start,stop,step)` function generates a sequence of numbers from 0 up to (but not including) specified number."
   ]
  },
  {
   "cell_type": "code",
   "execution_count": 44,
   "metadata": {
    "application/vnd.databricks.v1+cell": {
     "inputWidgets": {},
     "nuid": "3067c431-42a2-41fc-bfb3-45e0decc62cc",
     "showTitle": false,
     "title": ""
    }
   },
   "outputs": [
    {
     "name": "stdout",
     "output_type": "stream",
     "text": [
      "0\n",
      "1\n",
      "2\n",
      "3\n",
      "4\n",
      "5\n",
      "6\n"
     ]
    }
   ],
   "source": [
    "# Generate a sequence of numbers from 0 6\n",
    "for x in range(7):\n",
    "    print(x)"
   ]
  },
  {
   "cell_type": "markdown",
   "metadata": {
    "application/vnd.databricks.v1+cell": {
     "inputWidgets": {},
     "nuid": "818d4b6d-8ab2-413d-aacf-2db10513e0c7",
     "showTitle": false,
     "title": ""
    }
   },
   "source": [
    "The range starts from 0 by default. But, you can start the range at another number by specifying start parameter."
   ]
  },
  {
   "cell_type": "code",
   "execution_count": 45,
   "metadata": {
    "application/vnd.databricks.v1+cell": {
     "inputWidgets": {},
     "nuid": "6b97a085-7669-4e1b-b967-aba6974eb741",
     "showTitle": false,
     "title": ""
    }
   },
   "outputs": [
    {
     "name": "stdout",
     "output_type": "stream",
     "text": [
      "2\n",
      "3\n",
      "4\n",
      "5\n"
     ]
    }
   ],
   "source": [
    "# Generate a sequence of numbers from 2 to 6\n",
    "for x in range(2, 6):\n",
    "    print(x)"
   ]
  },
  {
   "cell_type": "code",
   "execution_count": 46,
   "metadata": {
    "application/vnd.databricks.v1+cell": {
     "inputWidgets": {},
     "nuid": "0db3ce10-71eb-417c-a885-a97508777689",
     "showTitle": false,
     "title": ""
    }
   },
   "outputs": [
    {
     "name": "stdout",
     "output_type": "stream",
     "text": [
      "-6\n",
      "-5\n",
      "-4\n",
      "-3\n",
      "-2\n",
      "-1\n"
     ]
    }
   ],
   "source": [
    "for x in range(-6,0):\n",
    "    print(x)"
   ]
  },
  {
   "cell_type": "markdown",
   "metadata": {
    "application/vnd.databricks.v1+cell": {
     "inputWidgets": {},
     "nuid": "867380dd-ee31-40eb-8bd8-baae547c3912",
     "showTitle": false,
     "title": ""
    }
   },
   "source": [
    "**Nested for Loop**\n",
    "\n",
    "A loop inside another loop is called a nested loop."
   ]
  },
  {
   "cell_type": "code",
   "execution_count": 47,
   "metadata": {
    "application/vnd.databricks.v1+cell": {
     "inputWidgets": {},
     "nuid": "cefe8944-d53b-4386-8d88-9bcd98cb019a",
     "showTitle": false,
     "title": ""
    }
   },
   "outputs": [
    {
     "name": "stdout",
     "output_type": "stream",
     "text": [
      "1\n",
      "2\n",
      "3\n",
      "4\n",
      "5\n",
      "6\n",
      "7\n",
      "8\n",
      "9\n"
     ]
    }
   ],
   "source": [
    "# Flatten a nested list\n",
    "list = [[1, 2, 3],[4, 5, 6],[7, 8, 9]]   \n",
    "for sublist in list:\n",
    "    for number in sublist:\n",
    "        print(number)"
   ]
  },
  {
   "cell_type": "markdown",
   "metadata": {
    "application/vnd.databricks.v1+cell": {
     "inputWidgets": {},
     "nuid": "e2e196e5-0d05-4bb2-b579-6ff05f68b4fd",
     "showTitle": false,
     "title": ""
    }
   },
   "source": [
    "**Access Index in for Loop**\n",
    "\n",
    "To iterate over the indices of a sequence, combine range() and len() as follows:"
   ]
  },
  {
   "cell_type": "code",
   "execution_count": 48,
   "metadata": {
    "application/vnd.databricks.v1+cell": {
     "inputWidgets": {},
     "nuid": "1e1f1878-ad4b-4495-b8d2-80a5ed591b82",
     "showTitle": false,
     "title": ""
    }
   },
   "outputs": [
    {
     "name": "stdout",
     "output_type": "stream",
     "text": [
      "0 red\n",
      "1 green\n",
      "2 blue\n"
     ]
    }
   ],
   "source": [
    "colors = ['red', 'green', 'blue']\n",
    "for index in range(len(colors)):\n",
    "    print(index, colors[index])"
   ]
  },
  {
   "cell_type": "markdown",
   "metadata": {
    "application/vnd.databricks.v1+cell": {
     "inputWidgets": {},
     "nuid": "cdd9cad0-5992-4d3c-b4fd-b80e33f0468d",
     "showTitle": false,
     "title": ""
    }
   },
   "source": [
    "However, in most such cases it is convenient to use the enumerate() function."
   ]
  },
  {
   "cell_type": "code",
   "execution_count": 49,
   "metadata": {
    "application/vnd.databricks.v1+cell": {
     "inputWidgets": {},
     "nuid": "f66a186b-3062-4f1d-8339-333f0a7ff930",
     "showTitle": false,
     "title": ""
    }
   },
   "outputs": [
    {
     "name": "stdout",
     "output_type": "stream",
     "text": [
      "0 red\n",
      "1 green\n",
      "2 blue\n"
     ]
    }
   ],
   "source": [
    "colors = ['red', 'green', 'blue']\n",
    "for index, value in enumerate(colors):\n",
    "    print(index, value)"
   ]
  },
  {
   "cell_type": "markdown",
   "metadata": {
    "application/vnd.databricks.v1+cell": {
     "inputWidgets": {},
     "nuid": "8ceeca57-ee3f-4ca9-b6e3-51b4549e25e4",
     "showTitle": false,
     "title": ""
    }
   },
   "source": [
    "**Unpacking in a for loop**\n",
    "\n",
    "Below for loop does a multiple assignment (unpack the current tuple) each time through the loop."
   ]
  },
  {
   "cell_type": "code",
   "execution_count": 50,
   "metadata": {
    "application/vnd.databricks.v1+cell": {
     "inputWidgets": {},
     "nuid": "d6222ef3-b618-4fbc-b168-fae9d7365a9b",
     "showTitle": false,
     "title": ""
    }
   },
   "outputs": [
    {
     "name": "stdout",
     "output_type": "stream",
     "text": [
      "1 2\n",
      "3 4\n",
      "5 6\n"
     ]
    }
   ],
   "source": [
    "# Tuple unpacking\n",
    "T = [(1, 2), (3, 4), (5, 6)]\n",
    "for (a, b) in T:\n",
    "    print(a, b)"
   ]
  },
  {
   "cell_type": "code",
   "execution_count": 51,
   "metadata": {
    "application/vnd.databricks.v1+cell": {
     "inputWidgets": {},
     "nuid": "ed35a0cd-08a0-4169-9270-971d51da8523",
     "showTitle": false,
     "title": ""
    }
   },
   "outputs": [
    {
     "name": "stdout",
     "output_type": "stream",
     "text": [
      "name Bob\n",
      "age 25\n"
     ]
    }
   ],
   "source": [
    "# Dictionary unpacking\n",
    "D = {'name': 'Bob', 'age': 25}\n",
    "\n",
    "for x, y in D.items():\n",
    "    print (x,y)"
   ]
  },
  {
   "cell_type": "markdown",
   "metadata": {
    "application/vnd.databricks.v1+cell": {
     "inputWidgets": {},
     "nuid": "a93073b4-7b9c-44ac-967c-f23ea56eff5e",
     "showTitle": false,
     "title": ""
    }
   },
   "source": [
    "**Looping Through Multiple Lists**\n",
    "\n",
    "The built-in zip() function can be used to loop through multiple lists at once"
   ]
  },
  {
   "cell_type": "code",
   "execution_count": 52,
   "metadata": {
    "application/vnd.databricks.v1+cell": {
     "inputWidgets": {},
     "nuid": "f799bd65-2bfa-404e-a0d5-fd89631f6d53",
     "showTitle": false,
     "title": ""
    }
   },
   "outputs": [
    {
     "name": "stdout",
     "output_type": "stream",
     "text": [
      "Bob 25\n",
      "Sam 35\n",
      "Max 30\n"
     ]
    }
   ],
   "source": [
    "# Loop through two lists at once\n",
    "name = ['Bob', 'Sam', 'Max']\n",
    "age = [25, 35, 30]\n",
    "for x, y in zip(name, age):\n",
    "    print(x, y)"
   ]
  }
 ],
 "metadata": {
  "anaconda-cloud": {},
  "application/vnd.databricks.v1+notebook": {
   "dashboards": [],
   "language": "python",
   "notebookMetadata": {
    "pythonIndentUnit": 2
   },
   "notebookName": "Python_Part3",
   "notebookOrigID": 2425280650113470,
   "widgets": {}
  },
  "kernelspec": {
   "display_name": "Python 3",
   "language": "python",
   "name": "python3"
  },
  "language_info": {
   "codemirror_mode": {
    "name": "ipython",
    "version": 3
   },
   "file_extension": ".py",
   "mimetype": "text/x-python",
   "name": "python",
   "nbconvert_exporter": "python",
   "pygments_lexer": "ipython3",
   "version": "3.7.3"
  }
 },
 "nbformat": 4,
 "nbformat_minor": 1
}
