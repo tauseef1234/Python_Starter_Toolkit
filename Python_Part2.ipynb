{
 "cells": [
  {
   "cell_type": "markdown",
   "metadata": {
    "application/vnd.databricks.v1+cell": {
     "inputWidgets": {},
     "nuid": "85b36ae8-5cea-48da-84f7-4bbd359b6fe9",
     "showTitle": false,
     "title": ""
    }
   },
   "source": [
    "# Python for Data Science and Machine Learning - Part 2\n",
    "\n",
    "----\n",
    "\n",
    "\n",
    "**Dictionary continued...**\n",
    "\n",
    "Other ways to create dictionaries"
   ]
  },
  {
   "cell_type": "code",
   "execution_count": 1,
   "metadata": {
    "application/vnd.databricks.v1+cell": {
     "inputWidgets": {},
     "nuid": "2493a889-ea91-43df-b65e-9e859cea4e03",
     "showTitle": false,
     "title": ""
    }
   },
   "outputs": [
    {
     "data": {
      "text/plain": [
       "{'model': 'Beetle', 'year': 2021, 'maker': 'Volkswagon'}"
      ]
     },
     "execution_count": 1,
     "metadata": {},
     "output_type": "execute_result"
    }
   ],
   "source": [
    "# Create a dictionary with list of zipped keys/values\n",
    "keys = ['model', 'year', 'maker']\n",
    "values = ['Beetle', 2021, 'Volkswagon']\n",
    "\n",
    "D = dict(zip(keys,values))\n",
    "D"
   ]
  },
  {
   "cell_type": "markdown",
   "metadata": {
    "application/vnd.databricks.v1+cell": {
     "inputWidgets": {},
     "nuid": "3a29eb64-b946-4746-8939-b5c803737ac8",
     "showTitle": false,
     "title": ""
    }
   },
   "source": [
    "Note: Keys must be unique. If a key is specified more than once while the creation of a dictionary, the last value for that key becomes the associated value."
   ]
  },
  {
   "cell_type": "code",
   "execution_count": 2,
   "metadata": {
    "application/vnd.databricks.v1+cell": {
     "inputWidgets": {},
     "nuid": "326a15da-694d-4c5e-8b09-7389cecd47fd",
     "showTitle": false,
     "title": ""
    }
   },
   "outputs": [
    {
     "name": "stdout",
     "output_type": "stream",
     "text": [
      "{'model': 'Jetta', 'year': 2021}\n"
     ]
    }
   ],
   "source": [
    "D = {'model': 'Beetle',\n",
    "     'year': 2021,\n",
    "     'model': 'Jetta'}\n",
    "print(D)"
   ]
  },
  {
   "cell_type": "markdown",
   "metadata": {
    "application/vnd.databricks.v1+cell": {
     "inputWidgets": {},
     "nuid": "41994238-4e17-42d0-8c0c-d639228fa3de",
     "showTitle": false,
     "title": ""
    }
   },
   "source": [
    "Create a dictionary with default values for each key. The `fromkeys()` method offers a way to do this."
   ]
  },
  {
   "cell_type": "code",
   "execution_count": 3,
   "metadata": {
    "application/vnd.databricks.v1+cell": {
     "inputWidgets": {},
     "nuid": "97531796-c422-4385-b23d-6907df464505",
     "showTitle": false,
     "title": ""
    }
   },
   "outputs": [
    {
     "data": {
      "text/plain": [
       "{'x': 0, 'y': 0, 'z': 0}"
      ]
     },
     "execution_count": 3,
     "metadata": {},
     "output_type": "execute_result"
    }
   ],
   "source": [
    "# Initialize a dictionary with default value '0' for each key\n",
    "keys = ['x', 'y', 'z']\n",
    "defaultValue = 0\n",
    "\n",
    "D = dict.fromkeys(keys,defaultValue)\n",
    "D"
   ]
  },
  {
   "cell_type": "code",
   "execution_count": 4,
   "metadata": {
    "application/vnd.databricks.v1+cell": {
     "inputWidgets": {},
     "nuid": "17910056-6bc5-4f05-9160-fff5d50bd936",
     "showTitle": false,
     "title": ""
    }
   },
   "outputs": [
    {
     "name": "stdout",
     "output_type": "stream",
     "text": [
      "{'a': [1, 2, 3], 'b': {1, 2, 3}}\n",
      "{'a': [1, 2], 'b': [1, 2], 'c': [1, 2]}\n"
     ]
    }
   ],
   "source": [
    "D = {'a':[1,2,3],\n",
    "     'b':{1,2,3}}\n",
    "print (D)\n",
    "\n",
    "# duplicate values\n",
    "D = {'a':[1,2],\n",
    "     'b':[1,2],\n",
    "     'c':[1,2]}\n",
    "print (D)"
   ]
  },
  {
   "cell_type": "markdown",
   "metadata": {
    "application/vnd.databricks.v1+cell": {
     "inputWidgets": {},
     "nuid": "1d1251bd-819c-45a7-8a00-acc09d700967",
     "showTitle": false,
     "title": ""
    }
   },
   "source": [
    "**Merge two dictionaries**"
   ]
  },
  {
   "cell_type": "code",
   "execution_count": 5,
   "metadata": {
    "application/vnd.databricks.v1+cell": {
     "inputWidgets": {},
     "nuid": "31411200-dc8c-43e3-99c9-10c8d1b1dac3",
     "showTitle": false,
     "title": ""
    }
   },
   "outputs": [
    {
     "data": {
      "text/plain": [
       "{'model': 'Jetta', 'year': 2020, 'fuel': 'Solar', 'capacity': 4}"
      ]
     },
     "execution_count": 5,
     "metadata": {},
     "output_type": "execute_result"
    }
   ],
   "source": [
    "D1 = {'model': 'Beetle',\n",
    "     'year': 2021,\n",
    "     'model': 'Jetta'}\n",
    "\n",
    "D2 = {'year': 2020,\n",
    "      'fuel': 'Solar',\n",
    "      'capacity': 4}\n",
    "\n",
    "D1.update(D2)\n",
    "D1"
   ]
  },
  {
   "cell_type": "markdown",
   "metadata": {
    "application/vnd.databricks.v1+cell": {
     "inputWidgets": {},
     "nuid": "fb08f113-c8cc-445a-b61b-9a6751be4bbd",
     "showTitle": false,
     "title": ""
    }
   },
   "source": [
    "**Remove an Item by Key**\n",
    "\n",
    "If you know the key of the item you want, you can use pop() method. It removes the key and returns its value."
   ]
  },
  {
   "cell_type": "code",
   "execution_count": 6,
   "metadata": {
    "application/vnd.databricks.v1+cell": {
     "inputWidgets": {},
     "nuid": "99ca58f4-f3b2-48d9-a0ef-4dcfea1c789e",
     "showTitle": false,
     "title": ""
    }
   },
   "outputs": [
    {
     "name": "stdout",
     "output_type": "stream",
     "text": [
      "{'model': 'Beetle', 'maker': 'Volkswagon'}\n",
      "2021\n"
     ]
    }
   ],
   "source": [
    "D = {'model': 'Beetle',\n",
    "     'year': 2021,\n",
    "     'maker': 'Volkswagon'}\n",
    "\n",
    "x = D.pop('year')\n",
    "print(D)\n",
    "\n",
    "# get removed value\n",
    "print(x)"
   ]
  },
  {
   "cell_type": "markdown",
   "metadata": {
    "application/vnd.databricks.v1+cell": {
     "inputWidgets": {},
     "nuid": "c34868c8-57b5-4500-9a7c-3d488f5c2284",
     "showTitle": false,
     "title": ""
    }
   },
   "source": [
    "Get All Keys, Values and Key:Value Pairs"
   ]
  },
  {
   "cell_type": "code",
   "execution_count": 7,
   "metadata": {
    "application/vnd.databricks.v1+cell": {
     "inputWidgets": {},
     "nuid": "c22c2958-18ae-4feb-86b6-9854f454152a",
     "showTitle": false,
     "title": ""
    }
   },
   "outputs": [
    {
     "name": "stdout",
     "output_type": "stream",
     "text": [
      "['model', 'year', 'maker']\n",
      "['Beetle', 2021, 'Volkswagon']\n",
      "[('model', 'Beetle'), ('year', 2021), ('maker', 'Volkswagon')]\n"
     ]
    }
   ],
   "source": [
    "D = {'model': 'Beetle',\n",
    "     'year': 2021,\n",
    "     'maker': 'Volkswagon'}\n",
    "\n",
    "# get all keys\n",
    "print(list(D.keys()))\n",
    "\n",
    "\n",
    "# get all values\n",
    "print(list(D.values()))\n",
    "\n",
    "# get all pairs\n",
    "print(list(D.items()))"
   ]
  },
  {
   "cell_type": "markdown",
   "metadata": {
    "application/vnd.databricks.v1+cell": {
     "inputWidgets": {},
     "nuid": "f3092742-3264-40b8-9ff1-498a835105f3",
     "showTitle": false,
     "title": ""
    }
   },
   "source": [
    "Iterate through a dictionary\n",
    "\n",
    "If you use a dictionary in a for loop, it traverses the keys of the dictionary by default."
   ]
  },
  {
   "cell_type": "code",
   "execution_count": 8,
   "metadata": {
    "application/vnd.databricks.v1+cell": {
     "inputWidgets": {},
     "nuid": "0bab42c1-a1e7-4500-b1d5-1e5422f7473a",
     "showTitle": false,
     "title": ""
    },
    "scrolled": true
   },
   "outputs": [
    {
     "name": "stdout",
     "output_type": "stream",
     "text": [
      "model\n",
      "year\n",
      "maker\n"
     ]
    }
   ],
   "source": [
    "D = {'model': 'Beetle',\n",
    "     'year': 2021,\n",
    "     'maker': 'Volkswagon'}\n",
    "\n",
    "for x in D:\n",
    "    print(x)"
   ]
  },
  {
   "cell_type": "markdown",
   "metadata": {
    "application/vnd.databricks.v1+cell": {
     "inputWidgets": {},
     "nuid": "f35a9dad-36ee-457e-970f-695dae7c8a9b",
     "showTitle": false,
     "title": ""
    }
   },
   "source": [
    "To iterate over the values of a dictionary, index from key to value inside the for loop."
   ]
  },
  {
   "cell_type": "code",
   "execution_count": 9,
   "metadata": {
    "application/vnd.databricks.v1+cell": {
     "inputWidgets": {},
     "nuid": "455d333f-4770-4ccc-af44-ac068c34caed",
     "showTitle": false,
     "title": ""
    },
    "scrolled": true
   },
   "outputs": [
    {
     "name": "stdout",
     "output_type": "stream",
     "text": [
      "Beetle\n",
      "2021\n",
      "Volkswagon\n"
     ]
    }
   ],
   "source": [
    "D = {'model': 'Beetle',\n",
    "     'year': 2021,\n",
    "     'maker': 'Volkswagon'}\n",
    "\n",
    "for x in D:\n",
    "    print(D[x])"
   ]
  },
  {
   "cell_type": "markdown",
   "metadata": {
    "application/vnd.databricks.v1+cell": {
     "inputWidgets": {},
     "nuid": "bf9c85de-dc42-4ed6-9d4e-cd9175200a9b",
     "showTitle": false,
     "title": ""
    }
   },
   "source": [
    "**Python Dictionary Methods**\n",
    "\n",
    "| Syntax         | Description |\n",
    "| :------------  | :----------- |\n",
    "| `clear()`      | Removes all items from the dictionary       |\n",
    "| `copy()`       | Returns a shallow copy of the dictionary        |\n",
    "| `fromkeys()`   | Creates a new dictionary with the specified keys and values        |\n",
    "| `get()`        | Returns the value of the specified key        |\n",
    "| `items()`      | Returns a list of key:value pair        |\n",
    "| `keys()`       | Returns a list of all keys from dictionary        |\n",
    "| `pop()`        | Removes and returns single dictionary item with specified key.        |\n",
    "| `popitem()`    | Removes and returns last inserted key:value pair from the dictionary.        |\n",
    "| `setdefault()` | Returns the value of the specified key, if present. Else, inserts the key with a specified value.       |\n",
    "| `update()`     | Updates the dictionary with the specified key:value pairs        |\n",
    "| `values()`     | Returns a list of all values from dictionary       |"
   ]
  },
  {
   "cell_type": "markdown",
   "metadata": {
    "application/vnd.databricks.v1+cell": {
     "inputWidgets": {},
     "nuid": "342b65ca-6734-4e64-bdb9-5f9c8230e73b",
     "showTitle": false,
     "title": ""
    }
   },
   "source": [
    "# Comprehension\n",
    "\n",
    "A comprehension is a compact way of creating a Python data structure from iterators. With comprehensions, you can combine loops and conditional tests with a less verbose syntax."
   ]
  },
  {
   "cell_type": "markdown",
   "metadata": {
    "application/vnd.databricks.v1+cell": {
     "inputWidgets": {},
     "nuid": "756114c4-269f-4ca7-9b3a-e30afe9641e4",
     "showTitle": false,
     "title": ""
    }
   },
   "source": [
    "**List Comprehension**\n",
    "\n",
    "Suppose you want to create a list of all integer square numbers from 0 to 4. You could build that list by appending one item at a time to an empty list:"
   ]
  },
  {
   "cell_type": "code",
   "execution_count": 10,
   "metadata": {
    "application/vnd.databricks.v1+cell": {
     "inputWidgets": {},
     "nuid": "fb772592-e08b-45f2-be76-3072d408366d",
     "showTitle": false,
     "title": ""
    }
   },
   "outputs": [
    {
     "name": "stdout",
     "output_type": "stream",
     "text": [
      "[0, 1, 4, 9, 16]\n"
     ]
    }
   ],
   "source": [
    "L = []\n",
    "for x in range(5):\n",
    "    L.append(x**2)\n",
    "print(L)"
   ]
  },
  {
   "cell_type": "markdown",
   "metadata": {
    "application/vnd.databricks.v1+cell": {
     "inputWidgets": {},
     "nuid": "41063713-56a7-4dea-9b33-f956c6842eb5",
     "showTitle": false,
     "title": ""
    }
   },
   "source": [
    "Here both approaches produce the same result. However, a more Pythonic way to build a list is by using a list comprehension.\n",
    "\n",
    "The general syntax for a list comprehension is:\n",
    "\n",
    "<img src=\"https://www.learnbyexample.org/wp-content/uploads/python/Python-List-Comprehension-Syntax.png\">\n",
    "\n",
    "Here’s how a list comprehension would build the above list:"
   ]
  },
  {
   "cell_type": "code",
   "execution_count": 11,
   "metadata": {
    "application/vnd.databricks.v1+cell": {
     "inputWidgets": {},
     "nuid": "072f31fa-073a-41d1-b56c-109a3ff32d07",
     "showTitle": false,
     "title": ""
    }
   },
   "outputs": [
    {
     "name": "stdout",
     "output_type": "stream",
     "text": [
      "[0, 1, 4, 9, 16]\n"
     ]
    }
   ],
   "source": [
    "L = [x**2 for x in range(5)]\n",
    "print(L)"
   ]
  },
  {
   "cell_type": "code",
   "execution_count": 12,
   "metadata": {
    "application/vnd.databricks.v1+cell": {
     "inputWidgets": {},
     "nuid": "76ec0597-d6d3-4f1b-8b94-f844e4eb1705",
     "showTitle": false,
     "title": ""
    }
   },
   "outputs": [
    {
     "name": "stdout",
     "output_type": "stream",
     "text": [
      "['RRR', 'EEE', 'DDD']\n"
     ]
    }
   ],
   "source": [
    "L = [x*3 for x in 'RED']\n",
    "print(L)"
   ]
  },
  {
   "cell_type": "code",
   "execution_count": 13,
   "metadata": {
    "application/vnd.databricks.v1+cell": {
     "inputWidgets": {},
     "nuid": "dfe09d7d-4248-4622-8319-541760aeb875",
     "showTitle": false,
     "title": ""
    }
   },
   "outputs": [
    {
     "data": {
      "text/plain": [
       "['red', 'green', 'blue']"
      ]
     },
     "execution_count": 13,
     "metadata": {},
     "output_type": "execute_result"
    }
   ],
   "source": [
    "colors = ['  red', '  green ', 'blue  ']\n",
    "L = [color.strip() for color in colors]\n",
    "L"
   ]
  },
  {
   "cell_type": "code",
   "execution_count": 14,
   "metadata": {
    "application/vnd.databricks.v1+cell": {
     "inputWidgets": {},
     "nuid": "76d63715-8d89-4ec7-9421-d229b3b3c546",
     "showTitle": false,
     "title": ""
    },
    "scrolled": true
   },
   "outputs": [
    {
     "name": "stdout",
     "output_type": "stream",
     "text": [
      "[(0, 0), (1, 1), (2, 4), (3, 9)]\n"
     ]
    }
   ],
   "source": [
    "L = [(x, x**2) for x in range(4)]\n",
    "print(L)"
   ]
  },
  {
   "cell_type": "markdown",
   "metadata": {
    "application/vnd.databricks.v1+cell": {
     "inputWidgets": {},
     "nuid": "3945e9c8-fc53-44c5-995b-3f1dc22874c2",
     "showTitle": false,
     "title": ""
    }
   },
   "source": [
    "**List Comprehension with if Clause**\n",
    "\n",
    "A list comprehension may have an optional associated if clause to filter items out of the result. Iterable’s items are skipped for which the if clause is not true."
   ]
  },
  {
   "cell_type": "code",
   "execution_count": 15,
   "metadata": {
    "application/vnd.databricks.v1+cell": {
     "inputWidgets": {},
     "nuid": "3a97ba94-4fc4-4500-8839-9ac606095bfd",
     "showTitle": false,
     "title": ""
    }
   },
   "outputs": [
    {
     "name": "stdout",
     "output_type": "stream",
     "text": [
      "[0, 2, 4]\n"
     ]
    }
   ],
   "source": [
    "# Filter list to exclude negative numbers\n",
    "vec = [-4, -2, 0, 2, 4]\n",
    "L = [x for x in vec if x >= 0]\n",
    "print(L)"
   ]
  },
  {
   "cell_type": "code",
   "execution_count": 16,
   "metadata": {
    "application/vnd.databricks.v1+cell": {
     "inputWidgets": {},
     "nuid": "a2cba93a-4832-4311-bad3-d896dde0f47a",
     "showTitle": false,
     "title": ""
    }
   },
   "outputs": [
    {
     "name": "stdout",
     "output_type": "stream",
     "text": [
      "[0, 2, 4]\n"
     ]
    }
   ],
   "source": [
    "# Without list comprehension\n",
    "vec = [-4, -2, 0, 2, 4]\n",
    "L = []\n",
    "for x in vec:\n",
    "    if x >= 0:\n",
    "        L.append(x)\n",
    "print(L)"
   ]
  },
  {
   "cell_type": "markdown",
   "metadata": {
    "application/vnd.databricks.v1+cell": {
     "inputWidgets": {},
     "nuid": "51128456-09b3-4175-9387-67f7d6a7c5ed",
     "showTitle": false,
     "title": ""
    }
   },
   "source": [
    "**Nested List Comprehensions**\n",
    "\n",
    "The initial expression in a list comprehension can be any expression, including another list comprehension.\n",
    "\n",
    "<img src=\"https://www.learnbyexample.org/wp-content/uploads/python/Python-Nested-List-Comprehension-Syntax.png\">"
   ]
  },
  {
   "cell_type": "code",
   "execution_count": 17,
   "metadata": {
    "application/vnd.databricks.v1+cell": {
     "inputWidgets": {},
     "nuid": "94b80a6f-9833-4662-874d-33ecc4bb6112",
     "showTitle": false,
     "title": ""
    }
   },
   "outputs": [
    {
     "name": "stdout",
     "output_type": "stream",
     "text": [
      "[1, 2, 3, 4, 5, 6, 7, 8, 9]\n"
     ]
    }
   ],
   "source": [
    "# With list comprehension\n",
    "vector = [[1, 2, 3], [4, 5, 6], [7, 8, 9]]\n",
    "L = [number for x in vector for number in x]\n",
    "print(L)"
   ]
  },
  {
   "cell_type": "code",
   "execution_count": 18,
   "metadata": {
    "application/vnd.databricks.v1+cell": {
     "inputWidgets": {},
     "nuid": "4e49a38e-2c2b-4585-bc73-b55193b9bfb1",
     "showTitle": false,
     "title": ""
    }
   },
   "outputs": [
    {
     "name": "stdout",
     "output_type": "stream",
     "text": [
      "[1, 2, 3, 4, 5, 6, 7, 8, 9]\n"
     ]
    }
   ],
   "source": [
    "# Equivalent to the following plain, old nested loop:\n",
    "vector = [[1, 2, 3], [4, 5, 6], [7, 8, 9]]\n",
    "L = []\n",
    "for x in vector:\n",
    "    for number in x:\n",
    "        L.append(number)\n",
    "print(L)"
   ]
  },
  {
   "cell_type": "code",
   "execution_count": 19,
   "metadata": {
    "application/vnd.databricks.v1+cell": {
     "inputWidgets": {},
     "nuid": "b89320a4-c20e-49f0-8d58-d95f9850b72a",
     "showTitle": false,
     "title": ""
    }
   },
   "outputs": [
    {
     "data": {
      "text/plain": [
       "[[1, 4, 7], [2, 5, 8], [3, 6, 9]]"
      ]
     },
     "execution_count": 19,
     "metadata": {},
     "output_type": "execute_result"
    }
   ],
   "source": [
    "matrix = [[1, 2, 3],\n",
    "          [4, 5, 6],\n",
    "          [7, 8, 9]]\n",
    "L = [[row[i] for row in matrix] for i in range(3)]\n",
    "L"
   ]
  },
  {
   "cell_type": "markdown",
   "metadata": {
    "application/vnd.databricks.v1+cell": {
     "inputWidgets": {},
     "nuid": "479c4974-62bd-49f5-857d-25c905792afe",
     "showTitle": false,
     "title": ""
    }
   },
   "source": [
    "**List Comprehension vs map() + lambda**\n",
    "\n",
    "When all you’re doing is calling an already-defined function on each element, map(f, L) is a little faster than the corresponding list comprehension [f(x) for x in L]. Following example collects the ASCII codes of all characters in an entire string."
   ]
  },
  {
   "cell_type": "code",
   "execution_count": 20,
   "metadata": {
    "application/vnd.databricks.v1+cell": {
     "inputWidgets": {},
     "nuid": "2fa0b8c0-7331-447c-b514-e9903e3beade",
     "showTitle": false,
     "title": ""
    }
   },
   "outputs": [
    {
     "name": "stdout",
     "output_type": "stream",
     "text": [
      "[102, 111, 111]\n",
      "[102, 111, 111]\n"
     ]
    }
   ],
   "source": [
    "# With list comprehension\n",
    "L = [ord(x) for x in 'foo']\n",
    "print(L)\n",
    "\n",
    "# With map() function\n",
    "list(map(ord, 'foo'))\n",
    "print(L)"
   ]
  },
  {
   "cell_type": "markdown",
   "metadata": {
    "application/vnd.databricks.v1+cell": {
     "inputWidgets": {},
     "nuid": "6b7f08cd-d1ca-4b8d-9279-cbea081034b6",
     "showTitle": false,
     "title": ""
    }
   },
   "source": [
    "What is `lambda` in python?\n",
    "\n",
    "A lambda function is a small anonymous function.It can take any number of arguments, but can only have one expression."
   ]
  },
  {
   "cell_type": "code",
   "execution_count": 21,
   "metadata": {
    "application/vnd.databricks.v1+cell": {
     "inputWidgets": {},
     "nuid": "19f4a275-de92-4b9f-87e9-72321dbe3cf9",
     "showTitle": false,
     "title": ""
    }
   },
   "outputs": [
    {
     "name": "stdout",
     "output_type": "stream",
     "text": [
      "15\n"
     ]
    }
   ],
   "source": [
    "x = lambda a : a + 10\n",
    "print(x(5))"
   ]
  },
  {
   "cell_type": "code",
   "execution_count": 22,
   "metadata": {
    "application/vnd.databricks.v1+cell": {
     "inputWidgets": {},
     "nuid": "f36bb781-9f5d-4198-b3f0-ebdc31692589",
     "showTitle": false,
     "title": ""
    }
   },
   "outputs": [
    {
     "name": "stdout",
     "output_type": "stream",
     "text": [
      "30\n"
     ]
    }
   ],
   "source": [
    "x = lambda a, b : a * b\n",
    "print(x(5, 6))"
   ]
  },
  {
   "cell_type": "markdown",
   "metadata": {
    "application/vnd.databricks.v1+cell": {
     "inputWidgets": {},
     "nuid": "f61b13fc-d0c0-4a8e-92ed-92a41ec5e1a6",
     "showTitle": false,
     "title": ""
    }
   },
   "source": [
    "However, when evaluating any other expression, `[some_expr for x in L]` is faster and clearer than `map(lambda x: some_expr, L)`, because the map incurs an extra function call for each element. Following example creates a list of all integer square numbers."
   ]
  },
  {
   "cell_type": "code",
   "execution_count": 23,
   "metadata": {
    "application/vnd.databricks.v1+cell": {
     "inputWidgets": {},
     "nuid": "28dc1540-0d43-4a2d-b7e4-86023ad53f4a",
     "showTitle": false,
     "title": ""
    }
   },
   "outputs": [
    {
     "name": "stdout",
     "output_type": "stream",
     "text": [
      "[0, 2, 4, 6, 8]\n",
      "[0, 2, 4, 6, 8]\n"
     ]
    }
   ],
   "source": [
    "L = [x for x in range(10) if x % 2 == 0]\n",
    "print(L)\n",
    "\n",
    "# With filter() function\n",
    "L = list(filter((lambda x: x % 2 == 0), range(10)))\n",
    "print(L)"
   ]
  },
  {
   "cell_type": "markdown",
   "metadata": {
    "application/vnd.databricks.v1+cell": {
     "inputWidgets": {},
     "nuid": "9a4c9ce8-d732-4eb2-bc98-f58a9b212653",
     "showTitle": false,
     "title": ""
    }
   },
   "source": [
    "**Dictionary Comprehension**\n",
    "\n",
    "The idea of comprehension is not just unique to lists in Python. Dictionaries also have comprehensions."
   ]
  },
  {
   "cell_type": "code",
   "execution_count": 24,
   "metadata": {
    "application/vnd.databricks.v1+cell": {
     "inputWidgets": {},
     "nuid": "ad3c82f7-37c4-44c4-b20d-ba0b5f766198",
     "showTitle": false,
     "title": ""
    }
   },
   "outputs": [
    {
     "name": "stdout",
     "output_type": "stream",
     "text": [
      "{0: 0, 1: 1, 2: 4, 3: 9, 4: 16}\n"
     ]
    }
   ],
   "source": [
    "D = {}\n",
    "for x in range(5):\n",
    "    D[x] = x**2\n",
    "\n",
    "print(D)"
   ]
  },
  {
   "cell_type": "markdown",
   "metadata": {
    "application/vnd.databricks.v1+cell": {
     "inputWidgets": {},
     "nuid": "2a1f800e-9265-4dc7-b26d-385ec8b0a5fd",
     "showTitle": false,
     "title": ""
    }
   },
   "source": [
    "The general syntax for a dictionary comprehension is:\n",
    "\n",
    "<img src = https://www.learnbyexample.org/wp-content/uploads/python/Python-Dictionary-Comprehension-Syntax.png>"
   ]
  },
  {
   "cell_type": "code",
   "execution_count": 25,
   "metadata": {
    "application/vnd.databricks.v1+cell": {
     "inputWidgets": {},
     "nuid": "518d439d-fc15-4f63-9662-6466dd86b613",
     "showTitle": false,
     "title": ""
    }
   },
   "outputs": [
    {
     "name": "stdout",
     "output_type": "stream",
     "text": [
      "{0: 0, 1: 1, 2: 4, 3: 9, 4: 16}\n"
     ]
    }
   ],
   "source": [
    "D = {x: x**2 for x in range(5)}\n",
    "print(D)"
   ]
  },
  {
   "cell_type": "code",
   "execution_count": 26,
   "metadata": {
    "application/vnd.databricks.v1+cell": {
     "inputWidgets": {},
     "nuid": "4f1efee4-e709-454f-a1ec-a8540c621bc5",
     "showTitle": false,
     "title": ""
    }
   },
   "outputs": [
    {
     "name": "stdout",
     "output_type": "stream",
     "text": [
      "{'red': 'RED', 'green': 'GREEN', 'blue': 'BLUE'}\n"
     ]
    }
   ],
   "source": [
    "L = ['ReD', 'GrEeN', 'BlUe']\n",
    "D = {c.lower(): c.upper() for c in L}\n",
    "print(D)"
   ]
  }
 ],
 "metadata": {
  "anaconda-cloud": {},
  "application/vnd.databricks.v1+notebook": {
   "dashboards": [],
   "language": "python",
   "notebookMetadata": {
    "pythonIndentUnit": 2
   },
   "notebookName": "Python_Part2",
   "notebookOrigID": 2425280650113424,
   "widgets": {}
  },
  "kernelspec": {
   "display_name": "Python 3",
   "language": "python",
   "name": "python3"
  },
  "language_info": {
   "codemirror_mode": {
    "name": "ipython",
    "version": 3
   },
   "file_extension": ".py",
   "mimetype": "text/x-python",
   "name": "python",
   "nbconvert_exporter": "python",
   "pygments_lexer": "ipython3",
   "version": "3.7.3"
  }
 },
 "nbformat": 4,
 "nbformat_minor": 1
}
