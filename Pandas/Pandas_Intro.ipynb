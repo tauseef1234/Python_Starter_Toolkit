{
 "cells": [
  {
   "cell_type": "markdown",
   "metadata": {
    "id": "rHLcriKWLRe4"
   },
   "source": [
    "# Pandas - Part 1\n",
    "\n",
    "----------------\n",
    "\n",
    "## Intro to pandas"
   ]
  },
  {
   "cell_type": "markdown",
   "metadata": {
    "id": "QvJBqX8_Bctk"
   },
   "source": [
    "**Learning Objectives:**\n",
    "  * Gain an introduction to the `DataFrame` and `Series` data structures of the *pandas* library\n",
    "  * Access and manipulate data within a `DataFrame` and `Series`\n",
    "  * Import CSV/Excel data into a *pandas* `DataFrame`\n",
    "  * Reindex a `DataFrame` to shuffle data"
   ]
  },
  {
   "cell_type": "markdown",
   "metadata": {
    "id": "TIFJ83ZTBctl"
   },
   "source": [
    "[*pandas*](http://pandas.pydata.org/) is a column-oriented data analysis library. It's a great tool for handling and analyzing input data.\n",
    "Although a comprehensive introduction to the *pandas* library would span many pages, the core concepts are fairly straightforward, and we'll present them below. For a more complete reference, the [*pandas* docs site](http://pandas.pydata.org/pandas-docs/stable/index.html) contains extensive documentation and many tutorials."
   ]
  },
  {
   "cell_type": "markdown",
   "metadata": {
    "id": "s_JOISVgmn9v"
   },
   "source": [
    "## Basic Concepts\n",
    "\n",
    "The following line imports the *pandas* API and prints the API version:"
   ]
  },
  {
   "cell_type": "code",
   "execution_count": 1,
   "metadata": {
    "colab": {
     "base_uri": "https://localhost:8080/",
     "height": 35
    },
    "id": "aSRYu62xUi3g",
    "outputId": "d8295a09-22e6-49c8-ee03-d5fe5186740d"
   },
   "outputs": [
    {
     "data": {
      "text/plain": [
       "'0.24.2'"
      ]
     },
     "execution_count": 1,
     "metadata": {},
     "output_type": "execute_result"
    }
   ],
   "source": [
    "from __future__ import print_function\n",
    "\n",
    "import pandas as pd\n",
    "pd.__version__"
   ]
  },
  {
   "cell_type": "markdown",
   "metadata": {
    "id": "daQreKXIUslr"
   },
   "source": [
    "The primary data structures in *pandas* are implemented as two classes:\n",
    "\n",
    "  * **`DataFrame`**, which you can imagine as a relational data table, with rows and named columns.\n",
    "  * **`Series`**, which is a single column. A `DataFrame` contains one or more `Series` and a name for each `Series`.\n",
    "\n",
    "The data frame is a commonly used abstraction for data manipulation."
   ]
  },
  {
   "cell_type": "markdown",
   "metadata": {
    "id": "fjnAk1xcU0yc"
   },
   "source": [
    "One way to create a `Series` is to construct a `Series` object. For example:"
   ]
  },
  {
   "cell_type": "code",
   "execution_count": 2,
   "metadata": {
    "colab": {
     "base_uri": "https://localhost:8080/",
     "height": 85
    },
    "id": "DFZ42Uq7UFDj",
    "outputId": "e8548d57-95ef-4ce3-b774-6d8860cee1ce"
   },
   "outputs": [
    {
     "data": {
      "text/plain": [
       "0    San Francisco\n",
       "1         San Jose\n",
       "2       Sacramento\n",
       "dtype: object"
      ]
     },
     "execution_count": 2,
     "metadata": {},
     "output_type": "execute_result"
    }
   ],
   "source": [
    "pd.Series(['San Francisco', 'San Jose', 'Sacramento'])"
   ]
  },
  {
   "cell_type": "markdown",
   "metadata": {
    "id": "U5ouUp1cU6pC"
   },
   "source": [
    "`DataFrame` objects can be created by passing a `dict` mapping `string` column names to their respective `Series`. If the `Series` don't match in length, missing values are filled with special [NA/NaN](http://pandas.pydata.org/pandas-docs/stable/missing_data.html) values. Example:"
   ]
  },
  {
   "cell_type": "code",
   "execution_count": 3,
   "metadata": {
    "colab": {
     "base_uri": "https://localhost:8080/",
     "height": 142
    },
    "id": "avgr6GfiUh8t",
    "outputId": "dcf74b2d-3bf1-465f-82e4-fd24c3f24ab9"
   },
   "outputs": [
    {
     "data": {
      "text/html": [
       "<div>\n",
       "<style scoped>\n",
       "    .dataframe tbody tr th:only-of-type {\n",
       "        vertical-align: middle;\n",
       "    }\n",
       "\n",
       "    .dataframe tbody tr th {\n",
       "        vertical-align: top;\n",
       "    }\n",
       "\n",
       "    .dataframe thead th {\n",
       "        text-align: right;\n",
       "    }\n",
       "</style>\n",
       "<table border=\"1\" class=\"dataframe\">\n",
       "  <thead>\n",
       "    <tr style=\"text-align: right;\">\n",
       "      <th></th>\n",
       "      <th>City name</th>\n",
       "      <th>Population</th>\n",
       "    </tr>\n",
       "  </thead>\n",
       "  <tbody>\n",
       "    <tr>\n",
       "      <th>0</th>\n",
       "      <td>San Francisco</td>\n",
       "      <td>852469</td>\n",
       "    </tr>\n",
       "    <tr>\n",
       "      <th>1</th>\n",
       "      <td>San Jose</td>\n",
       "      <td>1015785</td>\n",
       "    </tr>\n",
       "    <tr>\n",
       "      <th>2</th>\n",
       "      <td>Sacramento</td>\n",
       "      <td>485199</td>\n",
       "    </tr>\n",
       "  </tbody>\n",
       "</table>\n",
       "</div>"
      ],
      "text/plain": [
       "       City name  Population\n",
       "0  San Francisco      852469\n",
       "1       San Jose     1015785\n",
       "2     Sacramento      485199"
      ]
     },
     "execution_count": 3,
     "metadata": {},
     "output_type": "execute_result"
    }
   ],
   "source": [
    "city_names = pd.Series(['San Francisco', 'San Jose', 'Sacramento'])\n",
    "population = pd.Series([852469, 1015785, 485199])\n",
    "\n",
    "pd.DataFrame({ 'City name': city_names, 'Population': population })"
   ]
  },
  {
   "cell_type": "markdown",
   "metadata": {
    "id": "oa5wfZT7VHJl"
   },
   "source": [
    "But most of the time, you load an entire file into a `DataFrame`. The following example loads a file with California housing data. Run the following cell to load the data and create feature definitions:"
   ]
  },
  {
   "cell_type": "code",
   "execution_count": 4,
   "metadata": {
    "colab": {
     "base_uri": "https://localhost:8080/",
     "height": 289
    },
    "id": "av6RYOraVG1V",
    "outputId": "10db4d3c-5e80-4e0d-ab44-bb253e6de498"
   },
   "outputs": [
    {
     "name": "stdout",
     "output_type": "stream",
     "text": [
      "<class 'pandas.core.frame.DataFrame'>\n",
      "RangeIndex: 17000 entries, 0 to 16999\n",
      "Data columns (total 9 columns):\n",
      "longitude             17000 non-null float64\n",
      "latitude              17000 non-null float64\n",
      "housing_median_age    17000 non-null float64\n",
      "total_rooms           17000 non-null float64\n",
      "total_bedrooms        17000 non-null float64\n",
      "population            17000 non-null float64\n",
      "households            17000 non-null float64\n",
      "median_income         17000 non-null float64\n",
      "median_house_value    17000 non-null float64\n",
      "dtypes: float64(9)\n",
      "memory usage: 1.2 MB\n"
     ]
    }
   ],
   "source": [
    "california_housing_dataframe = pd.read_csv(\"https://download.mlcc.google.com/mledu-datasets/california_housing_train.csv\", sep=\",\")\n",
    "california_housing_dataframe.info()"
   ]
  },
  {
   "cell_type": "markdown",
   "metadata": {
    "id": "WrkBjfz5kEQu"
   },
   "source": [
    "The example above used `DataFrame.describe` to show interesting statistics about a `DataFrame`. Another useful function is `DataFrame.head`, which displays the first few records of a `DataFrame`:"
   ]
  },
  {
   "cell_type": "code",
   "execution_count": 5,
   "metadata": {
    "colab": {
     "base_uri": "https://localhost:8080/",
     "height": 204
    },
    "id": "s3ND3bgOkB5k",
    "outputId": "7d55b178-85db-4c54-84a1-3dacba356e7a"
   },
   "outputs": [
    {
     "data": {
      "text/html": [
       "<div>\n",
       "<style scoped>\n",
       "    .dataframe tbody tr th:only-of-type {\n",
       "        vertical-align: middle;\n",
       "    }\n",
       "\n",
       "    .dataframe tbody tr th {\n",
       "        vertical-align: top;\n",
       "    }\n",
       "\n",
       "    .dataframe thead th {\n",
       "        text-align: right;\n",
       "    }\n",
       "</style>\n",
       "<table border=\"1\" class=\"dataframe\">\n",
       "  <thead>\n",
       "    <tr style=\"text-align: right;\">\n",
       "      <th></th>\n",
       "      <th>longitude</th>\n",
       "      <th>latitude</th>\n",
       "      <th>housing_median_age</th>\n",
       "      <th>total_rooms</th>\n",
       "      <th>total_bedrooms</th>\n",
       "      <th>population</th>\n",
       "      <th>households</th>\n",
       "      <th>median_income</th>\n",
       "      <th>median_house_value</th>\n",
       "    </tr>\n",
       "  </thead>\n",
       "  <tbody>\n",
       "    <tr>\n",
       "      <th>0</th>\n",
       "      <td>-114.31</td>\n",
       "      <td>34.19</td>\n",
       "      <td>15.0</td>\n",
       "      <td>5612.0</td>\n",
       "      <td>1283.0</td>\n",
       "      <td>1015.0</td>\n",
       "      <td>472.0</td>\n",
       "      <td>1.4936</td>\n",
       "      <td>66900.0</td>\n",
       "    </tr>\n",
       "    <tr>\n",
       "      <th>1</th>\n",
       "      <td>-114.47</td>\n",
       "      <td>34.40</td>\n",
       "      <td>19.0</td>\n",
       "      <td>7650.0</td>\n",
       "      <td>1901.0</td>\n",
       "      <td>1129.0</td>\n",
       "      <td>463.0</td>\n",
       "      <td>1.8200</td>\n",
       "      <td>80100.0</td>\n",
       "    </tr>\n",
       "    <tr>\n",
       "      <th>2</th>\n",
       "      <td>-114.56</td>\n",
       "      <td>33.69</td>\n",
       "      <td>17.0</td>\n",
       "      <td>720.0</td>\n",
       "      <td>174.0</td>\n",
       "      <td>333.0</td>\n",
       "      <td>117.0</td>\n",
       "      <td>1.6509</td>\n",
       "      <td>85700.0</td>\n",
       "    </tr>\n",
       "    <tr>\n",
       "      <th>3</th>\n",
       "      <td>-114.57</td>\n",
       "      <td>33.64</td>\n",
       "      <td>14.0</td>\n",
       "      <td>1501.0</td>\n",
       "      <td>337.0</td>\n",
       "      <td>515.0</td>\n",
       "      <td>226.0</td>\n",
       "      <td>3.1917</td>\n",
       "      <td>73400.0</td>\n",
       "    </tr>\n",
       "    <tr>\n",
       "      <th>4</th>\n",
       "      <td>-114.57</td>\n",
       "      <td>33.57</td>\n",
       "      <td>20.0</td>\n",
       "      <td>1454.0</td>\n",
       "      <td>326.0</td>\n",
       "      <td>624.0</td>\n",
       "      <td>262.0</td>\n",
       "      <td>1.9250</td>\n",
       "      <td>65500.0</td>\n",
       "    </tr>\n",
       "  </tbody>\n",
       "</table>\n",
       "</div>"
      ],
      "text/plain": [
       "   longitude  latitude  housing_median_age  total_rooms  total_bedrooms  \\\n",
       "0    -114.31     34.19                15.0       5612.0          1283.0   \n",
       "1    -114.47     34.40                19.0       7650.0          1901.0   \n",
       "2    -114.56     33.69                17.0        720.0           174.0   \n",
       "3    -114.57     33.64                14.0       1501.0           337.0   \n",
       "4    -114.57     33.57                20.0       1454.0           326.0   \n",
       "\n",
       "   population  households  median_income  median_house_value  \n",
       "0      1015.0       472.0         1.4936             66900.0  \n",
       "1      1129.0       463.0         1.8200             80100.0  \n",
       "2       333.0       117.0         1.6509             85700.0  \n",
       "3       515.0       226.0         3.1917             73400.0  \n",
       "4       624.0       262.0         1.9250             65500.0  "
      ]
     },
     "execution_count": 5,
     "metadata": {},
     "output_type": "execute_result"
    }
   ],
   "source": [
    "california_housing_dataframe.head()"
   ]
  },
  {
   "cell_type": "markdown",
   "metadata": {
    "id": "XtYZ7114n3b-"
   },
   "source": [
    "## Accessing Data\n",
    "\n",
    "You can access `DataFrame` data using familiar Python dict/list operations:"
   ]
  },
  {
   "cell_type": "code",
   "execution_count": 6,
   "metadata": {
    "colab": {
     "base_uri": "https://localhost:8080/",
     "height": 102
    },
    "id": "_TFm7-looBFF",
    "outputId": "0e13db3d-2021-44e1-9aa1-7cd9ccf26684"
   },
   "outputs": [
    {
     "name": "stdout",
     "output_type": "stream",
     "text": [
      "<class 'pandas.core.series.Series'>\n"
     ]
    },
    {
     "data": {
      "text/plain": [
       "0    San Francisco\n",
       "1         San Jose\n",
       "2       Sacramento\n",
       "Name: City name, dtype: object"
      ]
     },
     "execution_count": 6,
     "metadata": {},
     "output_type": "execute_result"
    }
   ],
   "source": [
    "cities = pd.DataFrame({ 'City name': city_names, 'Population': population })\n",
    "print(type(cities['City name']))\n",
    "cities['City name']"
   ]
  },
  {
   "cell_type": "code",
   "execution_count": 7,
   "metadata": {
    "id": "V5L6xacLoxyv"
   },
   "outputs": [
    {
     "name": "stdout",
     "output_type": "stream",
     "text": [
      "<class 'str'>\n"
     ]
    },
    {
     "data": {
      "text/plain": [
       "'San Jose'"
      ]
     },
     "execution_count": 7,
     "metadata": {},
     "output_type": "execute_result"
    }
   ],
   "source": [
    "print(type(cities['City name'][1]))\n",
    "cities['City name'][1]"
   ]
  },
  {
   "cell_type": "code",
   "execution_count": 8,
   "metadata": {
    "id": "gcYX1tBPugZl"
   },
   "outputs": [
    {
     "name": "stdout",
     "output_type": "stream",
     "text": [
      "<class 'pandas.core.frame.DataFrame'>\n"
     ]
    },
    {
     "data": {
      "text/html": [
       "<div>\n",
       "<style scoped>\n",
       "    .dataframe tbody tr th:only-of-type {\n",
       "        vertical-align: middle;\n",
       "    }\n",
       "\n",
       "    .dataframe tbody tr th {\n",
       "        vertical-align: top;\n",
       "    }\n",
       "\n",
       "    .dataframe thead th {\n",
       "        text-align: right;\n",
       "    }\n",
       "</style>\n",
       "<table border=\"1\" class=\"dataframe\">\n",
       "  <thead>\n",
       "    <tr style=\"text-align: right;\">\n",
       "      <th></th>\n",
       "      <th>City name</th>\n",
       "      <th>Population</th>\n",
       "    </tr>\n",
       "  </thead>\n",
       "  <tbody>\n",
       "    <tr>\n",
       "      <th>0</th>\n",
       "      <td>San Francisco</td>\n",
       "      <td>852469</td>\n",
       "    </tr>\n",
       "    <tr>\n",
       "      <th>1</th>\n",
       "      <td>San Jose</td>\n",
       "      <td>1015785</td>\n",
       "    </tr>\n",
       "  </tbody>\n",
       "</table>\n",
       "</div>"
      ],
      "text/plain": [
       "       City name  Population\n",
       "0  San Francisco      852469\n",
       "1       San Jose     1015785"
      ]
     },
     "execution_count": 8,
     "metadata": {},
     "output_type": "execute_result"
    }
   ],
   "source": [
    "print(type(cities[0:2]))\n",
    "cities[0:2]"
   ]
  },
  {
   "cell_type": "markdown",
   "metadata": {
    "id": "65g1ZdGVjXsQ"
   },
   "source": [
    "In addition, *pandas* provides an extremely rich API for advanced [indexing and selection](http://pandas.pydata.org/pandas-docs/stable/indexing.html) that is too extensive to be covered here."
   ]
  },
  {
   "cell_type": "markdown",
   "metadata": {
    "id": "RM1iaD-ka3Y1"
   },
   "source": [
    "## Manipulating Data\n",
    "\n",
    "You may apply Python's basic arithmetic operations to `Series`. For example:"
   ]
  },
  {
   "cell_type": "code",
   "execution_count": 9,
   "metadata": {
    "id": "XWmyCFJ5bOv-"
   },
   "outputs": [
    {
     "data": {
      "text/plain": [
       "0     852.469\n",
       "1    1015.785\n",
       "2     485.199\n",
       "dtype: float64"
      ]
     },
     "execution_count": 9,
     "metadata": {},
     "output_type": "execute_result"
    }
   ],
   "source": [
    "population / 1000."
   ]
  },
  {
   "cell_type": "markdown",
   "metadata": {
    "id": "xmxFuQmurr6d"
   },
   "source": [
    "For more complex single-column transformations, you can use `Series.apply`. Like the Python [map function](https://docs.python.org/2/library/functions.html#map), \n",
    "`Series.apply` accepts as an argument a [lambda function](https://docs.python.org/2/tutorial/controlflow.html#lambda-expressions), which is applied to each value.\n",
    "\n",
    "The example below creates a new `Series` that indicates whether `population` is over one million:"
   ]
  },
  {
   "cell_type": "code",
   "execution_count": 10,
   "metadata": {
    "id": "Fc1DvPAbstjI"
   },
   "outputs": [
    {
     "data": {
      "text/plain": [
       "0    False\n",
       "1     True\n",
       "2    False\n",
       "dtype: bool"
      ]
     },
     "execution_count": 10,
     "metadata": {},
     "output_type": "execute_result"
    }
   ],
   "source": [
    "population.apply(lambda val: val > 1000000)"
   ]
  },
  {
   "cell_type": "markdown",
   "metadata": {
    "id": "ZeYYLoV9b9fB"
   },
   "source": [
    "\n",
    "Modifying `DataFrames` is also straightforward. For example, the following code adds two `Series` to an existing `DataFrame`:"
   ]
  },
  {
   "cell_type": "code",
   "execution_count": 11,
   "metadata": {
    "colab": {
     "base_uri": "https://localhost:8080/",
     "height": 142
    },
    "id": "0gCEX99Hb8LR",
    "outputId": "8b9091eb-f315-4be7-82fd-2b20a7920e31"
   },
   "outputs": [
    {
     "data": {
      "text/html": [
       "<div>\n",
       "<style scoped>\n",
       "    .dataframe tbody tr th:only-of-type {\n",
       "        vertical-align: middle;\n",
       "    }\n",
       "\n",
       "    .dataframe tbody tr th {\n",
       "        vertical-align: top;\n",
       "    }\n",
       "\n",
       "    .dataframe thead th {\n",
       "        text-align: right;\n",
       "    }\n",
       "</style>\n",
       "<table border=\"1\" class=\"dataframe\">\n",
       "  <thead>\n",
       "    <tr style=\"text-align: right;\">\n",
       "      <th></th>\n",
       "      <th>City name</th>\n",
       "      <th>Population</th>\n",
       "      <th>Area square miles</th>\n",
       "      <th>Population density</th>\n",
       "    </tr>\n",
       "  </thead>\n",
       "  <tbody>\n",
       "    <tr>\n",
       "      <th>0</th>\n",
       "      <td>San Francisco</td>\n",
       "      <td>852469</td>\n",
       "      <td>46.87</td>\n",
       "      <td>18187.945381</td>\n",
       "    </tr>\n",
       "    <tr>\n",
       "      <th>1</th>\n",
       "      <td>San Jose</td>\n",
       "      <td>1015785</td>\n",
       "      <td>176.53</td>\n",
       "      <td>5754.177760</td>\n",
       "    </tr>\n",
       "    <tr>\n",
       "      <th>2</th>\n",
       "      <td>Sacramento</td>\n",
       "      <td>485199</td>\n",
       "      <td>97.92</td>\n",
       "      <td>4955.055147</td>\n",
       "    </tr>\n",
       "  </tbody>\n",
       "</table>\n",
       "</div>"
      ],
      "text/plain": [
       "       City name  Population  Area square miles  Population density\n",
       "0  San Francisco      852469              46.87        18187.945381\n",
       "1       San Jose     1015785             176.53         5754.177760\n",
       "2     Sacramento      485199              97.92         4955.055147"
      ]
     },
     "execution_count": 11,
     "metadata": {},
     "output_type": "execute_result"
    }
   ],
   "source": [
    "cities['Area square miles'] = pd.Series([46.87, 176.53, 97.92])\n",
    "cities['Population density'] = cities['Population'] / cities['Area square miles']\n",
    "cities"
   ]
  },
  {
   "cell_type": "markdown",
   "metadata": {
    "id": "6qh63m-ayb-c"
   },
   "source": [
    "## Exercise #1\n",
    "\n",
    "Modify the `cities` table by adding a new boolean column that is True if and only if *both* of the following are True:\n",
    "\n",
    "  * The city is named after a saint.\n",
    "  * The city has an area greater than 50 square miles.\n",
    "\n",
    "**Note:** Boolean `Series` are combined using the bitwise, rather than the traditional boolean, operators. For example, when performing *logical and*, use `&` instead of `and`.\n",
    "\n"
   ]
  },
  {
   "cell_type": "code",
   "execution_count": 12,
   "metadata": {
    "id": "T5OlrqtdtCIb"
   },
   "outputs": [
    {
     "data": {
      "text/html": [
       "<div>\n",
       "<style scoped>\n",
       "    .dataframe tbody tr th:only-of-type {\n",
       "        vertical-align: middle;\n",
       "    }\n",
       "\n",
       "    .dataframe tbody tr th {\n",
       "        vertical-align: top;\n",
       "    }\n",
       "\n",
       "    .dataframe thead th {\n",
       "        text-align: right;\n",
       "    }\n",
       "</style>\n",
       "<table border=\"1\" class=\"dataframe\">\n",
       "  <thead>\n",
       "    <tr style=\"text-align: right;\">\n",
       "      <th></th>\n",
       "      <th>City name</th>\n",
       "      <th>Population</th>\n",
       "      <th>Area square miles</th>\n",
       "      <th>Population density</th>\n",
       "      <th>Is wide and has saint name</th>\n",
       "    </tr>\n",
       "  </thead>\n",
       "  <tbody>\n",
       "    <tr>\n",
       "      <th>0</th>\n",
       "      <td>San Francisco</td>\n",
       "      <td>852469</td>\n",
       "      <td>46.87</td>\n",
       "      <td>18187.945381</td>\n",
       "      <td>False</td>\n",
       "    </tr>\n",
       "    <tr>\n",
       "      <th>1</th>\n",
       "      <td>San Jose</td>\n",
       "      <td>1015785</td>\n",
       "      <td>176.53</td>\n",
       "      <td>5754.177760</td>\n",
       "      <td>True</td>\n",
       "    </tr>\n",
       "    <tr>\n",
       "      <th>2</th>\n",
       "      <td>Sacramento</td>\n",
       "      <td>485199</td>\n",
       "      <td>97.92</td>\n",
       "      <td>4955.055147</td>\n",
       "      <td>False</td>\n",
       "    </tr>\n",
       "  </tbody>\n",
       "</table>\n",
       "</div>"
      ],
      "text/plain": [
       "       City name  Population  Area square miles  Population density  \\\n",
       "0  San Francisco      852469              46.87        18187.945381   \n",
       "1       San Jose     1015785             176.53         5754.177760   \n",
       "2     Sacramento      485199              97.92         4955.055147   \n",
       "\n",
       "   Is wide and has saint name  \n",
       "0                       False  \n",
       "1                        True  \n",
       "2                       False  "
      ]
     },
     "execution_count": 12,
     "metadata": {},
     "output_type": "execute_result"
    }
   ],
   "source": [
    "cities['Is wide and has saint name'] = (cities['Area square miles'] > 50) & cities['City name'].apply(lambda name: name.startswith('San'))\n",
    "cities"
   ]
  },
  {
   "cell_type": "markdown",
   "metadata": {
    "id": "f-xAOJeMiXFB"
   },
   "source": [
    "## Indexes\n",
    "Both `Series` and `DataFrame` objects also define an `index` property that assigns an identifier value to each `Series` item or `DataFrame` row. \n",
    "\n",
    "By default, at construction, *pandas* assigns index values that reflect the ordering of the source data. Once created, the index values are stable; that is, they do not change when data is reordered."
   ]
  },
  {
   "cell_type": "code",
   "execution_count": 13,
   "metadata": {
    "colab": {
     "base_uri": "https://localhost:8080/",
     "height": 34
    },
    "id": "2684gsWNinq9",
    "outputId": "36e30d57-0b3e-4864-cca4-bc644cf6e96d"
   },
   "outputs": [
    {
     "data": {
      "text/plain": [
       "RangeIndex(start=0, stop=3, step=1)"
      ]
     },
     "execution_count": 13,
     "metadata": {},
     "output_type": "execute_result"
    }
   ],
   "source": [
    "city_names.index"
   ]
  },
  {
   "cell_type": "code",
   "execution_count": 14,
   "metadata": {
    "colab": {
     "base_uri": "https://localhost:8080/",
     "height": 34
    },
    "id": "F_qPe2TBjfWd",
    "outputId": "f7470d2f-93d4-4dc1-d258-29370ce9bf2e"
   },
   "outputs": [
    {
     "data": {
      "text/plain": [
       "RangeIndex(start=0, stop=3, step=1)"
      ]
     },
     "execution_count": 14,
     "metadata": {},
     "output_type": "execute_result"
    }
   ],
   "source": [
    "cities.index"
   ]
  },
  {
   "cell_type": "markdown",
   "metadata": {
    "id": "hp2oWY9Slo_h"
   },
   "source": [
    "Call `DataFrame.reindex` to manually reorder the rows. For example, the following has the same effect as sorting by city name:"
   ]
  },
  {
   "cell_type": "code",
   "execution_count": 15,
   "metadata": {
    "id": "sN0zUzSAj-U1"
   },
   "outputs": [
    {
     "data": {
      "text/html": [
       "<div>\n",
       "<style scoped>\n",
       "    .dataframe tbody tr th:only-of-type {\n",
       "        vertical-align: middle;\n",
       "    }\n",
       "\n",
       "    .dataframe tbody tr th {\n",
       "        vertical-align: top;\n",
       "    }\n",
       "\n",
       "    .dataframe thead th {\n",
       "        text-align: right;\n",
       "    }\n",
       "</style>\n",
       "<table border=\"1\" class=\"dataframe\">\n",
       "  <thead>\n",
       "    <tr style=\"text-align: right;\">\n",
       "      <th></th>\n",
       "      <th>City name</th>\n",
       "      <th>Population</th>\n",
       "      <th>Area square miles</th>\n",
       "      <th>Population density</th>\n",
       "      <th>Is wide and has saint name</th>\n",
       "    </tr>\n",
       "  </thead>\n",
       "  <tbody>\n",
       "    <tr>\n",
       "      <th>2</th>\n",
       "      <td>Sacramento</td>\n",
       "      <td>485199</td>\n",
       "      <td>97.92</td>\n",
       "      <td>4955.055147</td>\n",
       "      <td>False</td>\n",
       "    </tr>\n",
       "    <tr>\n",
       "      <th>0</th>\n",
       "      <td>San Francisco</td>\n",
       "      <td>852469</td>\n",
       "      <td>46.87</td>\n",
       "      <td>18187.945381</td>\n",
       "      <td>False</td>\n",
       "    </tr>\n",
       "    <tr>\n",
       "      <th>1</th>\n",
       "      <td>San Jose</td>\n",
       "      <td>1015785</td>\n",
       "      <td>176.53</td>\n",
       "      <td>5754.177760</td>\n",
       "      <td>True</td>\n",
       "    </tr>\n",
       "  </tbody>\n",
       "</table>\n",
       "</div>"
      ],
      "text/plain": [
       "       City name  Population  Area square miles  Population density  \\\n",
       "2     Sacramento      485199              97.92         4955.055147   \n",
       "0  San Francisco      852469              46.87        18187.945381   \n",
       "1       San Jose     1015785             176.53         5754.177760   \n",
       "\n",
       "   Is wide and has saint name  \n",
       "2                       False  \n",
       "0                       False  \n",
       "1                        True  "
      ]
     },
     "execution_count": 15,
     "metadata": {},
     "output_type": "execute_result"
    }
   ],
   "source": [
    "cities.reindex([2, 0, 1])"
   ]
  },
  {
   "cell_type": "markdown",
   "metadata": {
    "id": "-GQFz8NZuS06"
   },
   "source": [
    "Reindexing is a great way to shuffle (randomize) a `DataFrame`. In the example below, we take the index, which is array-like, and pass it to NumPy's `random.permutation` function, which shuffles its values in place. Calling `reindex` with this shuffled array causes the `DataFrame` rows to be shuffled in the same way.\n",
    "Try running the following cell multiple times!"
   ]
  },
  {
   "cell_type": "code",
   "execution_count": 16,
   "metadata": {
    "id": "mF8GC0k8uYhz"
   },
   "outputs": [
    {
     "data": {
      "text/html": [
       "<div>\n",
       "<style scoped>\n",
       "    .dataframe tbody tr th:only-of-type {\n",
       "        vertical-align: middle;\n",
       "    }\n",
       "\n",
       "    .dataframe tbody tr th {\n",
       "        vertical-align: top;\n",
       "    }\n",
       "\n",
       "    .dataframe thead th {\n",
       "        text-align: right;\n",
       "    }\n",
       "</style>\n",
       "<table border=\"1\" class=\"dataframe\">\n",
       "  <thead>\n",
       "    <tr style=\"text-align: right;\">\n",
       "      <th></th>\n",
       "      <th>City name</th>\n",
       "      <th>Population</th>\n",
       "      <th>Area square miles</th>\n",
       "      <th>Population density</th>\n",
       "      <th>Is wide and has saint name</th>\n",
       "    </tr>\n",
       "  </thead>\n",
       "  <tbody>\n",
       "    <tr>\n",
       "      <th>0</th>\n",
       "      <td>San Francisco</td>\n",
       "      <td>852469</td>\n",
       "      <td>46.87</td>\n",
       "      <td>18187.945381</td>\n",
       "      <td>False</td>\n",
       "    </tr>\n",
       "    <tr>\n",
       "      <th>1</th>\n",
       "      <td>San Jose</td>\n",
       "      <td>1015785</td>\n",
       "      <td>176.53</td>\n",
       "      <td>5754.177760</td>\n",
       "      <td>True</td>\n",
       "    </tr>\n",
       "    <tr>\n",
       "      <th>2</th>\n",
       "      <td>Sacramento</td>\n",
       "      <td>485199</td>\n",
       "      <td>97.92</td>\n",
       "      <td>4955.055147</td>\n",
       "      <td>False</td>\n",
       "    </tr>\n",
       "  </tbody>\n",
       "</table>\n",
       "</div>"
      ],
      "text/plain": [
       "       City name  Population  Area square miles  Population density  \\\n",
       "0  San Francisco      852469              46.87        18187.945381   \n",
       "1       San Jose     1015785             176.53         5754.177760   \n",
       "2     Sacramento      485199              97.92         4955.055147   \n",
       "\n",
       "   Is wide and has saint name  \n",
       "0                       False  \n",
       "1                        True  \n",
       "2                       False  "
      ]
     },
     "execution_count": 16,
     "metadata": {},
     "output_type": "execute_result"
    }
   ],
   "source": [
    "import numpy as np\n",
    "cities.reindex(np.random.permutation(cities.index))"
   ]
  },
  {
   "cell_type": "markdown",
   "metadata": {
    "id": "fSso35fQmGKb"
   },
   "source": [
    "For more information, see the [Index documentation](http://pandas.pydata.org/pandas-docs/stable/indexing.html#index-objects)."
   ]
  },
  {
   "cell_type": "markdown",
   "metadata": {
    "id": "8UngIdVhz8C0"
   },
   "source": [
    "## Exercise #2\n",
    "\n",
    "The `reindex` method allows index values that are not in the original `DataFrame`'s index values. Try it and see what happens if you use such values! Why do you think this is allowed?"
   ]
  },
  {
   "cell_type": "markdown",
   "metadata": {
    "id": "8oSvi2QWwuDH"
   },
   "source": [
    "If your `reindex` input array includes values not in the original `DataFrame` index values, `reindex` will add new rows for these \"missing\" indices and populate all corresponding columns with `NaN` values:"
   ]
  },
  {
   "cell_type": "code",
   "execution_count": 17,
   "metadata": {
    "id": "yBdkucKCwy4x"
   },
   "outputs": [
    {
     "data": {
      "text/html": [
       "<div>\n",
       "<style scoped>\n",
       "    .dataframe tbody tr th:only-of-type {\n",
       "        vertical-align: middle;\n",
       "    }\n",
       "\n",
       "    .dataframe tbody tr th {\n",
       "        vertical-align: top;\n",
       "    }\n",
       "\n",
       "    .dataframe thead th {\n",
       "        text-align: right;\n",
       "    }\n",
       "</style>\n",
       "<table border=\"1\" class=\"dataframe\">\n",
       "  <thead>\n",
       "    <tr style=\"text-align: right;\">\n",
       "      <th></th>\n",
       "      <th>City name</th>\n",
       "      <th>Population</th>\n",
       "      <th>Area square miles</th>\n",
       "      <th>Population density</th>\n",
       "      <th>Is wide and has saint name</th>\n",
       "    </tr>\n",
       "  </thead>\n",
       "  <tbody>\n",
       "    <tr>\n",
       "      <th>0</th>\n",
       "      <td>San Francisco</td>\n",
       "      <td>852469.0</td>\n",
       "      <td>46.87</td>\n",
       "      <td>18187.945381</td>\n",
       "      <td>False</td>\n",
       "    </tr>\n",
       "    <tr>\n",
       "      <th>4</th>\n",
       "      <td>NaN</td>\n",
       "      <td>NaN</td>\n",
       "      <td>NaN</td>\n",
       "      <td>NaN</td>\n",
       "      <td>NaN</td>\n",
       "    </tr>\n",
       "    <tr>\n",
       "      <th>5</th>\n",
       "      <td>NaN</td>\n",
       "      <td>NaN</td>\n",
       "      <td>NaN</td>\n",
       "      <td>NaN</td>\n",
       "      <td>NaN</td>\n",
       "    </tr>\n",
       "    <tr>\n",
       "      <th>2</th>\n",
       "      <td>Sacramento</td>\n",
       "      <td>485199.0</td>\n",
       "      <td>97.92</td>\n",
       "      <td>4955.055147</td>\n",
       "      <td>False</td>\n",
       "    </tr>\n",
       "  </tbody>\n",
       "</table>\n",
       "</div>"
      ],
      "text/plain": [
       "       City name  Population  Area square miles  Population density  \\\n",
       "0  San Francisco    852469.0              46.87        18187.945381   \n",
       "4            NaN         NaN                NaN                 NaN   \n",
       "5            NaN         NaN                NaN                 NaN   \n",
       "2     Sacramento    485199.0              97.92         4955.055147   \n",
       "\n",
       "  Is wide and has saint name  \n",
       "0                      False  \n",
       "4                        NaN  \n",
       "5                        NaN  \n",
       "2                      False  "
      ]
     },
     "execution_count": 17,
     "metadata": {},
     "output_type": "execute_result"
    }
   ],
   "source": [
    "cities.reindex([0, 4, 5, 2])"
   ]
  },
  {
   "cell_type": "markdown",
   "metadata": {
    "id": "2l82PhPbwz7g"
   },
   "source": [
    "This behavior is desirable because indexes are often strings pulled from the actual data (see the [*pandas* reindex\n",
    "documentation](http://pandas.pydata.org/pandas-docs/stable/generated/pandas.DataFrame.reindex.html) for an example\n",
    "in which the index values are browser names).\n",
    "\n",
    "In this case, allowing \"missing\" indices makes it easy to reindex using an external list, as you don't have to worry about\n",
    "sanitizing the input."
   ]
  },
  {
   "cell_type": "markdown",
   "metadata": {},
   "source": [
    "Next, we will read a dummy sales data to demonstrate some of the common pandas methods for a pandas series (column)"
   ]
  },
  {
   "cell_type": "code",
   "execution_count": 18,
   "metadata": {
    "colab": {
     "base_uri": "https://localhost:8080/",
     "height": 272
    },
    "id": "pCtxIiYB8O_K",
    "outputId": "eff956b7-b701-4426-f66e-128010fd7360",
    "scrolled": false
   },
   "outputs": [
    {
     "name": "stdout",
     "output_type": "stream",
     "text": [
      "<class 'pandas.core.frame.DataFrame'>\n",
      "RangeIndex: 17 entries, 0 to 16\n",
      "Data columns (total 8 columns):\n",
      "Account     17 non-null int64\n",
      "Name        17 non-null object\n",
      "Rep         17 non-null object\n",
      "Manager     17 non-null object\n",
      "Product     17 non-null object\n",
      "Quantity    17 non-null int64\n",
      "Price       17 non-null int64\n",
      "Status      17 non-null object\n",
      "dtypes: int64(3), object(5)\n",
      "memory usage: 1.1+ KB\n"
     ]
    }
   ],
   "source": [
    "df = pd.read_excel(\"https://pbpython.com/extras/sales-funnel.xlsx\")\n",
    "df.info()"
   ]
  },
  {
   "cell_type": "code",
   "execution_count": 19,
   "metadata": {},
   "outputs": [
    {
     "data": {
      "text/html": [
       "<div>\n",
       "<style scoped>\n",
       "    .dataframe tbody tr th:only-of-type {\n",
       "        vertical-align: middle;\n",
       "    }\n",
       "\n",
       "    .dataframe tbody tr th {\n",
       "        vertical-align: top;\n",
       "    }\n",
       "\n",
       "    .dataframe thead th {\n",
       "        text-align: right;\n",
       "    }\n",
       "</style>\n",
       "<table border=\"1\" class=\"dataframe\">\n",
       "  <thead>\n",
       "    <tr style=\"text-align: right;\">\n",
       "      <th></th>\n",
       "      <th>Account</th>\n",
       "      <th>Name</th>\n",
       "      <th>Rep</th>\n",
       "      <th>Manager</th>\n",
       "      <th>Product</th>\n",
       "      <th>Quantity</th>\n",
       "      <th>Price</th>\n",
       "      <th>Status</th>\n",
       "    </tr>\n",
       "  </thead>\n",
       "  <tbody>\n",
       "    <tr>\n",
       "      <th>0</th>\n",
       "      <td>714466</td>\n",
       "      <td>Trantow-Barrows</td>\n",
       "      <td>Craig Booker</td>\n",
       "      <td>Debra Henley</td>\n",
       "      <td>CPU</td>\n",
       "      <td>1</td>\n",
       "      <td>30000</td>\n",
       "      <td>presented</td>\n",
       "    </tr>\n",
       "    <tr>\n",
       "      <th>1</th>\n",
       "      <td>714466</td>\n",
       "      <td>Trantow-Barrows</td>\n",
       "      <td>Craig Booker</td>\n",
       "      <td>Debra Henley</td>\n",
       "      <td>Software</td>\n",
       "      <td>1</td>\n",
       "      <td>10000</td>\n",
       "      <td>presented</td>\n",
       "    </tr>\n",
       "    <tr>\n",
       "      <th>2</th>\n",
       "      <td>714466</td>\n",
       "      <td>Trantow-Barrows</td>\n",
       "      <td>Craig Booker</td>\n",
       "      <td>Debra Henley</td>\n",
       "      <td>Maintenance</td>\n",
       "      <td>2</td>\n",
       "      <td>5000</td>\n",
       "      <td>pending</td>\n",
       "    </tr>\n",
       "    <tr>\n",
       "      <th>3</th>\n",
       "      <td>737550</td>\n",
       "      <td>Fritsch, Russel and Anderson</td>\n",
       "      <td>Craig Booker</td>\n",
       "      <td>Debra Henley</td>\n",
       "      <td>CPU</td>\n",
       "      <td>1</td>\n",
       "      <td>35000</td>\n",
       "      <td>declined</td>\n",
       "    </tr>\n",
       "    <tr>\n",
       "      <th>4</th>\n",
       "      <td>146832</td>\n",
       "      <td>Kiehn-Spinka</td>\n",
       "      <td>Daniel Hilton</td>\n",
       "      <td>Debra Henley</td>\n",
       "      <td>CPU</td>\n",
       "      <td>2</td>\n",
       "      <td>65000</td>\n",
       "      <td>won</td>\n",
       "    </tr>\n",
       "    <tr>\n",
       "      <th>5</th>\n",
       "      <td>218895</td>\n",
       "      <td>Kulas Inc</td>\n",
       "      <td>Daniel Hilton</td>\n",
       "      <td>Debra Henley</td>\n",
       "      <td>CPU</td>\n",
       "      <td>2</td>\n",
       "      <td>40000</td>\n",
       "      <td>pending</td>\n",
       "    </tr>\n",
       "    <tr>\n",
       "      <th>6</th>\n",
       "      <td>218895</td>\n",
       "      <td>Kulas Inc</td>\n",
       "      <td>Daniel Hilton</td>\n",
       "      <td>Debra Henley</td>\n",
       "      <td>Software</td>\n",
       "      <td>1</td>\n",
       "      <td>10000</td>\n",
       "      <td>presented</td>\n",
       "    </tr>\n",
       "    <tr>\n",
       "      <th>7</th>\n",
       "      <td>412290</td>\n",
       "      <td>Jerde-Hilpert</td>\n",
       "      <td>John Smith</td>\n",
       "      <td>Debra Henley</td>\n",
       "      <td>Maintenance</td>\n",
       "      <td>2</td>\n",
       "      <td>5000</td>\n",
       "      <td>pending</td>\n",
       "    </tr>\n",
       "    <tr>\n",
       "      <th>8</th>\n",
       "      <td>740150</td>\n",
       "      <td>Barton LLC</td>\n",
       "      <td>John Smith</td>\n",
       "      <td>Debra Henley</td>\n",
       "      <td>CPU</td>\n",
       "      <td>1</td>\n",
       "      <td>35000</td>\n",
       "      <td>declined</td>\n",
       "    </tr>\n",
       "    <tr>\n",
       "      <th>9</th>\n",
       "      <td>141962</td>\n",
       "      <td>Herman LLC</td>\n",
       "      <td>Cedric Moss</td>\n",
       "      <td>Fred Anderson</td>\n",
       "      <td>CPU</td>\n",
       "      <td>2</td>\n",
       "      <td>65000</td>\n",
       "      <td>won</td>\n",
       "    </tr>\n",
       "    <tr>\n",
       "      <th>10</th>\n",
       "      <td>163416</td>\n",
       "      <td>Purdy-Kunde</td>\n",
       "      <td>Cedric Moss</td>\n",
       "      <td>Fred Anderson</td>\n",
       "      <td>CPU</td>\n",
       "      <td>1</td>\n",
       "      <td>30000</td>\n",
       "      <td>presented</td>\n",
       "    </tr>\n",
       "    <tr>\n",
       "      <th>11</th>\n",
       "      <td>239344</td>\n",
       "      <td>Stokes LLC</td>\n",
       "      <td>Cedric Moss</td>\n",
       "      <td>Fred Anderson</td>\n",
       "      <td>Maintenance</td>\n",
       "      <td>1</td>\n",
       "      <td>5000</td>\n",
       "      <td>pending</td>\n",
       "    </tr>\n",
       "    <tr>\n",
       "      <th>12</th>\n",
       "      <td>239344</td>\n",
       "      <td>Stokes LLC</td>\n",
       "      <td>Cedric Moss</td>\n",
       "      <td>Fred Anderson</td>\n",
       "      <td>Software</td>\n",
       "      <td>1</td>\n",
       "      <td>10000</td>\n",
       "      <td>presented</td>\n",
       "    </tr>\n",
       "    <tr>\n",
       "      <th>13</th>\n",
       "      <td>307599</td>\n",
       "      <td>Kassulke, Ondricka and Metz</td>\n",
       "      <td>Wendy Yule</td>\n",
       "      <td>Fred Anderson</td>\n",
       "      <td>Maintenance</td>\n",
       "      <td>3</td>\n",
       "      <td>7000</td>\n",
       "      <td>won</td>\n",
       "    </tr>\n",
       "    <tr>\n",
       "      <th>14</th>\n",
       "      <td>688981</td>\n",
       "      <td>Keeling LLC</td>\n",
       "      <td>Wendy Yule</td>\n",
       "      <td>Fred Anderson</td>\n",
       "      <td>CPU</td>\n",
       "      <td>5</td>\n",
       "      <td>100000</td>\n",
       "      <td>won</td>\n",
       "    </tr>\n",
       "    <tr>\n",
       "      <th>15</th>\n",
       "      <td>729833</td>\n",
       "      <td>Koepp Ltd</td>\n",
       "      <td>Wendy Yule</td>\n",
       "      <td>Fred Anderson</td>\n",
       "      <td>CPU</td>\n",
       "      <td>2</td>\n",
       "      <td>65000</td>\n",
       "      <td>declined</td>\n",
       "    </tr>\n",
       "    <tr>\n",
       "      <th>16</th>\n",
       "      <td>729833</td>\n",
       "      <td>Koepp Ltd</td>\n",
       "      <td>Wendy Yule</td>\n",
       "      <td>Fred Anderson</td>\n",
       "      <td>Monitor</td>\n",
       "      <td>2</td>\n",
       "      <td>5000</td>\n",
       "      <td>presented</td>\n",
       "    </tr>\n",
       "  </tbody>\n",
       "</table>\n",
       "</div>"
      ],
      "text/plain": [
       "    Account                          Name            Rep        Manager  \\\n",
       "0    714466               Trantow-Barrows   Craig Booker   Debra Henley   \n",
       "1    714466               Trantow-Barrows   Craig Booker   Debra Henley   \n",
       "2    714466               Trantow-Barrows   Craig Booker   Debra Henley   \n",
       "3    737550  Fritsch, Russel and Anderson   Craig Booker   Debra Henley   \n",
       "4    146832                  Kiehn-Spinka  Daniel Hilton   Debra Henley   \n",
       "5    218895                     Kulas Inc  Daniel Hilton   Debra Henley   \n",
       "6    218895                     Kulas Inc  Daniel Hilton   Debra Henley   \n",
       "7    412290                 Jerde-Hilpert     John Smith   Debra Henley   \n",
       "8    740150                    Barton LLC     John Smith   Debra Henley   \n",
       "9    141962                    Herman LLC    Cedric Moss  Fred Anderson   \n",
       "10   163416                   Purdy-Kunde    Cedric Moss  Fred Anderson   \n",
       "11   239344                    Stokes LLC    Cedric Moss  Fred Anderson   \n",
       "12   239344                    Stokes LLC    Cedric Moss  Fred Anderson   \n",
       "13   307599   Kassulke, Ondricka and Metz     Wendy Yule  Fred Anderson   \n",
       "14   688981                   Keeling LLC     Wendy Yule  Fred Anderson   \n",
       "15   729833                     Koepp Ltd     Wendy Yule  Fred Anderson   \n",
       "16   729833                     Koepp Ltd     Wendy Yule  Fred Anderson   \n",
       "\n",
       "        Product  Quantity   Price     Status  \n",
       "0           CPU         1   30000  presented  \n",
       "1      Software         1   10000  presented  \n",
       "2   Maintenance         2    5000    pending  \n",
       "3           CPU         1   35000   declined  \n",
       "4           CPU         2   65000        won  \n",
       "5           CPU         2   40000    pending  \n",
       "6      Software         1   10000  presented  \n",
       "7   Maintenance         2    5000    pending  \n",
       "8           CPU         1   35000   declined  \n",
       "9           CPU         2   65000        won  \n",
       "10          CPU         1   30000  presented  \n",
       "11  Maintenance         1    5000    pending  \n",
       "12     Software         1   10000  presented  \n",
       "13  Maintenance         3    7000        won  \n",
       "14          CPU         5  100000        won  \n",
       "15          CPU         2   65000   declined  \n",
       "16      Monitor         2    5000  presented  "
      ]
     },
     "execution_count": 19,
     "metadata": {},
     "output_type": "execute_result"
    }
   ],
   "source": [
    "df"
   ]
  },
  {
   "cell_type": "code",
   "execution_count": 20,
   "metadata": {
    "colab": {
     "base_uri": "https://localhost:8080/",
     "height": 34
    },
    "id": "X-u_JcnYDUC1",
    "outputId": "ace180c9-59be-4eb8-d604-a35bde1698f8"
   },
   "outputs": [
    {
     "data": {
      "text/plain": [
       "2"
      ]
     },
     "execution_count": 20,
     "metadata": {},
     "output_type": "execute_result"
    }
   ],
   "source": [
    "# get count of unique values\n",
    "df['Manager'].nunique()"
   ]
  },
  {
   "cell_type": "code",
   "execution_count": 21,
   "metadata": {
    "colab": {
     "base_uri": "https://localhost:8080/",
     "height": 34
    },
    "id": "z45nr3h1DK7v",
    "outputId": "100435bf-d6bb-45c8-f389-065c1e093e92"
   },
   "outputs": [
    {
     "data": {
      "text/plain": [
       "array(['Debra Henley', 'Fred Anderson'], dtype=object)"
      ]
     },
     "execution_count": 21,
     "metadata": {},
     "output_type": "execute_result"
    }
   ],
   "source": [
    "# get list of unique values\n",
    "df['Manager'].unique()"
   ]
  },
  {
   "cell_type": "code",
   "execution_count": 22,
   "metadata": {
    "colab": {
     "base_uri": "https://localhost:8080/",
     "height": 68
    },
    "id": "eUoEiXQmDO2C",
    "outputId": "3c9a4ab9-0dc6-4058-a975-a76670b9af38"
   },
   "outputs": [
    {
     "data": {
      "text/plain": [
       "Debra Henley     9\n",
       "Fred Anderson    8\n",
       "Name: Manager, dtype: int64"
      ]
     },
     "execution_count": 22,
     "metadata": {},
     "output_type": "execute_result"
    }
   ],
   "source": [
    "# check count of each unique value\n",
    "df['Manager'].value_counts()"
   ]
  },
  {
   "cell_type": "code",
   "execution_count": 23,
   "metadata": {
    "colab": {
     "base_uri": "https://localhost:8080/",
     "height": 204
    },
    "id": "i7nF6000GTTy",
    "outputId": "951d572d-fb40-47b5-c059-e099d8cf37e9"
   },
   "outputs": [
    {
     "data": {
      "text/html": [
       "<div>\n",
       "<style scoped>\n",
       "    .dataframe tbody tr th:only-of-type {\n",
       "        vertical-align: middle;\n",
       "    }\n",
       "\n",
       "    .dataframe tbody tr th {\n",
       "        vertical-align: top;\n",
       "    }\n",
       "\n",
       "    .dataframe thead th {\n",
       "        text-align: right;\n",
       "    }\n",
       "</style>\n",
       "<table border=\"1\" class=\"dataframe\">\n",
       "  <thead>\n",
       "    <tr style=\"text-align: right;\">\n",
       "      <th></th>\n",
       "      <th>Account</th>\n",
       "      <th>Name</th>\n",
       "      <th>Rep</th>\n",
       "      <th>Manager</th>\n",
       "      <th>Product</th>\n",
       "      <th>Quantity</th>\n",
       "      <th>Price</th>\n",
       "      <th>Status</th>\n",
       "    </tr>\n",
       "  </thead>\n",
       "  <tbody>\n",
       "    <tr>\n",
       "      <th>12</th>\n",
       "      <td>239344</td>\n",
       "      <td>Stokes LLC</td>\n",
       "      <td>Cedric Moss</td>\n",
       "      <td>Fred Anderson</td>\n",
       "      <td>Software</td>\n",
       "      <td>1</td>\n",
       "      <td>10000</td>\n",
       "      <td>presented</td>\n",
       "    </tr>\n",
       "    <tr>\n",
       "      <th>13</th>\n",
       "      <td>307599</td>\n",
       "      <td>Kassulke, Ondricka and Metz</td>\n",
       "      <td>Wendy Yule</td>\n",
       "      <td>Fred Anderson</td>\n",
       "      <td>Maintenance</td>\n",
       "      <td>3</td>\n",
       "      <td>7000</td>\n",
       "      <td>won</td>\n",
       "    </tr>\n",
       "    <tr>\n",
       "      <th>14</th>\n",
       "      <td>688981</td>\n",
       "      <td>Keeling LLC</td>\n",
       "      <td>Wendy Yule</td>\n",
       "      <td>Fred Anderson</td>\n",
       "      <td>CPU</td>\n",
       "      <td>5</td>\n",
       "      <td>100000</td>\n",
       "      <td>won</td>\n",
       "    </tr>\n",
       "    <tr>\n",
       "      <th>15</th>\n",
       "      <td>729833</td>\n",
       "      <td>Koepp Ltd</td>\n",
       "      <td>Wendy Yule</td>\n",
       "      <td>Fred Anderson</td>\n",
       "      <td>CPU</td>\n",
       "      <td>2</td>\n",
       "      <td>65000</td>\n",
       "      <td>declined</td>\n",
       "    </tr>\n",
       "    <tr>\n",
       "      <th>16</th>\n",
       "      <td>729833</td>\n",
       "      <td>Koepp Ltd</td>\n",
       "      <td>Wendy Yule</td>\n",
       "      <td>Fred Anderson</td>\n",
       "      <td>Monitor</td>\n",
       "      <td>2</td>\n",
       "      <td>5000</td>\n",
       "      <td>presented</td>\n",
       "    </tr>\n",
       "  </tbody>\n",
       "</table>\n",
       "</div>"
      ],
      "text/plain": [
       "    Account                         Name          Rep        Manager  \\\n",
       "12   239344                   Stokes LLC  Cedric Moss  Fred Anderson   \n",
       "13   307599  Kassulke, Ondricka and Metz   Wendy Yule  Fred Anderson   \n",
       "14   688981                  Keeling LLC   Wendy Yule  Fred Anderson   \n",
       "15   729833                    Koepp Ltd   Wendy Yule  Fred Anderson   \n",
       "16   729833                    Koepp Ltd   Wendy Yule  Fred Anderson   \n",
       "\n",
       "        Product  Quantity   Price     Status  \n",
       "12     Software         1   10000  presented  \n",
       "13  Maintenance         3    7000        won  \n",
       "14          CPU         5  100000        won  \n",
       "15          CPU         2   65000   declined  \n",
       "16      Monitor         2    5000  presented  "
      ]
     },
     "execution_count": 23,
     "metadata": {},
     "output_type": "execute_result"
    }
   ],
   "source": [
    "# display observations from the end of the dataframe\n",
    "df.tail()"
   ]
  },
  {
   "cell_type": "code",
   "execution_count": 24,
   "metadata": {
    "colab": {
     "base_uri": "https://localhost:8080/",
     "height": 297
    },
    "id": "ZsRyW2b5GTe1",
    "outputId": "b6d629dc-893c-431b-f7d6-72b9260e3098"
   },
   "outputs": [
    {
     "data": {
      "text/html": [
       "<div>\n",
       "<style scoped>\n",
       "    .dataframe tbody tr th:only-of-type {\n",
       "        vertical-align: middle;\n",
       "    }\n",
       "\n",
       "    .dataframe tbody tr th {\n",
       "        vertical-align: top;\n",
       "    }\n",
       "\n",
       "    .dataframe thead th {\n",
       "        text-align: right;\n",
       "    }\n",
       "</style>\n",
       "<table border=\"1\" class=\"dataframe\">\n",
       "  <thead>\n",
       "    <tr style=\"text-align: right;\">\n",
       "      <th></th>\n",
       "      <th>Account</th>\n",
       "      <th>Quantity</th>\n",
       "      <th>Price</th>\n",
       "    </tr>\n",
       "  </thead>\n",
       "  <tbody>\n",
       "    <tr>\n",
       "      <th>count</th>\n",
       "      <td>17.000000</td>\n",
       "      <td>17.000000</td>\n",
       "      <td>17.000000</td>\n",
       "    </tr>\n",
       "    <tr>\n",
       "      <th>mean</th>\n",
       "      <td>462254.235294</td>\n",
       "      <td>1.764706</td>\n",
       "      <td>30705.882353</td>\n",
       "    </tr>\n",
       "    <tr>\n",
       "      <th>std</th>\n",
       "      <td>259093.442862</td>\n",
       "      <td>1.032558</td>\n",
       "      <td>28444.605609</td>\n",
       "    </tr>\n",
       "    <tr>\n",
       "      <th>min</th>\n",
       "      <td>141962.000000</td>\n",
       "      <td>1.000000</td>\n",
       "      <td>5000.000000</td>\n",
       "    </tr>\n",
       "    <tr>\n",
       "      <th>25%</th>\n",
       "      <td>218895.000000</td>\n",
       "      <td>1.000000</td>\n",
       "      <td>7000.000000</td>\n",
       "    </tr>\n",
       "    <tr>\n",
       "      <th>50%</th>\n",
       "      <td>412290.000000</td>\n",
       "      <td>2.000000</td>\n",
       "      <td>30000.000000</td>\n",
       "    </tr>\n",
       "    <tr>\n",
       "      <th>75%</th>\n",
       "      <td>714466.000000</td>\n",
       "      <td>2.000000</td>\n",
       "      <td>40000.000000</td>\n",
       "    </tr>\n",
       "    <tr>\n",
       "      <th>max</th>\n",
       "      <td>740150.000000</td>\n",
       "      <td>5.000000</td>\n",
       "      <td>100000.000000</td>\n",
       "    </tr>\n",
       "  </tbody>\n",
       "</table>\n",
       "</div>"
      ],
      "text/plain": [
       "             Account   Quantity          Price\n",
       "count      17.000000  17.000000      17.000000\n",
       "mean   462254.235294   1.764706   30705.882353\n",
       "std    259093.442862   1.032558   28444.605609\n",
       "min    141962.000000   1.000000    5000.000000\n",
       "25%    218895.000000   1.000000    7000.000000\n",
       "50%    412290.000000   2.000000   30000.000000\n",
       "75%    714466.000000   2.000000   40000.000000\n",
       "max    740150.000000   5.000000  100000.000000"
      ]
     },
     "execution_count": 24,
     "metadata": {},
     "output_type": "execute_result"
    }
   ],
   "source": [
    "# describe the dataset\n",
    "df.describe()"
   ]
  },
  {
   "cell_type": "code",
   "execution_count": 25,
   "metadata": {
    "colab": {
     "base_uri": "https://localhost:8080/",
     "height": 34
    },
    "id": "5nAfp29-F1Mx",
    "outputId": "78a822a7-c5f7-4842-bb48-aad6db4c722a"
   },
   "outputs": [
    {
     "data": {
      "text/plain": [
       "100000"
      ]
     },
     "execution_count": 25,
     "metadata": {},
     "output_type": "execute_result"
    }
   ],
   "source": [
    "# max of a column\n",
    "max(df['Price'])"
   ]
  },
  {
   "cell_type": "code",
   "execution_count": 26,
   "metadata": {
    "colab": {
     "base_uri": "https://localhost:8080/",
     "height": 34
    },
    "id": "Ys-aDjJJF5de",
    "outputId": "26a511cd-40ac-4440-87d3-587d88e21b0b"
   },
   "outputs": [
    {
     "data": {
      "text/plain": [
       "5000"
      ]
     },
     "execution_count": 26,
     "metadata": {},
     "output_type": "execute_result"
    }
   ],
   "source": [
    "# min of a column\n",
    "min(df['Price'])"
   ]
  },
  {
   "cell_type": "markdown",
   "metadata": {},
   "source": [
    "## Subset data \n",
    "\n",
    "Subsetting specific rows and columns usinf `.loc`"
   ]
  },
  {
   "cell_type": "code",
   "execution_count": 27,
   "metadata": {},
   "outputs": [
    {
     "data": {
      "text/html": [
       "<div>\n",
       "<style scoped>\n",
       "    .dataframe tbody tr th:only-of-type {\n",
       "        vertical-align: middle;\n",
       "    }\n",
       "\n",
       "    .dataframe tbody tr th {\n",
       "        vertical-align: top;\n",
       "    }\n",
       "\n",
       "    .dataframe thead th {\n",
       "        text-align: right;\n",
       "    }\n",
       "</style>\n",
       "<table border=\"1\" class=\"dataframe\">\n",
       "  <thead>\n",
       "    <tr style=\"text-align: right;\">\n",
       "      <th></th>\n",
       "      <th>Name</th>\n",
       "      <th>Manager</th>\n",
       "    </tr>\n",
       "  </thead>\n",
       "  <tbody>\n",
       "    <tr>\n",
       "      <th>1</th>\n",
       "      <td>Trantow-Barrows</td>\n",
       "      <td>Debra Henley</td>\n",
       "    </tr>\n",
       "    <tr>\n",
       "      <th>2</th>\n",
       "      <td>Trantow-Barrows</td>\n",
       "      <td>Debra Henley</td>\n",
       "    </tr>\n",
       "    <tr>\n",
       "      <th>3</th>\n",
       "      <td>Fritsch, Russel and Anderson</td>\n",
       "      <td>Debra Henley</td>\n",
       "    </tr>\n",
       "    <tr>\n",
       "      <th>4</th>\n",
       "      <td>Kiehn-Spinka</td>\n",
       "      <td>Debra Henley</td>\n",
       "    </tr>\n",
       "    <tr>\n",
       "      <th>5</th>\n",
       "      <td>Kulas Inc</td>\n",
       "      <td>Debra Henley</td>\n",
       "    </tr>\n",
       "  </tbody>\n",
       "</table>\n",
       "</div>"
      ],
      "text/plain": [
       "                           Name       Manager\n",
       "1               Trantow-Barrows  Debra Henley\n",
       "2               Trantow-Barrows  Debra Henley\n",
       "3  Fritsch, Russel and Anderson  Debra Henley\n",
       "4                  Kiehn-Spinka  Debra Henley\n",
       "5                     Kulas Inc  Debra Henley"
      ]
     },
     "execution_count": 27,
     "metadata": {},
     "output_type": "execute_result"
    }
   ],
   "source": [
    "df.loc[1:5,['Name','Manager']]"
   ]
  },
  {
   "cell_type": "markdown",
   "metadata": {},
   "source": [
    "Subsetting data using `iloc`.It works entirely on integer indexing for both rows and columns."
   ]
  },
  {
   "cell_type": "code",
   "execution_count": 28,
   "metadata": {},
   "outputs": [
    {
     "data": {
      "text/html": [
       "<div>\n",
       "<style scoped>\n",
       "    .dataframe tbody tr th:only-of-type {\n",
       "        vertical-align: middle;\n",
       "    }\n",
       "\n",
       "    .dataframe tbody tr th {\n",
       "        vertical-align: top;\n",
       "    }\n",
       "\n",
       "    .dataframe thead th {\n",
       "        text-align: right;\n",
       "    }\n",
       "</style>\n",
       "<table border=\"1\" class=\"dataframe\">\n",
       "  <thead>\n",
       "    <tr style=\"text-align: right;\">\n",
       "      <th></th>\n",
       "      <th>Manager</th>\n",
       "      <th>Quantity</th>\n",
       "    </tr>\n",
       "  </thead>\n",
       "  <tbody>\n",
       "    <tr>\n",
       "      <th>2</th>\n",
       "      <td>Debra Henley</td>\n",
       "      <td>2</td>\n",
       "    </tr>\n",
       "    <tr>\n",
       "      <th>3</th>\n",
       "      <td>Debra Henley</td>\n",
       "      <td>1</td>\n",
       "    </tr>\n",
       "    <tr>\n",
       "      <th>6</th>\n",
       "      <td>Debra Henley</td>\n",
       "      <td>1</td>\n",
       "    </tr>\n",
       "  </tbody>\n",
       "</table>\n",
       "</div>"
      ],
      "text/plain": [
       "        Manager  Quantity\n",
       "2  Debra Henley         2\n",
       "3  Debra Henley         1\n",
       "6  Debra Henley         1"
      ]
     },
     "execution_count": 28,
     "metadata": {},
     "output_type": "execute_result"
    }
   ],
   "source": [
    "df.iloc[[2,3,6], [3, 5]]"
   ]
  },
  {
   "cell_type": "markdown",
   "metadata": {
    "id": "cuZHImOM5rRl"
   },
   "source": [
    "##  Filtering\n",
    "1. Filtering data (rows) based on conditions using `.loc`"
   ]
  },
  {
   "cell_type": "code",
   "execution_count": 29,
   "metadata": {
    "colab": {
     "base_uri": "https://localhost:8080/",
     "height": 142
    },
    "id": "OGGfy2PL6Rnm",
    "outputId": "c425cd73-dd06-4aa0-b41d-d89d50921166"
   },
   "outputs": [
    {
     "data": {
      "text/html": [
       "<div>\n",
       "<style scoped>\n",
       "    .dataframe tbody tr th:only-of-type {\n",
       "        vertical-align: middle;\n",
       "    }\n",
       "\n",
       "    .dataframe tbody tr th {\n",
       "        vertical-align: top;\n",
       "    }\n",
       "\n",
       "    .dataframe thead th {\n",
       "        text-align: right;\n",
       "    }\n",
       "</style>\n",
       "<table border=\"1\" class=\"dataframe\">\n",
       "  <thead>\n",
       "    <tr style=\"text-align: right;\">\n",
       "      <th></th>\n",
       "      <th>City name</th>\n",
       "      <th>Population</th>\n",
       "      <th>Area square miles</th>\n",
       "      <th>Population density</th>\n",
       "      <th>Is wide and has saint name</th>\n",
       "    </tr>\n",
       "  </thead>\n",
       "  <tbody>\n",
       "    <tr>\n",
       "      <th>0</th>\n",
       "      <td>San Francisco</td>\n",
       "      <td>852469</td>\n",
       "      <td>46.87</td>\n",
       "      <td>18187.945381</td>\n",
       "      <td>False</td>\n",
       "    </tr>\n",
       "    <tr>\n",
       "      <th>1</th>\n",
       "      <td>San Jose</td>\n",
       "      <td>1015785</td>\n",
       "      <td>176.53</td>\n",
       "      <td>5754.177760</td>\n",
       "      <td>True</td>\n",
       "    </tr>\n",
       "    <tr>\n",
       "      <th>2</th>\n",
       "      <td>Sacramento</td>\n",
       "      <td>485199</td>\n",
       "      <td>97.92</td>\n",
       "      <td>4955.055147</td>\n",
       "      <td>False</td>\n",
       "    </tr>\n",
       "  </tbody>\n",
       "</table>\n",
       "</div>"
      ],
      "text/plain": [
       "       City name  Population  Area square miles  Population density  \\\n",
       "0  San Francisco      852469              46.87        18187.945381   \n",
       "1       San Jose     1015785             176.53         5754.177760   \n",
       "2     Sacramento      485199              97.92         4955.055147   \n",
       "\n",
       "   Is wide and has saint name  \n",
       "0                       False  \n",
       "1                        True  \n",
       "2                       False  "
      ]
     },
     "execution_count": 29,
     "metadata": {},
     "output_type": "execute_result"
    }
   ],
   "source": [
    "cities"
   ]
  },
  {
   "cell_type": "code",
   "execution_count": 30,
   "metadata": {
    "colab": {
     "base_uri": "https://localhost:8080/",
     "height": 80
    },
    "id": "MJeKNN9X3j24",
    "outputId": "a4b83954-ed26-43fb-ac0e-5163989aa582"
   },
   "outputs": [
    {
     "data": {
      "text/html": [
       "<div>\n",
       "<style scoped>\n",
       "    .dataframe tbody tr th:only-of-type {\n",
       "        vertical-align: middle;\n",
       "    }\n",
       "\n",
       "    .dataframe tbody tr th {\n",
       "        vertical-align: top;\n",
       "    }\n",
       "\n",
       "    .dataframe thead th {\n",
       "        text-align: right;\n",
       "    }\n",
       "</style>\n",
       "<table border=\"1\" class=\"dataframe\">\n",
       "  <thead>\n",
       "    <tr style=\"text-align: right;\">\n",
       "      <th></th>\n",
       "      <th>City name</th>\n",
       "      <th>Population</th>\n",
       "      <th>Area square miles</th>\n",
       "      <th>Population density</th>\n",
       "      <th>Is wide and has saint name</th>\n",
       "    </tr>\n",
       "  </thead>\n",
       "  <tbody>\n",
       "    <tr>\n",
       "      <th>1</th>\n",
       "      <td>San Jose</td>\n",
       "      <td>1015785</td>\n",
       "      <td>176.53</td>\n",
       "      <td>5754.17776</td>\n",
       "      <td>True</td>\n",
       "    </tr>\n",
       "  </tbody>\n",
       "</table>\n",
       "</div>"
      ],
      "text/plain": [
       "  City name  Population  Area square miles  Population density  \\\n",
       "1  San Jose     1015785             176.53          5754.17776   \n",
       "\n",
       "   Is wide and has saint name  \n",
       "1                        True  "
      ]
     },
     "execution_count": 30,
     "metadata": {},
     "output_type": "execute_result"
    }
   ],
   "source": [
    "# filter data with city name San Jose\n",
    "cities.loc[cities['City name']=='San Jose']"
   ]
  },
  {
   "cell_type": "code",
   "execution_count": 31,
   "metadata": {
    "colab": {
     "base_uri": "https://localhost:8080/",
     "height": 80
    },
    "id": "9zr03Tj98xKJ",
    "outputId": "1c83af30-0e81-45e5-85ea-28e9d6476fd6"
   },
   "outputs": [
    {
     "data": {
      "text/html": [
       "<div>\n",
       "<style scoped>\n",
       "    .dataframe tbody tr th:only-of-type {\n",
       "        vertical-align: middle;\n",
       "    }\n",
       "\n",
       "    .dataframe tbody tr th {\n",
       "        vertical-align: top;\n",
       "    }\n",
       "\n",
       "    .dataframe thead th {\n",
       "        text-align: right;\n",
       "    }\n",
       "</style>\n",
       "<table border=\"1\" class=\"dataframe\">\n",
       "  <thead>\n",
       "    <tr style=\"text-align: right;\">\n",
       "      <th></th>\n",
       "      <th>City name</th>\n",
       "      <th>Population</th>\n",
       "      <th>Area square miles</th>\n",
       "      <th>Population density</th>\n",
       "      <th>Is wide and has saint name</th>\n",
       "    </tr>\n",
       "  </thead>\n",
       "  <tbody>\n",
       "    <tr>\n",
       "      <th>1</th>\n",
       "      <td>San Jose</td>\n",
       "      <td>1015785</td>\n",
       "      <td>176.53</td>\n",
       "      <td>5754.17776</td>\n",
       "      <td>True</td>\n",
       "    </tr>\n",
       "  </tbody>\n",
       "</table>\n",
       "</div>"
      ],
      "text/plain": [
       "  City name  Population  Area square miles  Population density  \\\n",
       "1  San Jose     1015785             176.53          5754.17776   \n",
       "\n",
       "   Is wide and has saint name  \n",
       "1                        True  "
      ]
     },
     "execution_count": 31,
     "metadata": {},
     "output_type": "execute_result"
    }
   ],
   "source": [
    "# filter data with city name San Jose using isin\n",
    "cities.loc[cities['City name'].isin(['San Jose'])]"
   ]
  },
  {
   "cell_type": "code",
   "execution_count": 32,
   "metadata": {
    "colab": {
     "base_uri": "https://localhost:8080/",
     "height": 80
    },
    "id": "9zr03Tj98xKJ",
    "outputId": "1c83af30-0e81-45e5-85ea-28e9d6476fd6"
   },
   "outputs": [
    {
     "data": {
      "text/html": [
       "<div>\n",
       "<style scoped>\n",
       "    .dataframe tbody tr th:only-of-type {\n",
       "        vertical-align: middle;\n",
       "    }\n",
       "\n",
       "    .dataframe tbody tr th {\n",
       "        vertical-align: top;\n",
       "    }\n",
       "\n",
       "    .dataframe thead th {\n",
       "        text-align: right;\n",
       "    }\n",
       "</style>\n",
       "<table border=\"1\" class=\"dataframe\">\n",
       "  <thead>\n",
       "    <tr style=\"text-align: right;\">\n",
       "      <th></th>\n",
       "      <th>City name</th>\n",
       "      <th>Population</th>\n",
       "      <th>Area square miles</th>\n",
       "      <th>Population density</th>\n",
       "      <th>Is wide and has saint name</th>\n",
       "    </tr>\n",
       "  </thead>\n",
       "  <tbody>\n",
       "    <tr>\n",
       "      <th>0</th>\n",
       "      <td>San Francisco</td>\n",
       "      <td>852469</td>\n",
       "      <td>46.87</td>\n",
       "      <td>18187.945381</td>\n",
       "      <td>False</td>\n",
       "    </tr>\n",
       "    <tr>\n",
       "      <th>2</th>\n",
       "      <td>Sacramento</td>\n",
       "      <td>485199</td>\n",
       "      <td>97.92</td>\n",
       "      <td>4955.055147</td>\n",
       "      <td>False</td>\n",
       "    </tr>\n",
       "  </tbody>\n",
       "</table>\n",
       "</div>"
      ],
      "text/plain": [
       "       City name  Population  Area square miles  Population density  \\\n",
       "0  San Francisco      852469              46.87        18187.945381   \n",
       "2     Sacramento      485199              97.92         4955.055147   \n",
       "\n",
       "   Is wide and has saint name  \n",
       "0                       False  \n",
       "2                       False  "
      ]
     },
     "execution_count": 32,
     "metadata": {},
     "output_type": "execute_result"
    }
   ],
   "source": [
    "# filter data with city name not in San Jose\n",
    "cities.loc[~cities['City name'].isin(['San Jose'])]"
   ]
  },
  {
   "cell_type": "code",
   "execution_count": 33,
   "metadata": {
    "colab": {
     "base_uri": "https://localhost:8080/",
     "height": 111
    },
    "id": "S1-S_y8g6Iqe",
    "outputId": "9235b776-8c3e-497e-e72e-933bd3ae9b11"
   },
   "outputs": [
    {
     "data": {
      "text/html": [
       "<div>\n",
       "<style scoped>\n",
       "    .dataframe tbody tr th:only-of-type {\n",
       "        vertical-align: middle;\n",
       "    }\n",
       "\n",
       "    .dataframe tbody tr th {\n",
       "        vertical-align: top;\n",
       "    }\n",
       "\n",
       "    .dataframe thead th {\n",
       "        text-align: right;\n",
       "    }\n",
       "</style>\n",
       "<table border=\"1\" class=\"dataframe\">\n",
       "  <thead>\n",
       "    <tr style=\"text-align: right;\">\n",
       "      <th></th>\n",
       "      <th>City name</th>\n",
       "      <th>Population</th>\n",
       "      <th>Area square miles</th>\n",
       "      <th>Population density</th>\n",
       "      <th>Is wide and has saint name</th>\n",
       "    </tr>\n",
       "  </thead>\n",
       "  <tbody>\n",
       "    <tr>\n",
       "      <th>1</th>\n",
       "      <td>San Jose</td>\n",
       "      <td>1015785</td>\n",
       "      <td>176.53</td>\n",
       "      <td>5754.177760</td>\n",
       "      <td>True</td>\n",
       "    </tr>\n",
       "    <tr>\n",
       "      <th>2</th>\n",
       "      <td>Sacramento</td>\n",
       "      <td>485199</td>\n",
       "      <td>97.92</td>\n",
       "      <td>4955.055147</td>\n",
       "      <td>False</td>\n",
       "    </tr>\n",
       "  </tbody>\n",
       "</table>\n",
       "</div>"
      ],
      "text/plain": [
       "    City name  Population  Area square miles  Population density  \\\n",
       "1    San Jose     1015785             176.53         5754.177760   \n",
       "2  Sacramento      485199              97.92         4955.055147   \n",
       "\n",
       "   Is wide and has saint name  \n",
       "1                        True  \n",
       "2                       False  "
      ]
     },
     "execution_count": 33,
     "metadata": {},
     "output_type": "execute_result"
    }
   ],
   "source": [
    "# filter data with city area > 50 sq miles\n",
    "cities.loc[cities['Area square miles']>50]"
   ]
  },
  {
   "cell_type": "code",
   "execution_count": 34,
   "metadata": {
    "colab": {
     "base_uri": "https://localhost:8080/",
     "height": 80
    },
    "id": "a3ro1n1W6vl5",
    "outputId": "e8a113d8-147e-4438-936d-ac41fb52f2d5"
   },
   "outputs": [
    {
     "data": {
      "text/html": [
       "<div>\n",
       "<style scoped>\n",
       "    .dataframe tbody tr th:only-of-type {\n",
       "        vertical-align: middle;\n",
       "    }\n",
       "\n",
       "    .dataframe tbody tr th {\n",
       "        vertical-align: top;\n",
       "    }\n",
       "\n",
       "    .dataframe thead th {\n",
       "        text-align: right;\n",
       "    }\n",
       "</style>\n",
       "<table border=\"1\" class=\"dataframe\">\n",
       "  <thead>\n",
       "    <tr style=\"text-align: right;\">\n",
       "      <th></th>\n",
       "      <th>City name</th>\n",
       "      <th>Population</th>\n",
       "      <th>Area square miles</th>\n",
       "      <th>Population density</th>\n",
       "      <th>Is wide and has saint name</th>\n",
       "    </tr>\n",
       "  </thead>\n",
       "  <tbody>\n",
       "    <tr>\n",
       "      <th>1</th>\n",
       "      <td>San Jose</td>\n",
       "      <td>1015785</td>\n",
       "      <td>176.53</td>\n",
       "      <td>5754.17776</td>\n",
       "      <td>True</td>\n",
       "    </tr>\n",
       "  </tbody>\n",
       "</table>\n",
       "</div>"
      ],
      "text/plain": [
       "  City name  Population  Area square miles  Population density  \\\n",
       "1  San Jose     1015785             176.53          5754.17776   \n",
       "\n",
       "   Is wide and has saint name  \n",
       "1                        True  "
      ]
     },
     "execution_count": 34,
     "metadata": {},
     "output_type": "execute_result"
    }
   ],
   "source": [
    "# apply multiple filtering conditions on different columns (AND condition)\n",
    "cities.loc[(cities['Area square miles']>50) & (cities['Population density']>5000)]"
   ]
  },
  {
   "cell_type": "code",
   "execution_count": 35,
   "metadata": {},
   "outputs": [
    {
     "data": {
      "text/html": [
       "<div>\n",
       "<style scoped>\n",
       "    .dataframe tbody tr th:only-of-type {\n",
       "        vertical-align: middle;\n",
       "    }\n",
       "\n",
       "    .dataframe tbody tr th {\n",
       "        vertical-align: top;\n",
       "    }\n",
       "\n",
       "    .dataframe thead th {\n",
       "        text-align: right;\n",
       "    }\n",
       "</style>\n",
       "<table border=\"1\" class=\"dataframe\">\n",
       "  <thead>\n",
       "    <tr style=\"text-align: right;\">\n",
       "      <th></th>\n",
       "      <th>City name</th>\n",
       "      <th>Population</th>\n",
       "      <th>Area square miles</th>\n",
       "      <th>Population density</th>\n",
       "      <th>Is wide and has saint name</th>\n",
       "    </tr>\n",
       "  </thead>\n",
       "  <tbody>\n",
       "    <tr>\n",
       "      <th>0</th>\n",
       "      <td>San Francisco</td>\n",
       "      <td>852469</td>\n",
       "      <td>46.87</td>\n",
       "      <td>18187.945381</td>\n",
       "      <td>False</td>\n",
       "    </tr>\n",
       "    <tr>\n",
       "      <th>1</th>\n",
       "      <td>San Jose</td>\n",
       "      <td>1015785</td>\n",
       "      <td>176.53</td>\n",
       "      <td>5754.177760</td>\n",
       "      <td>True</td>\n",
       "    </tr>\n",
       "    <tr>\n",
       "      <th>2</th>\n",
       "      <td>Sacramento</td>\n",
       "      <td>485199</td>\n",
       "      <td>97.92</td>\n",
       "      <td>4955.055147</td>\n",
       "      <td>False</td>\n",
       "    </tr>\n",
       "  </tbody>\n",
       "</table>\n",
       "</div>"
      ],
      "text/plain": [
       "       City name  Population  Area square miles  Population density  \\\n",
       "0  San Francisco      852469              46.87        18187.945381   \n",
       "1       San Jose     1015785             176.53         5754.177760   \n",
       "2     Sacramento      485199              97.92         4955.055147   \n",
       "\n",
       "   Is wide and has saint name  \n",
       "0                       False  \n",
       "1                        True  \n",
       "2                       False  "
      ]
     },
     "execution_count": 35,
     "metadata": {},
     "output_type": "execute_result"
    }
   ],
   "source": [
    "# apply either of the two criteria (OR condition)\n",
    "cities.loc[(cities['Area square miles']>50) | (cities['Population density']>5000)]"
   ]
  },
  {
   "cell_type": "markdown",
   "metadata": {
    "id": "ygOLMku58MXG"
   },
   "source": [
    "##  Pivot\n",
    "\n",
    "[Study link for pivot](https://pbpython.com/pandas-pivot-table-explained.html)\n",
    "\n",
    "The pandas documentation has a nice image to showcase the first method.\n",
    "\n",
    "![pd_pivot](https://pandas.pydata.org/pandas-docs/stable/_images/reshaping_pivot.png)"
   ]
  },
  {
   "cell_type": "code",
   "execution_count": 36,
   "metadata": {
    "colab": {
     "base_uri": "https://localhost:8080/",
     "height": 235
    },
    "id": "sI-ZXQqj82nz",
    "outputId": "ff2008f4-2987-4f2e-a611-ab99beb79957"
   },
   "outputs": [
    {
     "data": {
      "text/html": [
       "<div>\n",
       "<style scoped>\n",
       "    .dataframe tbody tr th:only-of-type {\n",
       "        vertical-align: middle;\n",
       "    }\n",
       "\n",
       "    .dataframe tbody tr th {\n",
       "        vertical-align: top;\n",
       "    }\n",
       "\n",
       "    .dataframe thead th {\n",
       "        text-align: right;\n",
       "    }\n",
       "</style>\n",
       "<table border=\"1\" class=\"dataframe\">\n",
       "  <thead>\n",
       "    <tr style=\"text-align: right;\">\n",
       "      <th></th>\n",
       "      <th>Account</th>\n",
       "      <th>Price</th>\n",
       "      <th>Quantity</th>\n",
       "    </tr>\n",
       "    <tr>\n",
       "      <th>Rep</th>\n",
       "      <th></th>\n",
       "      <th></th>\n",
       "      <th></th>\n",
       "    </tr>\n",
       "  </thead>\n",
       "  <tbody>\n",
       "    <tr>\n",
       "      <th>Cedric Moss</th>\n",
       "      <td>196016.5</td>\n",
       "      <td>27500.000000</td>\n",
       "      <td>1.250000</td>\n",
       "    </tr>\n",
       "    <tr>\n",
       "      <th>Craig Booker</th>\n",
       "      <td>720237.0</td>\n",
       "      <td>20000.000000</td>\n",
       "      <td>1.250000</td>\n",
       "    </tr>\n",
       "    <tr>\n",
       "      <th>Daniel Hilton</th>\n",
       "      <td>194874.0</td>\n",
       "      <td>38333.333333</td>\n",
       "      <td>1.666667</td>\n",
       "    </tr>\n",
       "    <tr>\n",
       "      <th>John Smith</th>\n",
       "      <td>576220.0</td>\n",
       "      <td>20000.000000</td>\n",
       "      <td>1.500000</td>\n",
       "    </tr>\n",
       "    <tr>\n",
       "      <th>Wendy Yule</th>\n",
       "      <td>614061.5</td>\n",
       "      <td>44250.000000</td>\n",
       "      <td>3.000000</td>\n",
       "    </tr>\n",
       "  </tbody>\n",
       "</table>\n",
       "</div>"
      ],
      "text/plain": [
       "                Account         Price  Quantity\n",
       "Rep                                            \n",
       "Cedric Moss    196016.5  27500.000000  1.250000\n",
       "Craig Booker   720237.0  20000.000000  1.250000\n",
       "Daniel Hilton  194874.0  38333.333333  1.666667\n",
       "John Smith     576220.0  20000.000000  1.500000\n",
       "Wendy Yule     614061.5  44250.000000  3.000000"
      ]
     },
     "execution_count": 36,
     "metadata": {},
     "output_type": "execute_result"
    }
   ],
   "source": [
    "pd.pivot_table(df,index=['Rep']) #default aggregation mean"
   ]
  },
  {
   "cell_type": "code",
   "execution_count": 37,
   "metadata": {
    "colab": {
     "base_uri": "https://localhost:8080/",
     "height": 235
    },
    "id": "B0BFEh44BmUk",
    "outputId": "b39b1958-7db5-433b-cb0f-51f4d474a575"
   },
   "outputs": [
    {
     "data": {
      "text/html": [
       "<div>\n",
       "<style scoped>\n",
       "    .dataframe tbody tr th:only-of-type {\n",
       "        vertical-align: middle;\n",
       "    }\n",
       "\n",
       "    .dataframe tbody tr th {\n",
       "        vertical-align: top;\n",
       "    }\n",
       "\n",
       "    .dataframe thead th {\n",
       "        text-align: right;\n",
       "    }\n",
       "</style>\n",
       "<table border=\"1\" class=\"dataframe\">\n",
       "  <thead>\n",
       "    <tr style=\"text-align: right;\">\n",
       "      <th></th>\n",
       "      <th></th>\n",
       "      <th>Account</th>\n",
       "      <th>Price</th>\n",
       "      <th>Quantity</th>\n",
       "    </tr>\n",
       "    <tr>\n",
       "      <th>Manager</th>\n",
       "      <th>Rep</th>\n",
       "      <th></th>\n",
       "      <th></th>\n",
       "      <th></th>\n",
       "    </tr>\n",
       "  </thead>\n",
       "  <tbody>\n",
       "    <tr>\n",
       "      <th rowspan=\"3\" valign=\"top\">Debra Henley</th>\n",
       "      <th>Craig Booker</th>\n",
       "      <td>720237.0</td>\n",
       "      <td>20000.000000</td>\n",
       "      <td>1.250000</td>\n",
       "    </tr>\n",
       "    <tr>\n",
       "      <th>Daniel Hilton</th>\n",
       "      <td>194874.0</td>\n",
       "      <td>38333.333333</td>\n",
       "      <td>1.666667</td>\n",
       "    </tr>\n",
       "    <tr>\n",
       "      <th>John Smith</th>\n",
       "      <td>576220.0</td>\n",
       "      <td>20000.000000</td>\n",
       "      <td>1.500000</td>\n",
       "    </tr>\n",
       "    <tr>\n",
       "      <th rowspan=\"2\" valign=\"top\">Fred Anderson</th>\n",
       "      <th>Cedric Moss</th>\n",
       "      <td>196016.5</td>\n",
       "      <td>27500.000000</td>\n",
       "      <td>1.250000</td>\n",
       "    </tr>\n",
       "    <tr>\n",
       "      <th>Wendy Yule</th>\n",
       "      <td>614061.5</td>\n",
       "      <td>44250.000000</td>\n",
       "      <td>3.000000</td>\n",
       "    </tr>\n",
       "  </tbody>\n",
       "</table>\n",
       "</div>"
      ],
      "text/plain": [
       "                              Account         Price  Quantity\n",
       "Manager       Rep                                            \n",
       "Debra Henley  Craig Booker   720237.0  20000.000000  1.250000\n",
       "              Daniel Hilton  194874.0  38333.333333  1.666667\n",
       "              John Smith     576220.0  20000.000000  1.500000\n",
       "Fred Anderson Cedric Moss    196016.5  27500.000000  1.250000\n",
       "              Wendy Yule     614061.5  44250.000000  3.000000"
      ]
     },
     "execution_count": 37,
     "metadata": {},
     "output_type": "execute_result"
    }
   ],
   "source": [
    "pd.pivot_table(df,index=[\"Manager\",\"Rep\"])"
   ]
  },
  {
   "cell_type": "code",
   "execution_count": 38,
   "metadata": {
    "colab": {
     "base_uri": "https://localhost:8080/",
     "height": 297
    },
    "id": "Ib3JEvP_CHcn",
    "outputId": "b25908e0-3788-4ba5-e0bd-430c12736b8a"
   },
   "outputs": [
    {
     "data": {
      "text/html": [
       "<div>\n",
       "<style scoped>\n",
       "    .dataframe tbody tr th:only-of-type {\n",
       "        vertical-align: middle;\n",
       "    }\n",
       "\n",
       "    .dataframe tbody tr th {\n",
       "        vertical-align: top;\n",
       "    }\n",
       "\n",
       "    .dataframe thead tr th {\n",
       "        text-align: left;\n",
       "    }\n",
       "\n",
       "    .dataframe thead tr:last-of-type th {\n",
       "        text-align: right;\n",
       "    }\n",
       "</style>\n",
       "<table border=\"1\" class=\"dataframe\">\n",
       "  <thead>\n",
       "    <tr>\n",
       "      <th></th>\n",
       "      <th></th>\n",
       "      <th colspan=\"8\" halign=\"left\">sum</th>\n",
       "    </tr>\n",
       "    <tr>\n",
       "      <th></th>\n",
       "      <th></th>\n",
       "      <th colspan=\"4\" halign=\"left\">Price</th>\n",
       "      <th colspan=\"4\" halign=\"left\">Quantity</th>\n",
       "    </tr>\n",
       "    <tr>\n",
       "      <th></th>\n",
       "      <th>Product</th>\n",
       "      <th>CPU</th>\n",
       "      <th>Maintenance</th>\n",
       "      <th>Monitor</th>\n",
       "      <th>Software</th>\n",
       "      <th>CPU</th>\n",
       "      <th>Maintenance</th>\n",
       "      <th>Monitor</th>\n",
       "      <th>Software</th>\n",
       "    </tr>\n",
       "    <tr>\n",
       "      <th>Manager</th>\n",
       "      <th>Rep</th>\n",
       "      <th></th>\n",
       "      <th></th>\n",
       "      <th></th>\n",
       "      <th></th>\n",
       "      <th></th>\n",
       "      <th></th>\n",
       "      <th></th>\n",
       "      <th></th>\n",
       "    </tr>\n",
       "  </thead>\n",
       "  <tbody>\n",
       "    <tr>\n",
       "      <th rowspan=\"3\" valign=\"top\">Debra Henley</th>\n",
       "      <th>Craig Booker</th>\n",
       "      <td>65000</td>\n",
       "      <td>5000</td>\n",
       "      <td>0</td>\n",
       "      <td>10000</td>\n",
       "      <td>2</td>\n",
       "      <td>2</td>\n",
       "      <td>0</td>\n",
       "      <td>1</td>\n",
       "    </tr>\n",
       "    <tr>\n",
       "      <th>Daniel Hilton</th>\n",
       "      <td>105000</td>\n",
       "      <td>0</td>\n",
       "      <td>0</td>\n",
       "      <td>10000</td>\n",
       "      <td>4</td>\n",
       "      <td>0</td>\n",
       "      <td>0</td>\n",
       "      <td>1</td>\n",
       "    </tr>\n",
       "    <tr>\n",
       "      <th>John Smith</th>\n",
       "      <td>35000</td>\n",
       "      <td>5000</td>\n",
       "      <td>0</td>\n",
       "      <td>0</td>\n",
       "      <td>1</td>\n",
       "      <td>2</td>\n",
       "      <td>0</td>\n",
       "      <td>0</td>\n",
       "    </tr>\n",
       "    <tr>\n",
       "      <th rowspan=\"2\" valign=\"top\">Fred Anderson</th>\n",
       "      <th>Cedric Moss</th>\n",
       "      <td>95000</td>\n",
       "      <td>5000</td>\n",
       "      <td>0</td>\n",
       "      <td>10000</td>\n",
       "      <td>3</td>\n",
       "      <td>1</td>\n",
       "      <td>0</td>\n",
       "      <td>1</td>\n",
       "    </tr>\n",
       "    <tr>\n",
       "      <th>Wendy Yule</th>\n",
       "      <td>165000</td>\n",
       "      <td>7000</td>\n",
       "      <td>5000</td>\n",
       "      <td>0</td>\n",
       "      <td>7</td>\n",
       "      <td>3</td>\n",
       "      <td>2</td>\n",
       "      <td>0</td>\n",
       "    </tr>\n",
       "  </tbody>\n",
       "</table>\n",
       "</div>"
      ],
      "text/plain": [
       "                                sum                                        \\\n",
       "                              Price                              Quantity   \n",
       "Product                         CPU Maintenance Monitor Software      CPU   \n",
       "Manager       Rep                                                           \n",
       "Debra Henley  Craig Booker    65000        5000       0    10000        2   \n",
       "              Daniel Hilton  105000           0       0    10000        4   \n",
       "              John Smith      35000        5000       0        0        1   \n",
       "Fred Anderson Cedric Moss     95000        5000       0    10000        3   \n",
       "              Wendy Yule     165000        7000    5000        0        7   \n",
       "\n",
       "                                                          \n",
       "                                                          \n",
       "Product                     Maintenance Monitor Software  \n",
       "Manager       Rep                                         \n",
       "Debra Henley  Craig Booker            2       0        1  \n",
       "              Daniel Hilton           0       0        1  \n",
       "              John Smith              2       0        0  \n",
       "Fred Anderson Cedric Moss             1       0        1  \n",
       "              Wendy Yule              3       2        0  "
      ]
     },
     "execution_count": 38,
     "metadata": {},
     "output_type": "execute_result"
    }
   ],
   "source": [
    "pd.pivot_table(df,index=[\"Manager\",\"Rep\"],values=[\"Price\",\"Quantity\"],\n",
    "               columns=[\"Product\"],aggfunc=[np.sum],fill_value=0)"
   ]
  },
  {
   "cell_type": "markdown",
   "metadata": {
    "id": "LJyuKjkdItVD"
   },
   "source": [
    "**Utility items**"
   ]
  },
  {
   "cell_type": "code",
   "execution_count": 39,
   "metadata": {
    "colab": {
     "base_uri": "https://localhost:8080/",
     "height": 397
    },
    "id": "eKNepySCIWBA",
    "outputId": "56de80c8-381a-4279-b8ca-0eb63288ac32"
   },
   "outputs": [
    {
     "data": {
      "text/html": [
       "<style  type=\"text/css\" >\n",
       "    #T_0f7a3c4a_9cba_11ec_8d48_9cb6d0d50ac2row0_col0 {\n",
       "            background-color:  black;\n",
       "            color:  lawngreen;\n",
       "            border-color:  white;\n",
       "        }    #T_0f7a3c4a_9cba_11ec_8d48_9cb6d0d50ac2row0_col1 {\n",
       "            background-color:  black;\n",
       "            color:  lawngreen;\n",
       "            border-color:  white;\n",
       "        }    #T_0f7a3c4a_9cba_11ec_8d48_9cb6d0d50ac2row0_col2 {\n",
       "            background-color:  black;\n",
       "            color:  lawngreen;\n",
       "            border-color:  white;\n",
       "        }    #T_0f7a3c4a_9cba_11ec_8d48_9cb6d0d50ac2row0_col3 {\n",
       "            background-color:  black;\n",
       "            color:  lawngreen;\n",
       "            border-color:  white;\n",
       "        }    #T_0f7a3c4a_9cba_11ec_8d48_9cb6d0d50ac2row0_col4 {\n",
       "            background-color:  black;\n",
       "            color:  lawngreen;\n",
       "            border-color:  white;\n",
       "        }    #T_0f7a3c4a_9cba_11ec_8d48_9cb6d0d50ac2row0_col5 {\n",
       "            background-color:  black;\n",
       "            color:  lawngreen;\n",
       "            border-color:  white;\n",
       "        }    #T_0f7a3c4a_9cba_11ec_8d48_9cb6d0d50ac2row0_col6 {\n",
       "            background-color:  black;\n",
       "            color:  lawngreen;\n",
       "            border-color:  white;\n",
       "        }    #T_0f7a3c4a_9cba_11ec_8d48_9cb6d0d50ac2row0_col7 {\n",
       "            background-color:  black;\n",
       "            color:  lawngreen;\n",
       "            border-color:  white;\n",
       "        }    #T_0f7a3c4a_9cba_11ec_8d48_9cb6d0d50ac2row1_col0 {\n",
       "            background-color:  black;\n",
       "            color:  lawngreen;\n",
       "            border-color:  white;\n",
       "        }    #T_0f7a3c4a_9cba_11ec_8d48_9cb6d0d50ac2row1_col1 {\n",
       "            background-color:  black;\n",
       "            color:  lawngreen;\n",
       "            border-color:  white;\n",
       "        }    #T_0f7a3c4a_9cba_11ec_8d48_9cb6d0d50ac2row1_col2 {\n",
       "            background-color:  black;\n",
       "            color:  lawngreen;\n",
       "            border-color:  white;\n",
       "        }    #T_0f7a3c4a_9cba_11ec_8d48_9cb6d0d50ac2row1_col3 {\n",
       "            background-color:  black;\n",
       "            color:  lawngreen;\n",
       "            border-color:  white;\n",
       "        }    #T_0f7a3c4a_9cba_11ec_8d48_9cb6d0d50ac2row1_col4 {\n",
       "            background-color:  black;\n",
       "            color:  lawngreen;\n",
       "            border-color:  white;\n",
       "        }    #T_0f7a3c4a_9cba_11ec_8d48_9cb6d0d50ac2row1_col5 {\n",
       "            background-color:  black;\n",
       "            color:  lawngreen;\n",
       "            border-color:  white;\n",
       "        }    #T_0f7a3c4a_9cba_11ec_8d48_9cb6d0d50ac2row1_col6 {\n",
       "            background-color:  black;\n",
       "            color:  lawngreen;\n",
       "            border-color:  white;\n",
       "        }    #T_0f7a3c4a_9cba_11ec_8d48_9cb6d0d50ac2row1_col7 {\n",
       "            background-color:  black;\n",
       "            color:  lawngreen;\n",
       "            border-color:  white;\n",
       "        }    #T_0f7a3c4a_9cba_11ec_8d48_9cb6d0d50ac2row2_col0 {\n",
       "            background-color:  black;\n",
       "            color:  lawngreen;\n",
       "            border-color:  white;\n",
       "        }    #T_0f7a3c4a_9cba_11ec_8d48_9cb6d0d50ac2row2_col1 {\n",
       "            background-color:  black;\n",
       "            color:  lawngreen;\n",
       "            border-color:  white;\n",
       "        }    #T_0f7a3c4a_9cba_11ec_8d48_9cb6d0d50ac2row2_col2 {\n",
       "            background-color:  black;\n",
       "            color:  lawngreen;\n",
       "            border-color:  white;\n",
       "        }    #T_0f7a3c4a_9cba_11ec_8d48_9cb6d0d50ac2row2_col3 {\n",
       "            background-color:  black;\n",
       "            color:  lawngreen;\n",
       "            border-color:  white;\n",
       "        }    #T_0f7a3c4a_9cba_11ec_8d48_9cb6d0d50ac2row2_col4 {\n",
       "            background-color:  black;\n",
       "            color:  lawngreen;\n",
       "            border-color:  white;\n",
       "        }    #T_0f7a3c4a_9cba_11ec_8d48_9cb6d0d50ac2row2_col5 {\n",
       "            background-color:  black;\n",
       "            color:  lawngreen;\n",
       "            border-color:  white;\n",
       "        }    #T_0f7a3c4a_9cba_11ec_8d48_9cb6d0d50ac2row2_col6 {\n",
       "            background-color:  black;\n",
       "            color:  lawngreen;\n",
       "            border-color:  white;\n",
       "        }    #T_0f7a3c4a_9cba_11ec_8d48_9cb6d0d50ac2row2_col7 {\n",
       "            background-color:  black;\n",
       "            color:  lawngreen;\n",
       "            border-color:  white;\n",
       "        }    #T_0f7a3c4a_9cba_11ec_8d48_9cb6d0d50ac2row3_col0 {\n",
       "            background-color:  black;\n",
       "            color:  lawngreen;\n",
       "            border-color:  white;\n",
       "        }    #T_0f7a3c4a_9cba_11ec_8d48_9cb6d0d50ac2row3_col1 {\n",
       "            background-color:  black;\n",
       "            color:  lawngreen;\n",
       "            border-color:  white;\n",
       "        }    #T_0f7a3c4a_9cba_11ec_8d48_9cb6d0d50ac2row3_col2 {\n",
       "            background-color:  black;\n",
       "            color:  lawngreen;\n",
       "            border-color:  white;\n",
       "        }    #T_0f7a3c4a_9cba_11ec_8d48_9cb6d0d50ac2row3_col3 {\n",
       "            background-color:  black;\n",
       "            color:  lawngreen;\n",
       "            border-color:  white;\n",
       "        }    #T_0f7a3c4a_9cba_11ec_8d48_9cb6d0d50ac2row3_col4 {\n",
       "            background-color:  black;\n",
       "            color:  lawngreen;\n",
       "            border-color:  white;\n",
       "        }    #T_0f7a3c4a_9cba_11ec_8d48_9cb6d0d50ac2row3_col5 {\n",
       "            background-color:  black;\n",
       "            color:  lawngreen;\n",
       "            border-color:  white;\n",
       "        }    #T_0f7a3c4a_9cba_11ec_8d48_9cb6d0d50ac2row3_col6 {\n",
       "            background-color:  black;\n",
       "            color:  lawngreen;\n",
       "            border-color:  white;\n",
       "        }    #T_0f7a3c4a_9cba_11ec_8d48_9cb6d0d50ac2row3_col7 {\n",
       "            background-color:  black;\n",
       "            color:  lawngreen;\n",
       "            border-color:  white;\n",
       "        }    #T_0f7a3c4a_9cba_11ec_8d48_9cb6d0d50ac2row4_col0 {\n",
       "            background-color:  black;\n",
       "            color:  lawngreen;\n",
       "            border-color:  white;\n",
       "        }    #T_0f7a3c4a_9cba_11ec_8d48_9cb6d0d50ac2row4_col1 {\n",
       "            background-color:  black;\n",
       "            color:  lawngreen;\n",
       "            border-color:  white;\n",
       "        }    #T_0f7a3c4a_9cba_11ec_8d48_9cb6d0d50ac2row4_col2 {\n",
       "            background-color:  black;\n",
       "            color:  lawngreen;\n",
       "            border-color:  white;\n",
       "        }    #T_0f7a3c4a_9cba_11ec_8d48_9cb6d0d50ac2row4_col3 {\n",
       "            background-color:  black;\n",
       "            color:  lawngreen;\n",
       "            border-color:  white;\n",
       "        }    #T_0f7a3c4a_9cba_11ec_8d48_9cb6d0d50ac2row4_col4 {\n",
       "            background-color:  black;\n",
       "            color:  lawngreen;\n",
       "            border-color:  white;\n",
       "        }    #T_0f7a3c4a_9cba_11ec_8d48_9cb6d0d50ac2row4_col5 {\n",
       "            background-color:  black;\n",
       "            color:  lawngreen;\n",
       "            border-color:  white;\n",
       "        }    #T_0f7a3c4a_9cba_11ec_8d48_9cb6d0d50ac2row4_col6 {\n",
       "            background-color:  black;\n",
       "            color:  lawngreen;\n",
       "            border-color:  white;\n",
       "        }    #T_0f7a3c4a_9cba_11ec_8d48_9cb6d0d50ac2row4_col7 {\n",
       "            background-color:  black;\n",
       "            color:  lawngreen;\n",
       "            border-color:  white;\n",
       "        }    #T_0f7a3c4a_9cba_11ec_8d48_9cb6d0d50ac2row5_col0 {\n",
       "            background-color:  black;\n",
       "            color:  lawngreen;\n",
       "            border-color:  white;\n",
       "        }    #T_0f7a3c4a_9cba_11ec_8d48_9cb6d0d50ac2row5_col1 {\n",
       "            background-color:  black;\n",
       "            color:  lawngreen;\n",
       "            border-color:  white;\n",
       "        }    #T_0f7a3c4a_9cba_11ec_8d48_9cb6d0d50ac2row5_col2 {\n",
       "            background-color:  black;\n",
       "            color:  lawngreen;\n",
       "            border-color:  white;\n",
       "        }    #T_0f7a3c4a_9cba_11ec_8d48_9cb6d0d50ac2row5_col3 {\n",
       "            background-color:  black;\n",
       "            color:  lawngreen;\n",
       "            border-color:  white;\n",
       "        }    #T_0f7a3c4a_9cba_11ec_8d48_9cb6d0d50ac2row5_col4 {\n",
       "            background-color:  black;\n",
       "            color:  lawngreen;\n",
       "            border-color:  white;\n",
       "        }    #T_0f7a3c4a_9cba_11ec_8d48_9cb6d0d50ac2row5_col5 {\n",
       "            background-color:  black;\n",
       "            color:  lawngreen;\n",
       "            border-color:  white;\n",
       "        }    #T_0f7a3c4a_9cba_11ec_8d48_9cb6d0d50ac2row5_col6 {\n",
       "            background-color:  black;\n",
       "            color:  lawngreen;\n",
       "            border-color:  white;\n",
       "        }    #T_0f7a3c4a_9cba_11ec_8d48_9cb6d0d50ac2row5_col7 {\n",
       "            background-color:  black;\n",
       "            color:  lawngreen;\n",
       "            border-color:  white;\n",
       "        }    #T_0f7a3c4a_9cba_11ec_8d48_9cb6d0d50ac2row6_col0 {\n",
       "            background-color:  black;\n",
       "            color:  lawngreen;\n",
       "            border-color:  white;\n",
       "        }    #T_0f7a3c4a_9cba_11ec_8d48_9cb6d0d50ac2row6_col1 {\n",
       "            background-color:  black;\n",
       "            color:  lawngreen;\n",
       "            border-color:  white;\n",
       "        }    #T_0f7a3c4a_9cba_11ec_8d48_9cb6d0d50ac2row6_col2 {\n",
       "            background-color:  black;\n",
       "            color:  lawngreen;\n",
       "            border-color:  white;\n",
       "        }    #T_0f7a3c4a_9cba_11ec_8d48_9cb6d0d50ac2row6_col3 {\n",
       "            background-color:  black;\n",
       "            color:  lawngreen;\n",
       "            border-color:  white;\n",
       "        }    #T_0f7a3c4a_9cba_11ec_8d48_9cb6d0d50ac2row6_col4 {\n",
       "            background-color:  black;\n",
       "            color:  lawngreen;\n",
       "            border-color:  white;\n",
       "        }    #T_0f7a3c4a_9cba_11ec_8d48_9cb6d0d50ac2row6_col5 {\n",
       "            background-color:  black;\n",
       "            color:  lawngreen;\n",
       "            border-color:  white;\n",
       "        }    #T_0f7a3c4a_9cba_11ec_8d48_9cb6d0d50ac2row6_col6 {\n",
       "            background-color:  black;\n",
       "            color:  lawngreen;\n",
       "            border-color:  white;\n",
       "        }    #T_0f7a3c4a_9cba_11ec_8d48_9cb6d0d50ac2row6_col7 {\n",
       "            background-color:  black;\n",
       "            color:  lawngreen;\n",
       "            border-color:  white;\n",
       "        }    #T_0f7a3c4a_9cba_11ec_8d48_9cb6d0d50ac2row7_col0 {\n",
       "            background-color:  black;\n",
       "            color:  lawngreen;\n",
       "            border-color:  white;\n",
       "        }    #T_0f7a3c4a_9cba_11ec_8d48_9cb6d0d50ac2row7_col1 {\n",
       "            background-color:  black;\n",
       "            color:  lawngreen;\n",
       "            border-color:  white;\n",
       "        }    #T_0f7a3c4a_9cba_11ec_8d48_9cb6d0d50ac2row7_col2 {\n",
       "            background-color:  black;\n",
       "            color:  lawngreen;\n",
       "            border-color:  white;\n",
       "        }    #T_0f7a3c4a_9cba_11ec_8d48_9cb6d0d50ac2row7_col3 {\n",
       "            background-color:  black;\n",
       "            color:  lawngreen;\n",
       "            border-color:  white;\n",
       "        }    #T_0f7a3c4a_9cba_11ec_8d48_9cb6d0d50ac2row7_col4 {\n",
       "            background-color:  black;\n",
       "            color:  lawngreen;\n",
       "            border-color:  white;\n",
       "        }    #T_0f7a3c4a_9cba_11ec_8d48_9cb6d0d50ac2row7_col5 {\n",
       "            background-color:  black;\n",
       "            color:  lawngreen;\n",
       "            border-color:  white;\n",
       "        }    #T_0f7a3c4a_9cba_11ec_8d48_9cb6d0d50ac2row7_col6 {\n",
       "            background-color:  black;\n",
       "            color:  lawngreen;\n",
       "            border-color:  white;\n",
       "        }    #T_0f7a3c4a_9cba_11ec_8d48_9cb6d0d50ac2row7_col7 {\n",
       "            background-color:  black;\n",
       "            color:  lawngreen;\n",
       "            border-color:  white;\n",
       "        }    #T_0f7a3c4a_9cba_11ec_8d48_9cb6d0d50ac2row8_col0 {\n",
       "            background-color:  black;\n",
       "            color:  lawngreen;\n",
       "            border-color:  white;\n",
       "        }    #T_0f7a3c4a_9cba_11ec_8d48_9cb6d0d50ac2row8_col1 {\n",
       "            background-color:  black;\n",
       "            color:  lawngreen;\n",
       "            border-color:  white;\n",
       "        }    #T_0f7a3c4a_9cba_11ec_8d48_9cb6d0d50ac2row8_col2 {\n",
       "            background-color:  black;\n",
       "            color:  lawngreen;\n",
       "            border-color:  white;\n",
       "        }    #T_0f7a3c4a_9cba_11ec_8d48_9cb6d0d50ac2row8_col3 {\n",
       "            background-color:  black;\n",
       "            color:  lawngreen;\n",
       "            border-color:  white;\n",
       "        }    #T_0f7a3c4a_9cba_11ec_8d48_9cb6d0d50ac2row8_col4 {\n",
       "            background-color:  black;\n",
       "            color:  lawngreen;\n",
       "            border-color:  white;\n",
       "        }    #T_0f7a3c4a_9cba_11ec_8d48_9cb6d0d50ac2row8_col5 {\n",
       "            background-color:  black;\n",
       "            color:  lawngreen;\n",
       "            border-color:  white;\n",
       "        }    #T_0f7a3c4a_9cba_11ec_8d48_9cb6d0d50ac2row8_col6 {\n",
       "            background-color:  black;\n",
       "            color:  lawngreen;\n",
       "            border-color:  white;\n",
       "        }    #T_0f7a3c4a_9cba_11ec_8d48_9cb6d0d50ac2row8_col7 {\n",
       "            background-color:  black;\n",
       "            color:  lawngreen;\n",
       "            border-color:  white;\n",
       "        }    #T_0f7a3c4a_9cba_11ec_8d48_9cb6d0d50ac2row9_col0 {\n",
       "            background-color:  black;\n",
       "            color:  lawngreen;\n",
       "            border-color:  white;\n",
       "        }    #T_0f7a3c4a_9cba_11ec_8d48_9cb6d0d50ac2row9_col1 {\n",
       "            background-color:  black;\n",
       "            color:  lawngreen;\n",
       "            border-color:  white;\n",
       "        }    #T_0f7a3c4a_9cba_11ec_8d48_9cb6d0d50ac2row9_col2 {\n",
       "            background-color:  black;\n",
       "            color:  lawngreen;\n",
       "            border-color:  white;\n",
       "        }    #T_0f7a3c4a_9cba_11ec_8d48_9cb6d0d50ac2row9_col3 {\n",
       "            background-color:  black;\n",
       "            color:  lawngreen;\n",
       "            border-color:  white;\n",
       "        }    #T_0f7a3c4a_9cba_11ec_8d48_9cb6d0d50ac2row9_col4 {\n",
       "            background-color:  black;\n",
       "            color:  lawngreen;\n",
       "            border-color:  white;\n",
       "        }    #T_0f7a3c4a_9cba_11ec_8d48_9cb6d0d50ac2row9_col5 {\n",
       "            background-color:  black;\n",
       "            color:  lawngreen;\n",
       "            border-color:  white;\n",
       "        }    #T_0f7a3c4a_9cba_11ec_8d48_9cb6d0d50ac2row9_col6 {\n",
       "            background-color:  black;\n",
       "            color:  lawngreen;\n",
       "            border-color:  white;\n",
       "        }    #T_0f7a3c4a_9cba_11ec_8d48_9cb6d0d50ac2row9_col7 {\n",
       "            background-color:  black;\n",
       "            color:  lawngreen;\n",
       "            border-color:  white;\n",
       "        }    #T_0f7a3c4a_9cba_11ec_8d48_9cb6d0d50ac2row10_col0 {\n",
       "            background-color:  black;\n",
       "            color:  lawngreen;\n",
       "            border-color:  white;\n",
       "        }    #T_0f7a3c4a_9cba_11ec_8d48_9cb6d0d50ac2row10_col1 {\n",
       "            background-color:  black;\n",
       "            color:  lawngreen;\n",
       "            border-color:  white;\n",
       "        }    #T_0f7a3c4a_9cba_11ec_8d48_9cb6d0d50ac2row10_col2 {\n",
       "            background-color:  black;\n",
       "            color:  lawngreen;\n",
       "            border-color:  white;\n",
       "        }    #T_0f7a3c4a_9cba_11ec_8d48_9cb6d0d50ac2row10_col3 {\n",
       "            background-color:  black;\n",
       "            color:  lawngreen;\n",
       "            border-color:  white;\n",
       "        }    #T_0f7a3c4a_9cba_11ec_8d48_9cb6d0d50ac2row10_col4 {\n",
       "            background-color:  black;\n",
       "            color:  lawngreen;\n",
       "            border-color:  white;\n",
       "        }    #T_0f7a3c4a_9cba_11ec_8d48_9cb6d0d50ac2row10_col5 {\n",
       "            background-color:  black;\n",
       "            color:  lawngreen;\n",
       "            border-color:  white;\n",
       "        }    #T_0f7a3c4a_9cba_11ec_8d48_9cb6d0d50ac2row10_col6 {\n",
       "            background-color:  black;\n",
       "            color:  lawngreen;\n",
       "            border-color:  white;\n",
       "        }    #T_0f7a3c4a_9cba_11ec_8d48_9cb6d0d50ac2row10_col7 {\n",
       "            background-color:  black;\n",
       "            color:  lawngreen;\n",
       "            border-color:  white;\n",
       "        }    #T_0f7a3c4a_9cba_11ec_8d48_9cb6d0d50ac2row11_col0 {\n",
       "            background-color:  black;\n",
       "            color:  lawngreen;\n",
       "            border-color:  white;\n",
       "        }    #T_0f7a3c4a_9cba_11ec_8d48_9cb6d0d50ac2row11_col1 {\n",
       "            background-color:  black;\n",
       "            color:  lawngreen;\n",
       "            border-color:  white;\n",
       "        }    #T_0f7a3c4a_9cba_11ec_8d48_9cb6d0d50ac2row11_col2 {\n",
       "            background-color:  black;\n",
       "            color:  lawngreen;\n",
       "            border-color:  white;\n",
       "        }    #T_0f7a3c4a_9cba_11ec_8d48_9cb6d0d50ac2row11_col3 {\n",
       "            background-color:  black;\n",
       "            color:  lawngreen;\n",
       "            border-color:  white;\n",
       "        }    #T_0f7a3c4a_9cba_11ec_8d48_9cb6d0d50ac2row11_col4 {\n",
       "            background-color:  black;\n",
       "            color:  lawngreen;\n",
       "            border-color:  white;\n",
       "        }    #T_0f7a3c4a_9cba_11ec_8d48_9cb6d0d50ac2row11_col5 {\n",
       "            background-color:  black;\n",
       "            color:  lawngreen;\n",
       "            border-color:  white;\n",
       "        }    #T_0f7a3c4a_9cba_11ec_8d48_9cb6d0d50ac2row11_col6 {\n",
       "            background-color:  black;\n",
       "            color:  lawngreen;\n",
       "            border-color:  white;\n",
       "        }    #T_0f7a3c4a_9cba_11ec_8d48_9cb6d0d50ac2row11_col7 {\n",
       "            background-color:  black;\n",
       "            color:  lawngreen;\n",
       "            border-color:  white;\n",
       "        }    #T_0f7a3c4a_9cba_11ec_8d48_9cb6d0d50ac2row12_col0 {\n",
       "            background-color:  black;\n",
       "            color:  lawngreen;\n",
       "            border-color:  white;\n",
       "        }    #T_0f7a3c4a_9cba_11ec_8d48_9cb6d0d50ac2row12_col1 {\n",
       "            background-color:  black;\n",
       "            color:  lawngreen;\n",
       "            border-color:  white;\n",
       "        }    #T_0f7a3c4a_9cba_11ec_8d48_9cb6d0d50ac2row12_col2 {\n",
       "            background-color:  black;\n",
       "            color:  lawngreen;\n",
       "            border-color:  white;\n",
       "        }    #T_0f7a3c4a_9cba_11ec_8d48_9cb6d0d50ac2row12_col3 {\n",
       "            background-color:  black;\n",
       "            color:  lawngreen;\n",
       "            border-color:  white;\n",
       "        }    #T_0f7a3c4a_9cba_11ec_8d48_9cb6d0d50ac2row12_col4 {\n",
       "            background-color:  black;\n",
       "            color:  lawngreen;\n",
       "            border-color:  white;\n",
       "        }    #T_0f7a3c4a_9cba_11ec_8d48_9cb6d0d50ac2row12_col5 {\n",
       "            background-color:  black;\n",
       "            color:  lawngreen;\n",
       "            border-color:  white;\n",
       "        }    #T_0f7a3c4a_9cba_11ec_8d48_9cb6d0d50ac2row12_col6 {\n",
       "            background-color:  black;\n",
       "            color:  lawngreen;\n",
       "            border-color:  white;\n",
       "        }    #T_0f7a3c4a_9cba_11ec_8d48_9cb6d0d50ac2row12_col7 {\n",
       "            background-color:  black;\n",
       "            color:  lawngreen;\n",
       "            border-color:  white;\n",
       "        }    #T_0f7a3c4a_9cba_11ec_8d48_9cb6d0d50ac2row13_col0 {\n",
       "            background-color:  black;\n",
       "            color:  lawngreen;\n",
       "            border-color:  white;\n",
       "        }    #T_0f7a3c4a_9cba_11ec_8d48_9cb6d0d50ac2row13_col1 {\n",
       "            background-color:  black;\n",
       "            color:  lawngreen;\n",
       "            border-color:  white;\n",
       "        }    #T_0f7a3c4a_9cba_11ec_8d48_9cb6d0d50ac2row13_col2 {\n",
       "            background-color:  black;\n",
       "            color:  lawngreen;\n",
       "            border-color:  white;\n",
       "        }    #T_0f7a3c4a_9cba_11ec_8d48_9cb6d0d50ac2row13_col3 {\n",
       "            background-color:  black;\n",
       "            color:  lawngreen;\n",
       "            border-color:  white;\n",
       "        }    #T_0f7a3c4a_9cba_11ec_8d48_9cb6d0d50ac2row13_col4 {\n",
       "            background-color:  black;\n",
       "            color:  lawngreen;\n",
       "            border-color:  white;\n",
       "        }    #T_0f7a3c4a_9cba_11ec_8d48_9cb6d0d50ac2row13_col5 {\n",
       "            background-color:  black;\n",
       "            color:  lawngreen;\n",
       "            border-color:  white;\n",
       "        }    #T_0f7a3c4a_9cba_11ec_8d48_9cb6d0d50ac2row13_col6 {\n",
       "            background-color:  black;\n",
       "            color:  lawngreen;\n",
       "            border-color:  white;\n",
       "        }    #T_0f7a3c4a_9cba_11ec_8d48_9cb6d0d50ac2row13_col7 {\n",
       "            background-color:  black;\n",
       "            color:  lawngreen;\n",
       "            border-color:  white;\n",
       "        }    #T_0f7a3c4a_9cba_11ec_8d48_9cb6d0d50ac2row14_col0 {\n",
       "            background-color:  black;\n",
       "            color:  lawngreen;\n",
       "            border-color:  white;\n",
       "        }    #T_0f7a3c4a_9cba_11ec_8d48_9cb6d0d50ac2row14_col1 {\n",
       "            background-color:  black;\n",
       "            color:  lawngreen;\n",
       "            border-color:  white;\n",
       "        }    #T_0f7a3c4a_9cba_11ec_8d48_9cb6d0d50ac2row14_col2 {\n",
       "            background-color:  black;\n",
       "            color:  lawngreen;\n",
       "            border-color:  white;\n",
       "        }    #T_0f7a3c4a_9cba_11ec_8d48_9cb6d0d50ac2row14_col3 {\n",
       "            background-color:  black;\n",
       "            color:  lawngreen;\n",
       "            border-color:  white;\n",
       "        }    #T_0f7a3c4a_9cba_11ec_8d48_9cb6d0d50ac2row14_col4 {\n",
       "            background-color:  black;\n",
       "            color:  lawngreen;\n",
       "            border-color:  white;\n",
       "        }    #T_0f7a3c4a_9cba_11ec_8d48_9cb6d0d50ac2row14_col5 {\n",
       "            background-color:  black;\n",
       "            color:  lawngreen;\n",
       "            border-color:  white;\n",
       "        }    #T_0f7a3c4a_9cba_11ec_8d48_9cb6d0d50ac2row14_col6 {\n",
       "            background-color:  black;\n",
       "            color:  lawngreen;\n",
       "            border-color:  white;\n",
       "        }    #T_0f7a3c4a_9cba_11ec_8d48_9cb6d0d50ac2row14_col7 {\n",
       "            background-color:  black;\n",
       "            color:  lawngreen;\n",
       "            border-color:  white;\n",
       "        }    #T_0f7a3c4a_9cba_11ec_8d48_9cb6d0d50ac2row15_col0 {\n",
       "            background-color:  black;\n",
       "            color:  lawngreen;\n",
       "            border-color:  white;\n",
       "        }    #T_0f7a3c4a_9cba_11ec_8d48_9cb6d0d50ac2row15_col1 {\n",
       "            background-color:  black;\n",
       "            color:  lawngreen;\n",
       "            border-color:  white;\n",
       "        }    #T_0f7a3c4a_9cba_11ec_8d48_9cb6d0d50ac2row15_col2 {\n",
       "            background-color:  black;\n",
       "            color:  lawngreen;\n",
       "            border-color:  white;\n",
       "        }    #T_0f7a3c4a_9cba_11ec_8d48_9cb6d0d50ac2row15_col3 {\n",
       "            background-color:  black;\n",
       "            color:  lawngreen;\n",
       "            border-color:  white;\n",
       "        }    #T_0f7a3c4a_9cba_11ec_8d48_9cb6d0d50ac2row15_col4 {\n",
       "            background-color:  black;\n",
       "            color:  lawngreen;\n",
       "            border-color:  white;\n",
       "        }    #T_0f7a3c4a_9cba_11ec_8d48_9cb6d0d50ac2row15_col5 {\n",
       "            background-color:  black;\n",
       "            color:  lawngreen;\n",
       "            border-color:  white;\n",
       "        }    #T_0f7a3c4a_9cba_11ec_8d48_9cb6d0d50ac2row15_col6 {\n",
       "            background-color:  black;\n",
       "            color:  lawngreen;\n",
       "            border-color:  white;\n",
       "        }    #T_0f7a3c4a_9cba_11ec_8d48_9cb6d0d50ac2row15_col7 {\n",
       "            background-color:  black;\n",
       "            color:  lawngreen;\n",
       "            border-color:  white;\n",
       "        }    #T_0f7a3c4a_9cba_11ec_8d48_9cb6d0d50ac2row16_col0 {\n",
       "            background-color:  black;\n",
       "            color:  lawngreen;\n",
       "            border-color:  white;\n",
       "        }    #T_0f7a3c4a_9cba_11ec_8d48_9cb6d0d50ac2row16_col1 {\n",
       "            background-color:  black;\n",
       "            color:  lawngreen;\n",
       "            border-color:  white;\n",
       "        }    #T_0f7a3c4a_9cba_11ec_8d48_9cb6d0d50ac2row16_col2 {\n",
       "            background-color:  black;\n",
       "            color:  lawngreen;\n",
       "            border-color:  white;\n",
       "        }    #T_0f7a3c4a_9cba_11ec_8d48_9cb6d0d50ac2row16_col3 {\n",
       "            background-color:  black;\n",
       "            color:  lawngreen;\n",
       "            border-color:  white;\n",
       "        }    #T_0f7a3c4a_9cba_11ec_8d48_9cb6d0d50ac2row16_col4 {\n",
       "            background-color:  black;\n",
       "            color:  lawngreen;\n",
       "            border-color:  white;\n",
       "        }    #T_0f7a3c4a_9cba_11ec_8d48_9cb6d0d50ac2row16_col5 {\n",
       "            background-color:  black;\n",
       "            color:  lawngreen;\n",
       "            border-color:  white;\n",
       "        }    #T_0f7a3c4a_9cba_11ec_8d48_9cb6d0d50ac2row16_col6 {\n",
       "            background-color:  black;\n",
       "            color:  lawngreen;\n",
       "            border-color:  white;\n",
       "        }    #T_0f7a3c4a_9cba_11ec_8d48_9cb6d0d50ac2row16_col7 {\n",
       "            background-color:  black;\n",
       "            color:  lawngreen;\n",
       "            border-color:  white;\n",
       "        }</style><table id=\"T_0f7a3c4a_9cba_11ec_8d48_9cb6d0d50ac2\" ><thead>    <tr>        <th class=\"blank level0\" ></th>        <th class=\"col_heading level0 col0\" >Account</th>        <th class=\"col_heading level0 col1\" >Name</th>        <th class=\"col_heading level0 col2\" >Rep</th>        <th class=\"col_heading level0 col3\" >Manager</th>        <th class=\"col_heading level0 col4\" >Product</th>        <th class=\"col_heading level0 col5\" >Quantity</th>        <th class=\"col_heading level0 col6\" >Price</th>        <th class=\"col_heading level0 col7\" >Status</th>    </tr></thead><tbody>\n",
       "                <tr>\n",
       "                        <th id=\"T_0f7a3c4a_9cba_11ec_8d48_9cb6d0d50ac2level0_row0\" class=\"row_heading level0 row0\" >0</th>\n",
       "                        <td id=\"T_0f7a3c4a_9cba_11ec_8d48_9cb6d0d50ac2row0_col0\" class=\"data row0 col0\" >714466</td>\n",
       "                        <td id=\"T_0f7a3c4a_9cba_11ec_8d48_9cb6d0d50ac2row0_col1\" class=\"data row0 col1\" >Trantow-Barrows</td>\n",
       "                        <td id=\"T_0f7a3c4a_9cba_11ec_8d48_9cb6d0d50ac2row0_col2\" class=\"data row0 col2\" >Craig Booker</td>\n",
       "                        <td id=\"T_0f7a3c4a_9cba_11ec_8d48_9cb6d0d50ac2row0_col3\" class=\"data row0 col3\" >Debra Henley</td>\n",
       "                        <td id=\"T_0f7a3c4a_9cba_11ec_8d48_9cb6d0d50ac2row0_col4\" class=\"data row0 col4\" >CPU</td>\n",
       "                        <td id=\"T_0f7a3c4a_9cba_11ec_8d48_9cb6d0d50ac2row0_col5\" class=\"data row0 col5\" >1</td>\n",
       "                        <td id=\"T_0f7a3c4a_9cba_11ec_8d48_9cb6d0d50ac2row0_col6\" class=\"data row0 col6\" >30000</td>\n",
       "                        <td id=\"T_0f7a3c4a_9cba_11ec_8d48_9cb6d0d50ac2row0_col7\" class=\"data row0 col7\" >presented</td>\n",
       "            </tr>\n",
       "            <tr>\n",
       "                        <th id=\"T_0f7a3c4a_9cba_11ec_8d48_9cb6d0d50ac2level0_row1\" class=\"row_heading level0 row1\" >1</th>\n",
       "                        <td id=\"T_0f7a3c4a_9cba_11ec_8d48_9cb6d0d50ac2row1_col0\" class=\"data row1 col0\" >714466</td>\n",
       "                        <td id=\"T_0f7a3c4a_9cba_11ec_8d48_9cb6d0d50ac2row1_col1\" class=\"data row1 col1\" >Trantow-Barrows</td>\n",
       "                        <td id=\"T_0f7a3c4a_9cba_11ec_8d48_9cb6d0d50ac2row1_col2\" class=\"data row1 col2\" >Craig Booker</td>\n",
       "                        <td id=\"T_0f7a3c4a_9cba_11ec_8d48_9cb6d0d50ac2row1_col3\" class=\"data row1 col3\" >Debra Henley</td>\n",
       "                        <td id=\"T_0f7a3c4a_9cba_11ec_8d48_9cb6d0d50ac2row1_col4\" class=\"data row1 col4\" >Software</td>\n",
       "                        <td id=\"T_0f7a3c4a_9cba_11ec_8d48_9cb6d0d50ac2row1_col5\" class=\"data row1 col5\" >1</td>\n",
       "                        <td id=\"T_0f7a3c4a_9cba_11ec_8d48_9cb6d0d50ac2row1_col6\" class=\"data row1 col6\" >10000</td>\n",
       "                        <td id=\"T_0f7a3c4a_9cba_11ec_8d48_9cb6d0d50ac2row1_col7\" class=\"data row1 col7\" >presented</td>\n",
       "            </tr>\n",
       "            <tr>\n",
       "                        <th id=\"T_0f7a3c4a_9cba_11ec_8d48_9cb6d0d50ac2level0_row2\" class=\"row_heading level0 row2\" >2</th>\n",
       "                        <td id=\"T_0f7a3c4a_9cba_11ec_8d48_9cb6d0d50ac2row2_col0\" class=\"data row2 col0\" >714466</td>\n",
       "                        <td id=\"T_0f7a3c4a_9cba_11ec_8d48_9cb6d0d50ac2row2_col1\" class=\"data row2 col1\" >Trantow-Barrows</td>\n",
       "                        <td id=\"T_0f7a3c4a_9cba_11ec_8d48_9cb6d0d50ac2row2_col2\" class=\"data row2 col2\" >Craig Booker</td>\n",
       "                        <td id=\"T_0f7a3c4a_9cba_11ec_8d48_9cb6d0d50ac2row2_col3\" class=\"data row2 col3\" >Debra Henley</td>\n",
       "                        <td id=\"T_0f7a3c4a_9cba_11ec_8d48_9cb6d0d50ac2row2_col4\" class=\"data row2 col4\" >Maintenance</td>\n",
       "                        <td id=\"T_0f7a3c4a_9cba_11ec_8d48_9cb6d0d50ac2row2_col5\" class=\"data row2 col5\" >2</td>\n",
       "                        <td id=\"T_0f7a3c4a_9cba_11ec_8d48_9cb6d0d50ac2row2_col6\" class=\"data row2 col6\" >5000</td>\n",
       "                        <td id=\"T_0f7a3c4a_9cba_11ec_8d48_9cb6d0d50ac2row2_col7\" class=\"data row2 col7\" >pending</td>\n",
       "            </tr>\n",
       "            <tr>\n",
       "                        <th id=\"T_0f7a3c4a_9cba_11ec_8d48_9cb6d0d50ac2level0_row3\" class=\"row_heading level0 row3\" >3</th>\n",
       "                        <td id=\"T_0f7a3c4a_9cba_11ec_8d48_9cb6d0d50ac2row3_col0\" class=\"data row3 col0\" >737550</td>\n",
       "                        <td id=\"T_0f7a3c4a_9cba_11ec_8d48_9cb6d0d50ac2row3_col1\" class=\"data row3 col1\" >Fritsch, Russel and Anderson</td>\n",
       "                        <td id=\"T_0f7a3c4a_9cba_11ec_8d48_9cb6d0d50ac2row3_col2\" class=\"data row3 col2\" >Craig Booker</td>\n",
       "                        <td id=\"T_0f7a3c4a_9cba_11ec_8d48_9cb6d0d50ac2row3_col3\" class=\"data row3 col3\" >Debra Henley</td>\n",
       "                        <td id=\"T_0f7a3c4a_9cba_11ec_8d48_9cb6d0d50ac2row3_col4\" class=\"data row3 col4\" >CPU</td>\n",
       "                        <td id=\"T_0f7a3c4a_9cba_11ec_8d48_9cb6d0d50ac2row3_col5\" class=\"data row3 col5\" >1</td>\n",
       "                        <td id=\"T_0f7a3c4a_9cba_11ec_8d48_9cb6d0d50ac2row3_col6\" class=\"data row3 col6\" >35000</td>\n",
       "                        <td id=\"T_0f7a3c4a_9cba_11ec_8d48_9cb6d0d50ac2row3_col7\" class=\"data row3 col7\" >declined</td>\n",
       "            </tr>\n",
       "            <tr>\n",
       "                        <th id=\"T_0f7a3c4a_9cba_11ec_8d48_9cb6d0d50ac2level0_row4\" class=\"row_heading level0 row4\" >4</th>\n",
       "                        <td id=\"T_0f7a3c4a_9cba_11ec_8d48_9cb6d0d50ac2row4_col0\" class=\"data row4 col0\" >146832</td>\n",
       "                        <td id=\"T_0f7a3c4a_9cba_11ec_8d48_9cb6d0d50ac2row4_col1\" class=\"data row4 col1\" >Kiehn-Spinka</td>\n",
       "                        <td id=\"T_0f7a3c4a_9cba_11ec_8d48_9cb6d0d50ac2row4_col2\" class=\"data row4 col2\" >Daniel Hilton</td>\n",
       "                        <td id=\"T_0f7a3c4a_9cba_11ec_8d48_9cb6d0d50ac2row4_col3\" class=\"data row4 col3\" >Debra Henley</td>\n",
       "                        <td id=\"T_0f7a3c4a_9cba_11ec_8d48_9cb6d0d50ac2row4_col4\" class=\"data row4 col4\" >CPU</td>\n",
       "                        <td id=\"T_0f7a3c4a_9cba_11ec_8d48_9cb6d0d50ac2row4_col5\" class=\"data row4 col5\" >2</td>\n",
       "                        <td id=\"T_0f7a3c4a_9cba_11ec_8d48_9cb6d0d50ac2row4_col6\" class=\"data row4 col6\" >65000</td>\n",
       "                        <td id=\"T_0f7a3c4a_9cba_11ec_8d48_9cb6d0d50ac2row4_col7\" class=\"data row4 col7\" >won</td>\n",
       "            </tr>\n",
       "            <tr>\n",
       "                        <th id=\"T_0f7a3c4a_9cba_11ec_8d48_9cb6d0d50ac2level0_row5\" class=\"row_heading level0 row5\" >5</th>\n",
       "                        <td id=\"T_0f7a3c4a_9cba_11ec_8d48_9cb6d0d50ac2row5_col0\" class=\"data row5 col0\" >218895</td>\n",
       "                        <td id=\"T_0f7a3c4a_9cba_11ec_8d48_9cb6d0d50ac2row5_col1\" class=\"data row5 col1\" >Kulas Inc</td>\n",
       "                        <td id=\"T_0f7a3c4a_9cba_11ec_8d48_9cb6d0d50ac2row5_col2\" class=\"data row5 col2\" >Daniel Hilton</td>\n",
       "                        <td id=\"T_0f7a3c4a_9cba_11ec_8d48_9cb6d0d50ac2row5_col3\" class=\"data row5 col3\" >Debra Henley</td>\n",
       "                        <td id=\"T_0f7a3c4a_9cba_11ec_8d48_9cb6d0d50ac2row5_col4\" class=\"data row5 col4\" >CPU</td>\n",
       "                        <td id=\"T_0f7a3c4a_9cba_11ec_8d48_9cb6d0d50ac2row5_col5\" class=\"data row5 col5\" >2</td>\n",
       "                        <td id=\"T_0f7a3c4a_9cba_11ec_8d48_9cb6d0d50ac2row5_col6\" class=\"data row5 col6\" >40000</td>\n",
       "                        <td id=\"T_0f7a3c4a_9cba_11ec_8d48_9cb6d0d50ac2row5_col7\" class=\"data row5 col7\" >pending</td>\n",
       "            </tr>\n",
       "            <tr>\n",
       "                        <th id=\"T_0f7a3c4a_9cba_11ec_8d48_9cb6d0d50ac2level0_row6\" class=\"row_heading level0 row6\" >6</th>\n",
       "                        <td id=\"T_0f7a3c4a_9cba_11ec_8d48_9cb6d0d50ac2row6_col0\" class=\"data row6 col0\" >218895</td>\n",
       "                        <td id=\"T_0f7a3c4a_9cba_11ec_8d48_9cb6d0d50ac2row6_col1\" class=\"data row6 col1\" >Kulas Inc</td>\n",
       "                        <td id=\"T_0f7a3c4a_9cba_11ec_8d48_9cb6d0d50ac2row6_col2\" class=\"data row6 col2\" >Daniel Hilton</td>\n",
       "                        <td id=\"T_0f7a3c4a_9cba_11ec_8d48_9cb6d0d50ac2row6_col3\" class=\"data row6 col3\" >Debra Henley</td>\n",
       "                        <td id=\"T_0f7a3c4a_9cba_11ec_8d48_9cb6d0d50ac2row6_col4\" class=\"data row6 col4\" >Software</td>\n",
       "                        <td id=\"T_0f7a3c4a_9cba_11ec_8d48_9cb6d0d50ac2row6_col5\" class=\"data row6 col5\" >1</td>\n",
       "                        <td id=\"T_0f7a3c4a_9cba_11ec_8d48_9cb6d0d50ac2row6_col6\" class=\"data row6 col6\" >10000</td>\n",
       "                        <td id=\"T_0f7a3c4a_9cba_11ec_8d48_9cb6d0d50ac2row6_col7\" class=\"data row6 col7\" >presented</td>\n",
       "            </tr>\n",
       "            <tr>\n",
       "                        <th id=\"T_0f7a3c4a_9cba_11ec_8d48_9cb6d0d50ac2level0_row7\" class=\"row_heading level0 row7\" >7</th>\n",
       "                        <td id=\"T_0f7a3c4a_9cba_11ec_8d48_9cb6d0d50ac2row7_col0\" class=\"data row7 col0\" >412290</td>\n",
       "                        <td id=\"T_0f7a3c4a_9cba_11ec_8d48_9cb6d0d50ac2row7_col1\" class=\"data row7 col1\" >Jerde-Hilpert</td>\n",
       "                        <td id=\"T_0f7a3c4a_9cba_11ec_8d48_9cb6d0d50ac2row7_col2\" class=\"data row7 col2\" >John Smith</td>\n",
       "                        <td id=\"T_0f7a3c4a_9cba_11ec_8d48_9cb6d0d50ac2row7_col3\" class=\"data row7 col3\" >Debra Henley</td>\n",
       "                        <td id=\"T_0f7a3c4a_9cba_11ec_8d48_9cb6d0d50ac2row7_col4\" class=\"data row7 col4\" >Maintenance</td>\n",
       "                        <td id=\"T_0f7a3c4a_9cba_11ec_8d48_9cb6d0d50ac2row7_col5\" class=\"data row7 col5\" >2</td>\n",
       "                        <td id=\"T_0f7a3c4a_9cba_11ec_8d48_9cb6d0d50ac2row7_col6\" class=\"data row7 col6\" >5000</td>\n",
       "                        <td id=\"T_0f7a3c4a_9cba_11ec_8d48_9cb6d0d50ac2row7_col7\" class=\"data row7 col7\" >pending</td>\n",
       "            </tr>\n",
       "            <tr>\n",
       "                        <th id=\"T_0f7a3c4a_9cba_11ec_8d48_9cb6d0d50ac2level0_row8\" class=\"row_heading level0 row8\" >8</th>\n",
       "                        <td id=\"T_0f7a3c4a_9cba_11ec_8d48_9cb6d0d50ac2row8_col0\" class=\"data row8 col0\" >740150</td>\n",
       "                        <td id=\"T_0f7a3c4a_9cba_11ec_8d48_9cb6d0d50ac2row8_col1\" class=\"data row8 col1\" >Barton LLC</td>\n",
       "                        <td id=\"T_0f7a3c4a_9cba_11ec_8d48_9cb6d0d50ac2row8_col2\" class=\"data row8 col2\" >John Smith</td>\n",
       "                        <td id=\"T_0f7a3c4a_9cba_11ec_8d48_9cb6d0d50ac2row8_col3\" class=\"data row8 col3\" >Debra Henley</td>\n",
       "                        <td id=\"T_0f7a3c4a_9cba_11ec_8d48_9cb6d0d50ac2row8_col4\" class=\"data row8 col4\" >CPU</td>\n",
       "                        <td id=\"T_0f7a3c4a_9cba_11ec_8d48_9cb6d0d50ac2row8_col5\" class=\"data row8 col5\" >1</td>\n",
       "                        <td id=\"T_0f7a3c4a_9cba_11ec_8d48_9cb6d0d50ac2row8_col6\" class=\"data row8 col6\" >35000</td>\n",
       "                        <td id=\"T_0f7a3c4a_9cba_11ec_8d48_9cb6d0d50ac2row8_col7\" class=\"data row8 col7\" >declined</td>\n",
       "            </tr>\n",
       "            <tr>\n",
       "                        <th id=\"T_0f7a3c4a_9cba_11ec_8d48_9cb6d0d50ac2level0_row9\" class=\"row_heading level0 row9\" >9</th>\n",
       "                        <td id=\"T_0f7a3c4a_9cba_11ec_8d48_9cb6d0d50ac2row9_col0\" class=\"data row9 col0\" >141962</td>\n",
       "                        <td id=\"T_0f7a3c4a_9cba_11ec_8d48_9cb6d0d50ac2row9_col1\" class=\"data row9 col1\" >Herman LLC</td>\n",
       "                        <td id=\"T_0f7a3c4a_9cba_11ec_8d48_9cb6d0d50ac2row9_col2\" class=\"data row9 col2\" >Cedric Moss</td>\n",
       "                        <td id=\"T_0f7a3c4a_9cba_11ec_8d48_9cb6d0d50ac2row9_col3\" class=\"data row9 col3\" >Fred Anderson</td>\n",
       "                        <td id=\"T_0f7a3c4a_9cba_11ec_8d48_9cb6d0d50ac2row9_col4\" class=\"data row9 col4\" >CPU</td>\n",
       "                        <td id=\"T_0f7a3c4a_9cba_11ec_8d48_9cb6d0d50ac2row9_col5\" class=\"data row9 col5\" >2</td>\n",
       "                        <td id=\"T_0f7a3c4a_9cba_11ec_8d48_9cb6d0d50ac2row9_col6\" class=\"data row9 col6\" >65000</td>\n",
       "                        <td id=\"T_0f7a3c4a_9cba_11ec_8d48_9cb6d0d50ac2row9_col7\" class=\"data row9 col7\" >won</td>\n",
       "            </tr>\n",
       "            <tr>\n",
       "                        <th id=\"T_0f7a3c4a_9cba_11ec_8d48_9cb6d0d50ac2level0_row10\" class=\"row_heading level0 row10\" >10</th>\n",
       "                        <td id=\"T_0f7a3c4a_9cba_11ec_8d48_9cb6d0d50ac2row10_col0\" class=\"data row10 col0\" >163416</td>\n",
       "                        <td id=\"T_0f7a3c4a_9cba_11ec_8d48_9cb6d0d50ac2row10_col1\" class=\"data row10 col1\" >Purdy-Kunde</td>\n",
       "                        <td id=\"T_0f7a3c4a_9cba_11ec_8d48_9cb6d0d50ac2row10_col2\" class=\"data row10 col2\" >Cedric Moss</td>\n",
       "                        <td id=\"T_0f7a3c4a_9cba_11ec_8d48_9cb6d0d50ac2row10_col3\" class=\"data row10 col3\" >Fred Anderson</td>\n",
       "                        <td id=\"T_0f7a3c4a_9cba_11ec_8d48_9cb6d0d50ac2row10_col4\" class=\"data row10 col4\" >CPU</td>\n",
       "                        <td id=\"T_0f7a3c4a_9cba_11ec_8d48_9cb6d0d50ac2row10_col5\" class=\"data row10 col5\" >1</td>\n",
       "                        <td id=\"T_0f7a3c4a_9cba_11ec_8d48_9cb6d0d50ac2row10_col6\" class=\"data row10 col6\" >30000</td>\n",
       "                        <td id=\"T_0f7a3c4a_9cba_11ec_8d48_9cb6d0d50ac2row10_col7\" class=\"data row10 col7\" >presented</td>\n",
       "            </tr>\n",
       "            <tr>\n",
       "                        <th id=\"T_0f7a3c4a_9cba_11ec_8d48_9cb6d0d50ac2level0_row11\" class=\"row_heading level0 row11\" >11</th>\n",
       "                        <td id=\"T_0f7a3c4a_9cba_11ec_8d48_9cb6d0d50ac2row11_col0\" class=\"data row11 col0\" >239344</td>\n",
       "                        <td id=\"T_0f7a3c4a_9cba_11ec_8d48_9cb6d0d50ac2row11_col1\" class=\"data row11 col1\" >Stokes LLC</td>\n",
       "                        <td id=\"T_0f7a3c4a_9cba_11ec_8d48_9cb6d0d50ac2row11_col2\" class=\"data row11 col2\" >Cedric Moss</td>\n",
       "                        <td id=\"T_0f7a3c4a_9cba_11ec_8d48_9cb6d0d50ac2row11_col3\" class=\"data row11 col3\" >Fred Anderson</td>\n",
       "                        <td id=\"T_0f7a3c4a_9cba_11ec_8d48_9cb6d0d50ac2row11_col4\" class=\"data row11 col4\" >Maintenance</td>\n",
       "                        <td id=\"T_0f7a3c4a_9cba_11ec_8d48_9cb6d0d50ac2row11_col5\" class=\"data row11 col5\" >1</td>\n",
       "                        <td id=\"T_0f7a3c4a_9cba_11ec_8d48_9cb6d0d50ac2row11_col6\" class=\"data row11 col6\" >5000</td>\n",
       "                        <td id=\"T_0f7a3c4a_9cba_11ec_8d48_9cb6d0d50ac2row11_col7\" class=\"data row11 col7\" >pending</td>\n",
       "            </tr>\n",
       "            <tr>\n",
       "                        <th id=\"T_0f7a3c4a_9cba_11ec_8d48_9cb6d0d50ac2level0_row12\" class=\"row_heading level0 row12\" >12</th>\n",
       "                        <td id=\"T_0f7a3c4a_9cba_11ec_8d48_9cb6d0d50ac2row12_col0\" class=\"data row12 col0\" >239344</td>\n",
       "                        <td id=\"T_0f7a3c4a_9cba_11ec_8d48_9cb6d0d50ac2row12_col1\" class=\"data row12 col1\" >Stokes LLC</td>\n",
       "                        <td id=\"T_0f7a3c4a_9cba_11ec_8d48_9cb6d0d50ac2row12_col2\" class=\"data row12 col2\" >Cedric Moss</td>\n",
       "                        <td id=\"T_0f7a3c4a_9cba_11ec_8d48_9cb6d0d50ac2row12_col3\" class=\"data row12 col3\" >Fred Anderson</td>\n",
       "                        <td id=\"T_0f7a3c4a_9cba_11ec_8d48_9cb6d0d50ac2row12_col4\" class=\"data row12 col4\" >Software</td>\n",
       "                        <td id=\"T_0f7a3c4a_9cba_11ec_8d48_9cb6d0d50ac2row12_col5\" class=\"data row12 col5\" >1</td>\n",
       "                        <td id=\"T_0f7a3c4a_9cba_11ec_8d48_9cb6d0d50ac2row12_col6\" class=\"data row12 col6\" >10000</td>\n",
       "                        <td id=\"T_0f7a3c4a_9cba_11ec_8d48_9cb6d0d50ac2row12_col7\" class=\"data row12 col7\" >presented</td>\n",
       "            </tr>\n",
       "            <tr>\n",
       "                        <th id=\"T_0f7a3c4a_9cba_11ec_8d48_9cb6d0d50ac2level0_row13\" class=\"row_heading level0 row13\" >13</th>\n",
       "                        <td id=\"T_0f7a3c4a_9cba_11ec_8d48_9cb6d0d50ac2row13_col0\" class=\"data row13 col0\" >307599</td>\n",
       "                        <td id=\"T_0f7a3c4a_9cba_11ec_8d48_9cb6d0d50ac2row13_col1\" class=\"data row13 col1\" >Kassulke, Ondricka and Metz</td>\n",
       "                        <td id=\"T_0f7a3c4a_9cba_11ec_8d48_9cb6d0d50ac2row13_col2\" class=\"data row13 col2\" >Wendy Yule</td>\n",
       "                        <td id=\"T_0f7a3c4a_9cba_11ec_8d48_9cb6d0d50ac2row13_col3\" class=\"data row13 col3\" >Fred Anderson</td>\n",
       "                        <td id=\"T_0f7a3c4a_9cba_11ec_8d48_9cb6d0d50ac2row13_col4\" class=\"data row13 col4\" >Maintenance</td>\n",
       "                        <td id=\"T_0f7a3c4a_9cba_11ec_8d48_9cb6d0d50ac2row13_col5\" class=\"data row13 col5\" >3</td>\n",
       "                        <td id=\"T_0f7a3c4a_9cba_11ec_8d48_9cb6d0d50ac2row13_col6\" class=\"data row13 col6\" >7000</td>\n",
       "                        <td id=\"T_0f7a3c4a_9cba_11ec_8d48_9cb6d0d50ac2row13_col7\" class=\"data row13 col7\" >won</td>\n",
       "            </tr>\n",
       "            <tr>\n",
       "                        <th id=\"T_0f7a3c4a_9cba_11ec_8d48_9cb6d0d50ac2level0_row14\" class=\"row_heading level0 row14\" >14</th>\n",
       "                        <td id=\"T_0f7a3c4a_9cba_11ec_8d48_9cb6d0d50ac2row14_col0\" class=\"data row14 col0\" >688981</td>\n",
       "                        <td id=\"T_0f7a3c4a_9cba_11ec_8d48_9cb6d0d50ac2row14_col1\" class=\"data row14 col1\" >Keeling LLC</td>\n",
       "                        <td id=\"T_0f7a3c4a_9cba_11ec_8d48_9cb6d0d50ac2row14_col2\" class=\"data row14 col2\" >Wendy Yule</td>\n",
       "                        <td id=\"T_0f7a3c4a_9cba_11ec_8d48_9cb6d0d50ac2row14_col3\" class=\"data row14 col3\" >Fred Anderson</td>\n",
       "                        <td id=\"T_0f7a3c4a_9cba_11ec_8d48_9cb6d0d50ac2row14_col4\" class=\"data row14 col4\" >CPU</td>\n",
       "                        <td id=\"T_0f7a3c4a_9cba_11ec_8d48_9cb6d0d50ac2row14_col5\" class=\"data row14 col5\" >5</td>\n",
       "                        <td id=\"T_0f7a3c4a_9cba_11ec_8d48_9cb6d0d50ac2row14_col6\" class=\"data row14 col6\" >100000</td>\n",
       "                        <td id=\"T_0f7a3c4a_9cba_11ec_8d48_9cb6d0d50ac2row14_col7\" class=\"data row14 col7\" >won</td>\n",
       "            </tr>\n",
       "            <tr>\n",
       "                        <th id=\"T_0f7a3c4a_9cba_11ec_8d48_9cb6d0d50ac2level0_row15\" class=\"row_heading level0 row15\" >15</th>\n",
       "                        <td id=\"T_0f7a3c4a_9cba_11ec_8d48_9cb6d0d50ac2row15_col0\" class=\"data row15 col0\" >729833</td>\n",
       "                        <td id=\"T_0f7a3c4a_9cba_11ec_8d48_9cb6d0d50ac2row15_col1\" class=\"data row15 col1\" >Koepp Ltd</td>\n",
       "                        <td id=\"T_0f7a3c4a_9cba_11ec_8d48_9cb6d0d50ac2row15_col2\" class=\"data row15 col2\" >Wendy Yule</td>\n",
       "                        <td id=\"T_0f7a3c4a_9cba_11ec_8d48_9cb6d0d50ac2row15_col3\" class=\"data row15 col3\" >Fred Anderson</td>\n",
       "                        <td id=\"T_0f7a3c4a_9cba_11ec_8d48_9cb6d0d50ac2row15_col4\" class=\"data row15 col4\" >CPU</td>\n",
       "                        <td id=\"T_0f7a3c4a_9cba_11ec_8d48_9cb6d0d50ac2row15_col5\" class=\"data row15 col5\" >2</td>\n",
       "                        <td id=\"T_0f7a3c4a_9cba_11ec_8d48_9cb6d0d50ac2row15_col6\" class=\"data row15 col6\" >65000</td>\n",
       "                        <td id=\"T_0f7a3c4a_9cba_11ec_8d48_9cb6d0d50ac2row15_col7\" class=\"data row15 col7\" >declined</td>\n",
       "            </tr>\n",
       "            <tr>\n",
       "                        <th id=\"T_0f7a3c4a_9cba_11ec_8d48_9cb6d0d50ac2level0_row16\" class=\"row_heading level0 row16\" >16</th>\n",
       "                        <td id=\"T_0f7a3c4a_9cba_11ec_8d48_9cb6d0d50ac2row16_col0\" class=\"data row16 col0\" >729833</td>\n",
       "                        <td id=\"T_0f7a3c4a_9cba_11ec_8d48_9cb6d0d50ac2row16_col1\" class=\"data row16 col1\" >Koepp Ltd</td>\n",
       "                        <td id=\"T_0f7a3c4a_9cba_11ec_8d48_9cb6d0d50ac2row16_col2\" class=\"data row16 col2\" >Wendy Yule</td>\n",
       "                        <td id=\"T_0f7a3c4a_9cba_11ec_8d48_9cb6d0d50ac2row16_col3\" class=\"data row16 col3\" >Fred Anderson</td>\n",
       "                        <td id=\"T_0f7a3c4a_9cba_11ec_8d48_9cb6d0d50ac2row16_col4\" class=\"data row16 col4\" >Monitor</td>\n",
       "                        <td id=\"T_0f7a3c4a_9cba_11ec_8d48_9cb6d0d50ac2row16_col5\" class=\"data row16 col5\" >2</td>\n",
       "                        <td id=\"T_0f7a3c4a_9cba_11ec_8d48_9cb6d0d50ac2row16_col6\" class=\"data row16 col6\" >5000</td>\n",
       "                        <td id=\"T_0f7a3c4a_9cba_11ec_8d48_9cb6d0d50ac2row16_col7\" class=\"data row16 col7\" >presented</td>\n",
       "            </tr>\n",
       "    </tbody></table>"
      ],
      "text/plain": [
       "<pandas.io.formats.style.Styler at 0x240ccfb3780>"
      ]
     },
     "execution_count": 39,
     "metadata": {},
     "output_type": "execute_result"
    }
   ],
   "source": [
    "df.style.set_properties(**{'background-color': 'black',\n",
    "                           'color': 'lawngreen',\n",
    "                           'border-color': 'white'})"
   ]
  },
  {
   "cell_type": "code",
   "execution_count": 40,
   "metadata": {
    "colab": {
     "base_uri": "https://localhost:8080/",
     "height": 397
    },
    "id": "1RDBy3lZIZT9",
    "outputId": "2580af1e-a84f-4c9e-8540-ef295ca4e07b",
    "scrolled": false
   },
   "outputs": [
    {
     "data": {
      "text/html": [
       "<style  type=\"text/css\" >\n",
       "    #T_0f85a746_9cba_11ec_a43c_9cb6d0d50ac2row0_col5 {\n",
       "            width:  10em;\n",
       "             height:  80%;\n",
       "        }    #T_0f85a746_9cba_11ec_a43c_9cb6d0d50ac2row0_col6 {\n",
       "            width:  10em;\n",
       "             height:  80%;\n",
       "            background:  linear-gradient(90deg,#d65f5f 26.3%, transparent 26.3%);\n",
       "        }    #T_0f85a746_9cba_11ec_a43c_9cb6d0d50ac2row1_col5 {\n",
       "            width:  10em;\n",
       "             height:  80%;\n",
       "        }    #T_0f85a746_9cba_11ec_a43c_9cb6d0d50ac2row1_col6 {\n",
       "            width:  10em;\n",
       "             height:  80%;\n",
       "            background:  linear-gradient(90deg,#d65f5f 5.3%, transparent 5.3%);\n",
       "        }    #T_0f85a746_9cba_11ec_a43c_9cb6d0d50ac2row2_col5 {\n",
       "            width:  10em;\n",
       "             height:  80%;\n",
       "            background:  linear-gradient(90deg,#d65f5f 25.0%, transparent 25.0%);\n",
       "        }    #T_0f85a746_9cba_11ec_a43c_9cb6d0d50ac2row2_col6 {\n",
       "            width:  10em;\n",
       "             height:  80%;\n",
       "        }    #T_0f85a746_9cba_11ec_a43c_9cb6d0d50ac2row3_col5 {\n",
       "            width:  10em;\n",
       "             height:  80%;\n",
       "        }    #T_0f85a746_9cba_11ec_a43c_9cb6d0d50ac2row3_col6 {\n",
       "            width:  10em;\n",
       "             height:  80%;\n",
       "            background:  linear-gradient(90deg,#d65f5f 31.6%, transparent 31.6%);\n",
       "        }    #T_0f85a746_9cba_11ec_a43c_9cb6d0d50ac2row4_col5 {\n",
       "            width:  10em;\n",
       "             height:  80%;\n",
       "            background:  linear-gradient(90deg,#d65f5f 25.0%, transparent 25.0%);\n",
       "        }    #T_0f85a746_9cba_11ec_a43c_9cb6d0d50ac2row4_col6 {\n",
       "            width:  10em;\n",
       "             height:  80%;\n",
       "            background:  linear-gradient(90deg,#d65f5f 63.2%, transparent 63.2%);\n",
       "        }    #T_0f85a746_9cba_11ec_a43c_9cb6d0d50ac2row5_col5 {\n",
       "            width:  10em;\n",
       "             height:  80%;\n",
       "            background:  linear-gradient(90deg,#d65f5f 25.0%, transparent 25.0%);\n",
       "        }    #T_0f85a746_9cba_11ec_a43c_9cb6d0d50ac2row5_col6 {\n",
       "            width:  10em;\n",
       "             height:  80%;\n",
       "            background:  linear-gradient(90deg,#d65f5f 36.8%, transparent 36.8%);\n",
       "        }    #T_0f85a746_9cba_11ec_a43c_9cb6d0d50ac2row6_col5 {\n",
       "            width:  10em;\n",
       "             height:  80%;\n",
       "        }    #T_0f85a746_9cba_11ec_a43c_9cb6d0d50ac2row6_col6 {\n",
       "            width:  10em;\n",
       "             height:  80%;\n",
       "            background:  linear-gradient(90deg,#d65f5f 5.3%, transparent 5.3%);\n",
       "        }    #T_0f85a746_9cba_11ec_a43c_9cb6d0d50ac2row7_col5 {\n",
       "            width:  10em;\n",
       "             height:  80%;\n",
       "            background:  linear-gradient(90deg,#d65f5f 25.0%, transparent 25.0%);\n",
       "        }    #T_0f85a746_9cba_11ec_a43c_9cb6d0d50ac2row7_col6 {\n",
       "            width:  10em;\n",
       "             height:  80%;\n",
       "        }    #T_0f85a746_9cba_11ec_a43c_9cb6d0d50ac2row8_col5 {\n",
       "            width:  10em;\n",
       "             height:  80%;\n",
       "        }    #T_0f85a746_9cba_11ec_a43c_9cb6d0d50ac2row8_col6 {\n",
       "            width:  10em;\n",
       "             height:  80%;\n",
       "            background:  linear-gradient(90deg,#d65f5f 31.6%, transparent 31.6%);\n",
       "        }    #T_0f85a746_9cba_11ec_a43c_9cb6d0d50ac2row9_col5 {\n",
       "            width:  10em;\n",
       "             height:  80%;\n",
       "            background:  linear-gradient(90deg,#d65f5f 25.0%, transparent 25.0%);\n",
       "        }    #T_0f85a746_9cba_11ec_a43c_9cb6d0d50ac2row9_col6 {\n",
       "            width:  10em;\n",
       "             height:  80%;\n",
       "            background:  linear-gradient(90deg,#d65f5f 63.2%, transparent 63.2%);\n",
       "        }    #T_0f85a746_9cba_11ec_a43c_9cb6d0d50ac2row10_col5 {\n",
       "            width:  10em;\n",
       "             height:  80%;\n",
       "        }    #T_0f85a746_9cba_11ec_a43c_9cb6d0d50ac2row10_col6 {\n",
       "            width:  10em;\n",
       "             height:  80%;\n",
       "            background:  linear-gradient(90deg,#d65f5f 26.3%, transparent 26.3%);\n",
       "        }    #T_0f85a746_9cba_11ec_a43c_9cb6d0d50ac2row11_col5 {\n",
       "            width:  10em;\n",
       "             height:  80%;\n",
       "        }    #T_0f85a746_9cba_11ec_a43c_9cb6d0d50ac2row11_col6 {\n",
       "            width:  10em;\n",
       "             height:  80%;\n",
       "        }    #T_0f85a746_9cba_11ec_a43c_9cb6d0d50ac2row12_col5 {\n",
       "            width:  10em;\n",
       "             height:  80%;\n",
       "        }    #T_0f85a746_9cba_11ec_a43c_9cb6d0d50ac2row12_col6 {\n",
       "            width:  10em;\n",
       "             height:  80%;\n",
       "            background:  linear-gradient(90deg,#d65f5f 5.3%, transparent 5.3%);\n",
       "        }    #T_0f85a746_9cba_11ec_a43c_9cb6d0d50ac2row13_col5 {\n",
       "            width:  10em;\n",
       "             height:  80%;\n",
       "            background:  linear-gradient(90deg,#d65f5f 50.0%, transparent 50.0%);\n",
       "        }    #T_0f85a746_9cba_11ec_a43c_9cb6d0d50ac2row13_col6 {\n",
       "            width:  10em;\n",
       "             height:  80%;\n",
       "            background:  linear-gradient(90deg,#d65f5f 2.1%, transparent 2.1%);\n",
       "        }    #T_0f85a746_9cba_11ec_a43c_9cb6d0d50ac2row14_col5 {\n",
       "            width:  10em;\n",
       "             height:  80%;\n",
       "            background:  linear-gradient(90deg,#d65f5f 100.0%, transparent 100.0%);\n",
       "        }    #T_0f85a746_9cba_11ec_a43c_9cb6d0d50ac2row14_col6 {\n",
       "            width:  10em;\n",
       "             height:  80%;\n",
       "            background:  linear-gradient(90deg,#d65f5f 100.0%, transparent 100.0%);\n",
       "        }    #T_0f85a746_9cba_11ec_a43c_9cb6d0d50ac2row15_col5 {\n",
       "            width:  10em;\n",
       "             height:  80%;\n",
       "            background:  linear-gradient(90deg,#d65f5f 25.0%, transparent 25.0%);\n",
       "        }    #T_0f85a746_9cba_11ec_a43c_9cb6d0d50ac2row15_col6 {\n",
       "            width:  10em;\n",
       "             height:  80%;\n",
       "            background:  linear-gradient(90deg,#d65f5f 63.2%, transparent 63.2%);\n",
       "        }    #T_0f85a746_9cba_11ec_a43c_9cb6d0d50ac2row16_col5 {\n",
       "            width:  10em;\n",
       "             height:  80%;\n",
       "            background:  linear-gradient(90deg,#d65f5f 25.0%, transparent 25.0%);\n",
       "        }    #T_0f85a746_9cba_11ec_a43c_9cb6d0d50ac2row16_col6 {\n",
       "            width:  10em;\n",
       "             height:  80%;\n",
       "        }</style><table id=\"T_0f85a746_9cba_11ec_a43c_9cb6d0d50ac2\" ><thead>    <tr>        <th class=\"blank level0\" ></th>        <th class=\"col_heading level0 col0\" >Account</th>        <th class=\"col_heading level0 col1\" >Name</th>        <th class=\"col_heading level0 col2\" >Rep</th>        <th class=\"col_heading level0 col3\" >Manager</th>        <th class=\"col_heading level0 col4\" >Product</th>        <th class=\"col_heading level0 col5\" >Quantity</th>        <th class=\"col_heading level0 col6\" >Price</th>        <th class=\"col_heading level0 col7\" >Status</th>    </tr></thead><tbody>\n",
       "                <tr>\n",
       "                        <th id=\"T_0f85a746_9cba_11ec_a43c_9cb6d0d50ac2level0_row0\" class=\"row_heading level0 row0\" >0</th>\n",
       "                        <td id=\"T_0f85a746_9cba_11ec_a43c_9cb6d0d50ac2row0_col0\" class=\"data row0 col0\" >714466</td>\n",
       "                        <td id=\"T_0f85a746_9cba_11ec_a43c_9cb6d0d50ac2row0_col1\" class=\"data row0 col1\" >Trantow-Barrows</td>\n",
       "                        <td id=\"T_0f85a746_9cba_11ec_a43c_9cb6d0d50ac2row0_col2\" class=\"data row0 col2\" >Craig Booker</td>\n",
       "                        <td id=\"T_0f85a746_9cba_11ec_a43c_9cb6d0d50ac2row0_col3\" class=\"data row0 col3\" >Debra Henley</td>\n",
       "                        <td id=\"T_0f85a746_9cba_11ec_a43c_9cb6d0d50ac2row0_col4\" class=\"data row0 col4\" >CPU</td>\n",
       "                        <td id=\"T_0f85a746_9cba_11ec_a43c_9cb6d0d50ac2row0_col5\" class=\"data row0 col5\" >1</td>\n",
       "                        <td id=\"T_0f85a746_9cba_11ec_a43c_9cb6d0d50ac2row0_col6\" class=\"data row0 col6\" >30000</td>\n",
       "                        <td id=\"T_0f85a746_9cba_11ec_a43c_9cb6d0d50ac2row0_col7\" class=\"data row0 col7\" >presented</td>\n",
       "            </tr>\n",
       "            <tr>\n",
       "                        <th id=\"T_0f85a746_9cba_11ec_a43c_9cb6d0d50ac2level0_row1\" class=\"row_heading level0 row1\" >1</th>\n",
       "                        <td id=\"T_0f85a746_9cba_11ec_a43c_9cb6d0d50ac2row1_col0\" class=\"data row1 col0\" >714466</td>\n",
       "                        <td id=\"T_0f85a746_9cba_11ec_a43c_9cb6d0d50ac2row1_col1\" class=\"data row1 col1\" >Trantow-Barrows</td>\n",
       "                        <td id=\"T_0f85a746_9cba_11ec_a43c_9cb6d0d50ac2row1_col2\" class=\"data row1 col2\" >Craig Booker</td>\n",
       "                        <td id=\"T_0f85a746_9cba_11ec_a43c_9cb6d0d50ac2row1_col3\" class=\"data row1 col3\" >Debra Henley</td>\n",
       "                        <td id=\"T_0f85a746_9cba_11ec_a43c_9cb6d0d50ac2row1_col4\" class=\"data row1 col4\" >Software</td>\n",
       "                        <td id=\"T_0f85a746_9cba_11ec_a43c_9cb6d0d50ac2row1_col5\" class=\"data row1 col5\" >1</td>\n",
       "                        <td id=\"T_0f85a746_9cba_11ec_a43c_9cb6d0d50ac2row1_col6\" class=\"data row1 col6\" >10000</td>\n",
       "                        <td id=\"T_0f85a746_9cba_11ec_a43c_9cb6d0d50ac2row1_col7\" class=\"data row1 col7\" >presented</td>\n",
       "            </tr>\n",
       "            <tr>\n",
       "                        <th id=\"T_0f85a746_9cba_11ec_a43c_9cb6d0d50ac2level0_row2\" class=\"row_heading level0 row2\" >2</th>\n",
       "                        <td id=\"T_0f85a746_9cba_11ec_a43c_9cb6d0d50ac2row2_col0\" class=\"data row2 col0\" >714466</td>\n",
       "                        <td id=\"T_0f85a746_9cba_11ec_a43c_9cb6d0d50ac2row2_col1\" class=\"data row2 col1\" >Trantow-Barrows</td>\n",
       "                        <td id=\"T_0f85a746_9cba_11ec_a43c_9cb6d0d50ac2row2_col2\" class=\"data row2 col2\" >Craig Booker</td>\n",
       "                        <td id=\"T_0f85a746_9cba_11ec_a43c_9cb6d0d50ac2row2_col3\" class=\"data row2 col3\" >Debra Henley</td>\n",
       "                        <td id=\"T_0f85a746_9cba_11ec_a43c_9cb6d0d50ac2row2_col4\" class=\"data row2 col4\" >Maintenance</td>\n",
       "                        <td id=\"T_0f85a746_9cba_11ec_a43c_9cb6d0d50ac2row2_col5\" class=\"data row2 col5\" >2</td>\n",
       "                        <td id=\"T_0f85a746_9cba_11ec_a43c_9cb6d0d50ac2row2_col6\" class=\"data row2 col6\" >5000</td>\n",
       "                        <td id=\"T_0f85a746_9cba_11ec_a43c_9cb6d0d50ac2row2_col7\" class=\"data row2 col7\" >pending</td>\n",
       "            </tr>\n",
       "            <tr>\n",
       "                        <th id=\"T_0f85a746_9cba_11ec_a43c_9cb6d0d50ac2level0_row3\" class=\"row_heading level0 row3\" >3</th>\n",
       "                        <td id=\"T_0f85a746_9cba_11ec_a43c_9cb6d0d50ac2row3_col0\" class=\"data row3 col0\" >737550</td>\n",
       "                        <td id=\"T_0f85a746_9cba_11ec_a43c_9cb6d0d50ac2row3_col1\" class=\"data row3 col1\" >Fritsch, Russel and Anderson</td>\n",
       "                        <td id=\"T_0f85a746_9cba_11ec_a43c_9cb6d0d50ac2row3_col2\" class=\"data row3 col2\" >Craig Booker</td>\n",
       "                        <td id=\"T_0f85a746_9cba_11ec_a43c_9cb6d0d50ac2row3_col3\" class=\"data row3 col3\" >Debra Henley</td>\n",
       "                        <td id=\"T_0f85a746_9cba_11ec_a43c_9cb6d0d50ac2row3_col4\" class=\"data row3 col4\" >CPU</td>\n",
       "                        <td id=\"T_0f85a746_9cba_11ec_a43c_9cb6d0d50ac2row3_col5\" class=\"data row3 col5\" >1</td>\n",
       "                        <td id=\"T_0f85a746_9cba_11ec_a43c_9cb6d0d50ac2row3_col6\" class=\"data row3 col6\" >35000</td>\n",
       "                        <td id=\"T_0f85a746_9cba_11ec_a43c_9cb6d0d50ac2row3_col7\" class=\"data row3 col7\" >declined</td>\n",
       "            </tr>\n",
       "            <tr>\n",
       "                        <th id=\"T_0f85a746_9cba_11ec_a43c_9cb6d0d50ac2level0_row4\" class=\"row_heading level0 row4\" >4</th>\n",
       "                        <td id=\"T_0f85a746_9cba_11ec_a43c_9cb6d0d50ac2row4_col0\" class=\"data row4 col0\" >146832</td>\n",
       "                        <td id=\"T_0f85a746_9cba_11ec_a43c_9cb6d0d50ac2row4_col1\" class=\"data row4 col1\" >Kiehn-Spinka</td>\n",
       "                        <td id=\"T_0f85a746_9cba_11ec_a43c_9cb6d0d50ac2row4_col2\" class=\"data row4 col2\" >Daniel Hilton</td>\n",
       "                        <td id=\"T_0f85a746_9cba_11ec_a43c_9cb6d0d50ac2row4_col3\" class=\"data row4 col3\" >Debra Henley</td>\n",
       "                        <td id=\"T_0f85a746_9cba_11ec_a43c_9cb6d0d50ac2row4_col4\" class=\"data row4 col4\" >CPU</td>\n",
       "                        <td id=\"T_0f85a746_9cba_11ec_a43c_9cb6d0d50ac2row4_col5\" class=\"data row4 col5\" >2</td>\n",
       "                        <td id=\"T_0f85a746_9cba_11ec_a43c_9cb6d0d50ac2row4_col6\" class=\"data row4 col6\" >65000</td>\n",
       "                        <td id=\"T_0f85a746_9cba_11ec_a43c_9cb6d0d50ac2row4_col7\" class=\"data row4 col7\" >won</td>\n",
       "            </tr>\n",
       "            <tr>\n",
       "                        <th id=\"T_0f85a746_9cba_11ec_a43c_9cb6d0d50ac2level0_row5\" class=\"row_heading level0 row5\" >5</th>\n",
       "                        <td id=\"T_0f85a746_9cba_11ec_a43c_9cb6d0d50ac2row5_col0\" class=\"data row5 col0\" >218895</td>\n",
       "                        <td id=\"T_0f85a746_9cba_11ec_a43c_9cb6d0d50ac2row5_col1\" class=\"data row5 col1\" >Kulas Inc</td>\n",
       "                        <td id=\"T_0f85a746_9cba_11ec_a43c_9cb6d0d50ac2row5_col2\" class=\"data row5 col2\" >Daniel Hilton</td>\n",
       "                        <td id=\"T_0f85a746_9cba_11ec_a43c_9cb6d0d50ac2row5_col3\" class=\"data row5 col3\" >Debra Henley</td>\n",
       "                        <td id=\"T_0f85a746_9cba_11ec_a43c_9cb6d0d50ac2row5_col4\" class=\"data row5 col4\" >CPU</td>\n",
       "                        <td id=\"T_0f85a746_9cba_11ec_a43c_9cb6d0d50ac2row5_col5\" class=\"data row5 col5\" >2</td>\n",
       "                        <td id=\"T_0f85a746_9cba_11ec_a43c_9cb6d0d50ac2row5_col6\" class=\"data row5 col6\" >40000</td>\n",
       "                        <td id=\"T_0f85a746_9cba_11ec_a43c_9cb6d0d50ac2row5_col7\" class=\"data row5 col7\" >pending</td>\n",
       "            </tr>\n",
       "            <tr>\n",
       "                        <th id=\"T_0f85a746_9cba_11ec_a43c_9cb6d0d50ac2level0_row6\" class=\"row_heading level0 row6\" >6</th>\n",
       "                        <td id=\"T_0f85a746_9cba_11ec_a43c_9cb6d0d50ac2row6_col0\" class=\"data row6 col0\" >218895</td>\n",
       "                        <td id=\"T_0f85a746_9cba_11ec_a43c_9cb6d0d50ac2row6_col1\" class=\"data row6 col1\" >Kulas Inc</td>\n",
       "                        <td id=\"T_0f85a746_9cba_11ec_a43c_9cb6d0d50ac2row6_col2\" class=\"data row6 col2\" >Daniel Hilton</td>\n",
       "                        <td id=\"T_0f85a746_9cba_11ec_a43c_9cb6d0d50ac2row6_col3\" class=\"data row6 col3\" >Debra Henley</td>\n",
       "                        <td id=\"T_0f85a746_9cba_11ec_a43c_9cb6d0d50ac2row6_col4\" class=\"data row6 col4\" >Software</td>\n",
       "                        <td id=\"T_0f85a746_9cba_11ec_a43c_9cb6d0d50ac2row6_col5\" class=\"data row6 col5\" >1</td>\n",
       "                        <td id=\"T_0f85a746_9cba_11ec_a43c_9cb6d0d50ac2row6_col6\" class=\"data row6 col6\" >10000</td>\n",
       "                        <td id=\"T_0f85a746_9cba_11ec_a43c_9cb6d0d50ac2row6_col7\" class=\"data row6 col7\" >presented</td>\n",
       "            </tr>\n",
       "            <tr>\n",
       "                        <th id=\"T_0f85a746_9cba_11ec_a43c_9cb6d0d50ac2level0_row7\" class=\"row_heading level0 row7\" >7</th>\n",
       "                        <td id=\"T_0f85a746_9cba_11ec_a43c_9cb6d0d50ac2row7_col0\" class=\"data row7 col0\" >412290</td>\n",
       "                        <td id=\"T_0f85a746_9cba_11ec_a43c_9cb6d0d50ac2row7_col1\" class=\"data row7 col1\" >Jerde-Hilpert</td>\n",
       "                        <td id=\"T_0f85a746_9cba_11ec_a43c_9cb6d0d50ac2row7_col2\" class=\"data row7 col2\" >John Smith</td>\n",
       "                        <td id=\"T_0f85a746_9cba_11ec_a43c_9cb6d0d50ac2row7_col3\" class=\"data row7 col3\" >Debra Henley</td>\n",
       "                        <td id=\"T_0f85a746_9cba_11ec_a43c_9cb6d0d50ac2row7_col4\" class=\"data row7 col4\" >Maintenance</td>\n",
       "                        <td id=\"T_0f85a746_9cba_11ec_a43c_9cb6d0d50ac2row7_col5\" class=\"data row7 col5\" >2</td>\n",
       "                        <td id=\"T_0f85a746_9cba_11ec_a43c_9cb6d0d50ac2row7_col6\" class=\"data row7 col6\" >5000</td>\n",
       "                        <td id=\"T_0f85a746_9cba_11ec_a43c_9cb6d0d50ac2row7_col7\" class=\"data row7 col7\" >pending</td>\n",
       "            </tr>\n",
       "            <tr>\n",
       "                        <th id=\"T_0f85a746_9cba_11ec_a43c_9cb6d0d50ac2level0_row8\" class=\"row_heading level0 row8\" >8</th>\n",
       "                        <td id=\"T_0f85a746_9cba_11ec_a43c_9cb6d0d50ac2row8_col0\" class=\"data row8 col0\" >740150</td>\n",
       "                        <td id=\"T_0f85a746_9cba_11ec_a43c_9cb6d0d50ac2row8_col1\" class=\"data row8 col1\" >Barton LLC</td>\n",
       "                        <td id=\"T_0f85a746_9cba_11ec_a43c_9cb6d0d50ac2row8_col2\" class=\"data row8 col2\" >John Smith</td>\n",
       "                        <td id=\"T_0f85a746_9cba_11ec_a43c_9cb6d0d50ac2row8_col3\" class=\"data row8 col3\" >Debra Henley</td>\n",
       "                        <td id=\"T_0f85a746_9cba_11ec_a43c_9cb6d0d50ac2row8_col4\" class=\"data row8 col4\" >CPU</td>\n",
       "                        <td id=\"T_0f85a746_9cba_11ec_a43c_9cb6d0d50ac2row8_col5\" class=\"data row8 col5\" >1</td>\n",
       "                        <td id=\"T_0f85a746_9cba_11ec_a43c_9cb6d0d50ac2row8_col6\" class=\"data row8 col6\" >35000</td>\n",
       "                        <td id=\"T_0f85a746_9cba_11ec_a43c_9cb6d0d50ac2row8_col7\" class=\"data row8 col7\" >declined</td>\n",
       "            </tr>\n",
       "            <tr>\n",
       "                        <th id=\"T_0f85a746_9cba_11ec_a43c_9cb6d0d50ac2level0_row9\" class=\"row_heading level0 row9\" >9</th>\n",
       "                        <td id=\"T_0f85a746_9cba_11ec_a43c_9cb6d0d50ac2row9_col0\" class=\"data row9 col0\" >141962</td>\n",
       "                        <td id=\"T_0f85a746_9cba_11ec_a43c_9cb6d0d50ac2row9_col1\" class=\"data row9 col1\" >Herman LLC</td>\n",
       "                        <td id=\"T_0f85a746_9cba_11ec_a43c_9cb6d0d50ac2row9_col2\" class=\"data row9 col2\" >Cedric Moss</td>\n",
       "                        <td id=\"T_0f85a746_9cba_11ec_a43c_9cb6d0d50ac2row9_col3\" class=\"data row9 col3\" >Fred Anderson</td>\n",
       "                        <td id=\"T_0f85a746_9cba_11ec_a43c_9cb6d0d50ac2row9_col4\" class=\"data row9 col4\" >CPU</td>\n",
       "                        <td id=\"T_0f85a746_9cba_11ec_a43c_9cb6d0d50ac2row9_col5\" class=\"data row9 col5\" >2</td>\n",
       "                        <td id=\"T_0f85a746_9cba_11ec_a43c_9cb6d0d50ac2row9_col6\" class=\"data row9 col6\" >65000</td>\n",
       "                        <td id=\"T_0f85a746_9cba_11ec_a43c_9cb6d0d50ac2row9_col7\" class=\"data row9 col7\" >won</td>\n",
       "            </tr>\n",
       "            <tr>\n",
       "                        <th id=\"T_0f85a746_9cba_11ec_a43c_9cb6d0d50ac2level0_row10\" class=\"row_heading level0 row10\" >10</th>\n",
       "                        <td id=\"T_0f85a746_9cba_11ec_a43c_9cb6d0d50ac2row10_col0\" class=\"data row10 col0\" >163416</td>\n",
       "                        <td id=\"T_0f85a746_9cba_11ec_a43c_9cb6d0d50ac2row10_col1\" class=\"data row10 col1\" >Purdy-Kunde</td>\n",
       "                        <td id=\"T_0f85a746_9cba_11ec_a43c_9cb6d0d50ac2row10_col2\" class=\"data row10 col2\" >Cedric Moss</td>\n",
       "                        <td id=\"T_0f85a746_9cba_11ec_a43c_9cb6d0d50ac2row10_col3\" class=\"data row10 col3\" >Fred Anderson</td>\n",
       "                        <td id=\"T_0f85a746_9cba_11ec_a43c_9cb6d0d50ac2row10_col4\" class=\"data row10 col4\" >CPU</td>\n",
       "                        <td id=\"T_0f85a746_9cba_11ec_a43c_9cb6d0d50ac2row10_col5\" class=\"data row10 col5\" >1</td>\n",
       "                        <td id=\"T_0f85a746_9cba_11ec_a43c_9cb6d0d50ac2row10_col6\" class=\"data row10 col6\" >30000</td>\n",
       "                        <td id=\"T_0f85a746_9cba_11ec_a43c_9cb6d0d50ac2row10_col7\" class=\"data row10 col7\" >presented</td>\n",
       "            </tr>\n",
       "            <tr>\n",
       "                        <th id=\"T_0f85a746_9cba_11ec_a43c_9cb6d0d50ac2level0_row11\" class=\"row_heading level0 row11\" >11</th>\n",
       "                        <td id=\"T_0f85a746_9cba_11ec_a43c_9cb6d0d50ac2row11_col0\" class=\"data row11 col0\" >239344</td>\n",
       "                        <td id=\"T_0f85a746_9cba_11ec_a43c_9cb6d0d50ac2row11_col1\" class=\"data row11 col1\" >Stokes LLC</td>\n",
       "                        <td id=\"T_0f85a746_9cba_11ec_a43c_9cb6d0d50ac2row11_col2\" class=\"data row11 col2\" >Cedric Moss</td>\n",
       "                        <td id=\"T_0f85a746_9cba_11ec_a43c_9cb6d0d50ac2row11_col3\" class=\"data row11 col3\" >Fred Anderson</td>\n",
       "                        <td id=\"T_0f85a746_9cba_11ec_a43c_9cb6d0d50ac2row11_col4\" class=\"data row11 col4\" >Maintenance</td>\n",
       "                        <td id=\"T_0f85a746_9cba_11ec_a43c_9cb6d0d50ac2row11_col5\" class=\"data row11 col5\" >1</td>\n",
       "                        <td id=\"T_0f85a746_9cba_11ec_a43c_9cb6d0d50ac2row11_col6\" class=\"data row11 col6\" >5000</td>\n",
       "                        <td id=\"T_0f85a746_9cba_11ec_a43c_9cb6d0d50ac2row11_col7\" class=\"data row11 col7\" >pending</td>\n",
       "            </tr>\n",
       "            <tr>\n",
       "                        <th id=\"T_0f85a746_9cba_11ec_a43c_9cb6d0d50ac2level0_row12\" class=\"row_heading level0 row12\" >12</th>\n",
       "                        <td id=\"T_0f85a746_9cba_11ec_a43c_9cb6d0d50ac2row12_col0\" class=\"data row12 col0\" >239344</td>\n",
       "                        <td id=\"T_0f85a746_9cba_11ec_a43c_9cb6d0d50ac2row12_col1\" class=\"data row12 col1\" >Stokes LLC</td>\n",
       "                        <td id=\"T_0f85a746_9cba_11ec_a43c_9cb6d0d50ac2row12_col2\" class=\"data row12 col2\" >Cedric Moss</td>\n",
       "                        <td id=\"T_0f85a746_9cba_11ec_a43c_9cb6d0d50ac2row12_col3\" class=\"data row12 col3\" >Fred Anderson</td>\n",
       "                        <td id=\"T_0f85a746_9cba_11ec_a43c_9cb6d0d50ac2row12_col4\" class=\"data row12 col4\" >Software</td>\n",
       "                        <td id=\"T_0f85a746_9cba_11ec_a43c_9cb6d0d50ac2row12_col5\" class=\"data row12 col5\" >1</td>\n",
       "                        <td id=\"T_0f85a746_9cba_11ec_a43c_9cb6d0d50ac2row12_col6\" class=\"data row12 col6\" >10000</td>\n",
       "                        <td id=\"T_0f85a746_9cba_11ec_a43c_9cb6d0d50ac2row12_col7\" class=\"data row12 col7\" >presented</td>\n",
       "            </tr>\n",
       "            <tr>\n",
       "                        <th id=\"T_0f85a746_9cba_11ec_a43c_9cb6d0d50ac2level0_row13\" class=\"row_heading level0 row13\" >13</th>\n",
       "                        <td id=\"T_0f85a746_9cba_11ec_a43c_9cb6d0d50ac2row13_col0\" class=\"data row13 col0\" >307599</td>\n",
       "                        <td id=\"T_0f85a746_9cba_11ec_a43c_9cb6d0d50ac2row13_col1\" class=\"data row13 col1\" >Kassulke, Ondricka and Metz</td>\n",
       "                        <td id=\"T_0f85a746_9cba_11ec_a43c_9cb6d0d50ac2row13_col2\" class=\"data row13 col2\" >Wendy Yule</td>\n",
       "                        <td id=\"T_0f85a746_9cba_11ec_a43c_9cb6d0d50ac2row13_col3\" class=\"data row13 col3\" >Fred Anderson</td>\n",
       "                        <td id=\"T_0f85a746_9cba_11ec_a43c_9cb6d0d50ac2row13_col4\" class=\"data row13 col4\" >Maintenance</td>\n",
       "                        <td id=\"T_0f85a746_9cba_11ec_a43c_9cb6d0d50ac2row13_col5\" class=\"data row13 col5\" >3</td>\n",
       "                        <td id=\"T_0f85a746_9cba_11ec_a43c_9cb6d0d50ac2row13_col6\" class=\"data row13 col6\" >7000</td>\n",
       "                        <td id=\"T_0f85a746_9cba_11ec_a43c_9cb6d0d50ac2row13_col7\" class=\"data row13 col7\" >won</td>\n",
       "            </tr>\n",
       "            <tr>\n",
       "                        <th id=\"T_0f85a746_9cba_11ec_a43c_9cb6d0d50ac2level0_row14\" class=\"row_heading level0 row14\" >14</th>\n",
       "                        <td id=\"T_0f85a746_9cba_11ec_a43c_9cb6d0d50ac2row14_col0\" class=\"data row14 col0\" >688981</td>\n",
       "                        <td id=\"T_0f85a746_9cba_11ec_a43c_9cb6d0d50ac2row14_col1\" class=\"data row14 col1\" >Keeling LLC</td>\n",
       "                        <td id=\"T_0f85a746_9cba_11ec_a43c_9cb6d0d50ac2row14_col2\" class=\"data row14 col2\" >Wendy Yule</td>\n",
       "                        <td id=\"T_0f85a746_9cba_11ec_a43c_9cb6d0d50ac2row14_col3\" class=\"data row14 col3\" >Fred Anderson</td>\n",
       "                        <td id=\"T_0f85a746_9cba_11ec_a43c_9cb6d0d50ac2row14_col4\" class=\"data row14 col4\" >CPU</td>\n",
       "                        <td id=\"T_0f85a746_9cba_11ec_a43c_9cb6d0d50ac2row14_col5\" class=\"data row14 col5\" >5</td>\n",
       "                        <td id=\"T_0f85a746_9cba_11ec_a43c_9cb6d0d50ac2row14_col6\" class=\"data row14 col6\" >100000</td>\n",
       "                        <td id=\"T_0f85a746_9cba_11ec_a43c_9cb6d0d50ac2row14_col7\" class=\"data row14 col7\" >won</td>\n",
       "            </tr>\n",
       "            <tr>\n",
       "                        <th id=\"T_0f85a746_9cba_11ec_a43c_9cb6d0d50ac2level0_row15\" class=\"row_heading level0 row15\" >15</th>\n",
       "                        <td id=\"T_0f85a746_9cba_11ec_a43c_9cb6d0d50ac2row15_col0\" class=\"data row15 col0\" >729833</td>\n",
       "                        <td id=\"T_0f85a746_9cba_11ec_a43c_9cb6d0d50ac2row15_col1\" class=\"data row15 col1\" >Koepp Ltd</td>\n",
       "                        <td id=\"T_0f85a746_9cba_11ec_a43c_9cb6d0d50ac2row15_col2\" class=\"data row15 col2\" >Wendy Yule</td>\n",
       "                        <td id=\"T_0f85a746_9cba_11ec_a43c_9cb6d0d50ac2row15_col3\" class=\"data row15 col3\" >Fred Anderson</td>\n",
       "                        <td id=\"T_0f85a746_9cba_11ec_a43c_9cb6d0d50ac2row15_col4\" class=\"data row15 col4\" >CPU</td>\n",
       "                        <td id=\"T_0f85a746_9cba_11ec_a43c_9cb6d0d50ac2row15_col5\" class=\"data row15 col5\" >2</td>\n",
       "                        <td id=\"T_0f85a746_9cba_11ec_a43c_9cb6d0d50ac2row15_col6\" class=\"data row15 col6\" >65000</td>\n",
       "                        <td id=\"T_0f85a746_9cba_11ec_a43c_9cb6d0d50ac2row15_col7\" class=\"data row15 col7\" >declined</td>\n",
       "            </tr>\n",
       "            <tr>\n",
       "                        <th id=\"T_0f85a746_9cba_11ec_a43c_9cb6d0d50ac2level0_row16\" class=\"row_heading level0 row16\" >16</th>\n",
       "                        <td id=\"T_0f85a746_9cba_11ec_a43c_9cb6d0d50ac2row16_col0\" class=\"data row16 col0\" >729833</td>\n",
       "                        <td id=\"T_0f85a746_9cba_11ec_a43c_9cb6d0d50ac2row16_col1\" class=\"data row16 col1\" >Koepp Ltd</td>\n",
       "                        <td id=\"T_0f85a746_9cba_11ec_a43c_9cb6d0d50ac2row16_col2\" class=\"data row16 col2\" >Wendy Yule</td>\n",
       "                        <td id=\"T_0f85a746_9cba_11ec_a43c_9cb6d0d50ac2row16_col3\" class=\"data row16 col3\" >Fred Anderson</td>\n",
       "                        <td id=\"T_0f85a746_9cba_11ec_a43c_9cb6d0d50ac2row16_col4\" class=\"data row16 col4\" >Monitor</td>\n",
       "                        <td id=\"T_0f85a746_9cba_11ec_a43c_9cb6d0d50ac2row16_col5\" class=\"data row16 col5\" >2</td>\n",
       "                        <td id=\"T_0f85a746_9cba_11ec_a43c_9cb6d0d50ac2row16_col6\" class=\"data row16 col6\" >5000</td>\n",
       "                        <td id=\"T_0f85a746_9cba_11ec_a43c_9cb6d0d50ac2row16_col7\" class=\"data row16 col7\" >presented</td>\n",
       "            </tr>\n",
       "    </tbody></table>"
      ],
      "text/plain": [
       "<pandas.io.formats.style.Styler at 0x240cda32048>"
      ]
     },
     "execution_count": 40,
     "metadata": {},
     "output_type": "execute_result"
    }
   ],
   "source": [
    "df.style.bar(subset=['Price', 'Quantity'], color='#d65f5f')"
   ]
  }
 ],
 "metadata": {
  "colab": {
   "collapsed_sections": [
    "JndnmDMp66FL",
    "YHIWvc9Ms-Ll"
   ],
   "name": "Pandas - Intro.ipynb",
   "provenance": []
  },
  "kernelspec": {
   "display_name": "Python 3 (ipykernel)",
   "language": "python",
   "name": "python3"
  },
  "language_info": {
   "codemirror_mode": {
    "name": "ipython",
    "version": 3
   },
   "file_extension": ".py",
   "mimetype": "text/x-python",
   "name": "python",
   "nbconvert_exporter": "python",
   "pygments_lexer": "ipython3",
   "version": "3.7.3"
  }
 },
 "nbformat": 4,
 "nbformat_minor": 1
}
